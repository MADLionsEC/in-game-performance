{
 "cells": [
  {
   "cell_type": "code",
   "execution_count": 125,
   "metadata": {},
   "outputs": [],
   "source": [
    "from sklearn.feature_selection.variance_threshold import VarianceThreshold\n",
    "from sklearn.ensemble import ExtraTreesClassifier\n",
    "from sklearn.feature_selection import SelectKBest, chi2, RFE\n",
    "from sklearn.cluster import KMeans\n",
    "from sklearn.linear_model import LogisticRegression\n",
    "from pandas import read_excel, concat, DataFrame\n",
    "\n",
    "import warnings\n",
    "warnings.filterwarnings('ignore')"
   ]
  },
  {
   "cell_type": "code",
   "execution_count": 2,
   "metadata": {},
   "outputs": [],
   "source": [
    "slo_df = read_excel('data/slo_dataset.xlsx')"
   ]
  },
  {
   "cell_type": "code",
   "execution_count": 3,
   "metadata": {},
   "outputs": [],
   "source": [
    "slo_df.drop(['player_name', 'season', 'split', 'team_name'], axis=1, inplace=True)"
   ]
  },
  {
   "cell_type": "code",
   "execution_count": 4,
   "metadata": {},
   "outputs": [],
   "source": [
    "lck_df = read_excel('data/lck_s8_dataset.xlsx')"
   ]
  },
  {
   "cell_type": "code",
   "execution_count": 5,
   "metadata": {},
   "outputs": [
    {
     "data": {
      "text/plain": [
       "((4750, 151), (2000, 151))"
      ]
     },
     "execution_count": 5,
     "metadata": {},
     "output_type": "execute_result"
    }
   ],
   "source": [
    "lck_df.shape, slo_df.shape"
   ]
  },
  {
   "cell_type": "code",
   "execution_count": 6,
   "metadata": {},
   "outputs": [],
   "source": [
    "slo_df = concat([slo_df, lck_df])"
   ]
  },
  {
   "cell_type": "code",
   "execution_count": 7,
   "metadata": {},
   "outputs": [],
   "source": [
    "slo_df.reset_index(drop=True, inplace=True)"
   ]
  },
  {
   "cell_type": "code",
   "execution_count": 116,
   "metadata": {},
   "outputs": [
    {
     "data": {
      "text/plain": [
       "array(['8.4', '8.10', '8.5', '8.3', '8.13', '8.12', '8.11', '8.2', '8.14',\n",
       "       '8.16', '8.15', '8.1', '8.6'], dtype=object)"
      ]
     },
     "execution_count": 116,
     "metadata": {},
     "output_type": "execute_result"
    }
   ],
   "source": [
    "Series((slo_df.gameVersion)).apply(lambda x: x.split('.')[0] + '.' + x.split('.')[1]).unique()"
   ]
  },
  {
   "cell_type": "code",
   "execution_count": 8,
   "metadata": {},
   "outputs": [],
   "source": [
    "numerics = ['int16', 'int32', 'int64', 'float16', 'float32', 'float64']"
   ]
  },
  {
   "cell_type": "code",
   "execution_count": 9,
   "metadata": {},
   "outputs": [],
   "source": [
    "stats_df = slo_df.select_dtypes(include=numerics)"
   ]
  },
  {
   "cell_type": "markdown",
   "metadata": {},
   "source": [
    "### Removing identifiers"
   ]
  },
  {
   "cell_type": "code",
   "execution_count": 10,
   "metadata": {},
   "outputs": [],
   "source": [
    "stats_df.drop([col for col in stats_df.columns if 'Id' in col], axis=1, inplace=True)"
   ]
  },
  {
   "cell_type": "markdown",
   "metadata": {},
   "source": [
    "### Removing useless numeric columns"
   ]
  },
  {
   "cell_type": "code",
   "execution_count": 11,
   "metadata": {},
   "outputs": [],
   "source": [
    "stats_df.drop(['champLevel'], axis=1, inplace=True)"
   ]
  },
  {
   "cell_type": "markdown",
   "metadata": {},
   "source": [
    "### Normalizing the rest of the stats by time"
   ]
  },
  {
   "cell_type": "markdown",
   "metadata": {},
   "source": [
    "#### Transform game duration format into minutes"
   ]
  },
  {
   "cell_type": "code",
   "execution_count": 12,
   "metadata": {},
   "outputs": [],
   "source": [
    "stats_df['gameDuration_in_minutes'] = stats_df.gameDuration / 60"
   ]
  },
  {
   "cell_type": "markdown",
   "metadata": {},
   "source": [
    "### Exclude columns that aren't affected by time"
   ]
  },
  {
   "cell_type": "code",
   "execution_count": 13,
   "metadata": {},
   "outputs": [],
   "source": [
    "stats_to_normalize = [col for col in stats_df.columns if '_at_' not in col and 'tt' not in col and 'gameDuration' not in col]"
   ]
  },
  {
   "cell_type": "code",
   "execution_count": 75,
   "metadata": {},
   "outputs": [],
   "source": [
    "stats_normalized_df = stats_df[stats_to_normalize].apply(lambda x: x / stats_df.gameDuration_in_minutes)"
   ]
  },
  {
   "cell_type": "code",
   "execution_count": 76,
   "metadata": {},
   "outputs": [],
   "source": [
    "not_time_affected_stats_df = stats_df[[col for col in stats_df.columns if '_at_' in col or 'tt' in col]]"
   ]
  },
  {
   "cell_type": "markdown",
   "metadata": {},
   "source": [
    "### Now add them again"
   ]
  },
  {
   "cell_type": "code",
   "execution_count": 77,
   "metadata": {},
   "outputs": [],
   "source": [
    "stats_normalized_df = concat([stats_normalized_df, not_time_affected_stats_df], axis=1)"
   ]
  },
  {
   "cell_type": "markdown",
   "metadata": {},
   "source": [
    "### Add champ names transformed to dummies"
   ]
  },
  {
   "cell_type": "code",
   "execution_count": 78,
   "metadata": {},
   "outputs": [],
   "source": [
    "champ_dummies = slo_df.champ_name.str.get_dummies()"
   ]
  },
  {
   "cell_type": "code",
   "execution_count": 79,
   "metadata": {},
   "outputs": [],
   "source": [
    "stats_normalized_df = concat([stats_normalized_df, champ_dummies], axis=1)"
   ]
  },
  {
   "cell_type": "markdown",
   "metadata": {},
   "source": [
    "### Clustering playstyles by position and feature selection for each cluster in each position"
   ]
  },
  {
   "cell_type": "code",
   "execution_count": 81,
   "metadata": {},
   "outputs": [],
   "source": [
    "positions = slo_df.position.unique().tolist()"
   ]
  },
  {
   "cell_type": "code",
   "execution_count": 82,
   "metadata": {},
   "outputs": [],
   "source": [
    "stats_by_position = {}"
   ]
  },
  {
   "cell_type": "code",
   "execution_count": 87,
   "metadata": {
    "scrolled": true
   },
   "outputs": [],
   "source": [
    "for i, p in enumerate(positions):\n",
    "    # Preprocessing\n",
    "    stats = stats_normalized_df[i::5]\n",
    "    nan_cols = stats.iloc[:, stats.isnull().any().tolist()].columns\n",
    "    stats.drop(nan_cols, axis=1, inplace=True)\n",
    "    labels = slo_df[i::5].win\n",
    "    \n",
    "    # Clustering\n",
    "    n_clusters = 3\n",
    "    km = KMeans(n_clusters=n_clusters)\n",
    "    clusters = km.fit_predict(X=stats)\n",
    "    stats['cluster'] = clusters\n",
    "    cluster_dfs = [stats[stats.clusters == c] c for c in clusters]\n",
    "    stats_by_position[p] = {'X': stats, 'SelectKBest': [], 'ExtraTreesClassifier_FI': [], 'LogisticRegression_RFE': []}\n",
    "    for i, c in enumerate(cluster_dfs):\n",
    "        X = c.drop('clusters', axis=1)\n",
    "        y = slo_df.ix[c.index].win\n",
    "        \n",
    "        c_new = SelectKBest(chi2, k=10).fit(X=X, y=y)\n",
    "        c_new_cols = c.iloc[:, c_new.get_support()].columns\n",
    "        stats_by_position[p]['SelectKBest'].append(c_new_cols)\n",
    "        \n",
    "        model = ExtraTreesClassifier()\n",
    "        model.fit(X=X, y=y)\n",
    "        stats_by_position[p]['ExtraTreesClassifier_FI'].append(stats_by_position[p]['X'].iloc[:, model.feature_importances_  > 0.02].columns)\n",
    "        \n",
    "        model2 = LogisticRegression()\n",
    "        rfe = RFE(model2, 10)\n",
    "        fit = rfe.fit(X, y)\n",
    "        stats_by_position[p]['LogisticRegression_RFE'].append(stats_by_position[p]['X'].iloc[:, fit.support_].columns)"
   ]
  },
  {
   "cell_type": "code",
   "execution_count": 93,
   "metadata": {},
   "outputs": [],
   "source": [
    "fit = km.fit(stats.drop('position', axis=1))"
   ]
  },
  {
   "cell_type": "code",
   "execution_count": 98,
   "metadata": {},
   "outputs": [],
   "source": [
    "tfm = fit.transform(stats.drop('position', axis=1))"
   ]
  },
  {
   "cell_type": "code",
   "execution_count": 88,
   "metadata": {},
   "outputs": [],
   "source": [
    "for pos in positions:\n",
    "    stats_by_position[pos]['X']['position'] = pos"
   ]
  },
  {
   "cell_type": "code",
   "execution_count": 118,
   "metadata": {},
   "outputs": [],
   "source": [
    "df = concat([stats_by_position[pos]['X'] for pos in positions])"
   ]
  },
  {
   "cell_type": "code",
   "execution_count": 119,
   "metadata": {},
   "outputs": [],
   "source": [
    "df.drop(champ_dummies.columns, axis=1, inplace=True)"
   ]
  },
  {
   "cell_type": "code",
   "execution_count": 120,
   "metadata": {},
   "outputs": [],
   "source": [
    "positions = df.position.unique().tolist()\n",
    "clusters = df.clusters.unique().tolist()"
   ]
  },
  {
   "cell_type": "markdown",
   "metadata": {},
   "source": [
    "## Calculate the mean of every column for every cluster, get the top features with more variance and then get the cluster with the highest score at every feature"
   ]
  },
  {
   "cell_type": "code",
   "execution_count": 129,
   "metadata": {},
   "outputs": [],
   "source": [
    "n_features = 15"
   ]
  },
  {
   "cell_type": "code",
   "execution_count": 148,
   "metadata": {},
   "outputs": [],
   "source": [
    "key_features = {p: {c: {'first': [], 'second': []} for c in clusters} for p in positions}"
   ]
  },
  {
   "cell_type": "code",
   "execution_count": 149,
   "metadata": {},
   "outputs": [],
   "source": [
    "for pos in positions:\n",
    "    means_df = concat([DataFrame(df[(df.position == pos) & (df.clusters == c)].mean(), columns=[c]).T for c in clusters])\n",
    "    top_features = means_df.var().sort_values(ascending=False).head(n_features)\n",
    "    for col in top_features.keys():\n",
    "        cluster_1 = means_df[col].sort_values(ascending=False).index[0]\n",
    "        cluster_2 = means_df[col].sort_values(ascending=False).index[1]\n",
    "        key_features[pos][cluster_1]['first'].append(col)\n",
    "        key_features[pos][cluster_2]['second'].append(col)"
   ]
  },
  {
   "cell_type": "code",
   "execution_count": 150,
   "metadata": {},
   "outputs": [
    {
     "data": {
      "text/plain": [
       "{'TOP': {0: {'first': [],\n",
       "   'second': ['physicalDamageDealt',\n",
       "    'totalDamageDealt',\n",
       "    'magicDamageDealt',\n",
       "    'gold_at_20',\n",
       "    'gold_at_15',\n",
       "    'damageSelfMitigated',\n",
       "    'physicalDamageDealtToChampions',\n",
       "    'gold_at_10',\n",
       "    'damageDealtToObjectives',\n",
       "    'gold_at_5',\n",
       "    'goldEarned']},\n",
       "  1: {'first': ['magicDamageDealt',\n",
       "    'damageSelfMitigated',\n",
       "    'magicDamageDealtToChampions',\n",
       "    'totalHeal'],\n",
       "   'second': ['trueDamageDealt', 'totalDamageDealtToChampions']},\n",
       "  2: {'first': ['physicalDamageDealt',\n",
       "    'totalDamageDealt',\n",
       "    'gold_at_20',\n",
       "    'gold_at_15',\n",
       "    'trueDamageDealt',\n",
       "    'physicalDamageDealtToChampions',\n",
       "    'gold_at_10',\n",
       "    'damageDealtToObjectives',\n",
       "    'totalDamageDealtToChampions',\n",
       "    'gold_at_5',\n",
       "    'goldEarned'],\n",
       "   'second': ['magicDamageDealtToChampions', 'totalHeal']}},\n",
       " 'JUNG': {0: {'first': ['physicalDamageDealt',\n",
       "    'totalDamageDealt',\n",
       "    'gold_at_20',\n",
       "    'gold_at_15',\n",
       "    'damageDealtToObjectives',\n",
       "    'trueDamageDealt',\n",
       "    'gold_at_10',\n",
       "    'physicalDamageDealtToChampions',\n",
       "    'totalDamageDealtToChampions',\n",
       "    'gold_at_5'],\n",
       "   'second': ['totalHeal']},\n",
       "  1: {'first': ['magicDamageDealt',\n",
       "    'totalHeal',\n",
       "    'magicDamageDealtToChampions',\n",
       "    'totalDamageTaken'],\n",
       "   'second': ['totalDamageDealt',\n",
       "    'gold_at_20',\n",
       "    'gold_at_15',\n",
       "    'damageDealtToObjectives',\n",
       "    'gold_at_10',\n",
       "    'damageSelfMitigated',\n",
       "    'totalDamageDealtToChampions',\n",
       "    'gold_at_5']},\n",
       "  2: {'first': ['damageSelfMitigated'],\n",
       "   'second': ['physicalDamageDealt',\n",
       "    'magicDamageDealt',\n",
       "    'trueDamageDealt',\n",
       "    'physicalDamageDealtToChampions',\n",
       "    'magicDamageDealtToChampions',\n",
       "    'totalDamageTaken']}},\n",
       " 'MID': {0: {'first': ['magicDamageDealt',\n",
       "    'totalDamageDealt',\n",
       "    'trueDamageDealt',\n",
       "    'gold_at_20',\n",
       "    'gold_at_15',\n",
       "    'gold_at_10',\n",
       "    'perk2Var1',\n",
       "    'gold_at_5'],\n",
       "   'second': ['magicDamageDealtToChampions', 'totalDamageDealtToChampions']},\n",
       "  1: {'first': ['magicDamageDealtToChampions', 'totalDamageDealtToChampions'],\n",
       "   'second': ['magicDamageDealt',\n",
       "    'totalDamageDealt',\n",
       "    'physicalDamageDealt',\n",
       "    'gold_at_20',\n",
       "    'gold_at_15',\n",
       "    'physicalDamageDealtToChampions',\n",
       "    'gold_at_10',\n",
       "    'damageSelfMitigated',\n",
       "    'totalDamageTaken',\n",
       "    'perk2Var1',\n",
       "    'physicalDamageTaken',\n",
       "    'gold_at_5']},\n",
       "  2: {'first': ['physicalDamageDealt',\n",
       "    'physicalDamageDealtToChampions',\n",
       "    'damageSelfMitigated',\n",
       "    'totalDamageTaken',\n",
       "    'physicalDamageTaken'],\n",
       "   'second': ['trueDamageDealt']}},\n",
       " 'ADC': {0: {'first': ['magicDamageDealt',\n",
       "    'magicDamageDealtToChampions',\n",
       "    'totalHeal',\n",
       "    'totalDamageTaken'],\n",
       "   'second': ['trueDamageDealt']},\n",
       "  1: {'first': ['physicalDamageDealt',\n",
       "    'totalDamageDealt',\n",
       "    'gold_at_20',\n",
       "    'physicalDamageDealtToChampions',\n",
       "    'gold_at_15',\n",
       "    'damageDealtToObjectives',\n",
       "    'totalDamageDealtToChampions',\n",
       "    'trueDamageDealt',\n",
       "    'gold_at_10',\n",
       "    'damageDealtToTurrets',\n",
       "    'perk1Var2'],\n",
       "   'second': ['magicDamageDealt',\n",
       "    'magicDamageDealtToChampions',\n",
       "    'totalHeal',\n",
       "    'totalDamageTaken']},\n",
       "  2: {'first': [],\n",
       "   'second': ['physicalDamageDealt',\n",
       "    'totalDamageDealt',\n",
       "    'gold_at_20',\n",
       "    'physicalDamageDealtToChampions',\n",
       "    'gold_at_15',\n",
       "    'damageDealtToObjectives',\n",
       "    'totalDamageDealtToChampions',\n",
       "    'gold_at_10',\n",
       "    'damageDealtToTurrets',\n",
       "    'perk1Var2']}},\n",
       " 'SUPP': {0: {'first': ['trueDamageDealt',\n",
       "    'totalDamageDealt',\n",
       "    'physicalDamageTaken',\n",
       "    'physicalDamageDealt'],\n",
       "   'second': ['damageSelfMitigated',\n",
       "    'gold_at_20',\n",
       "    'totalDamageTaken',\n",
       "    'gold_at_15',\n",
       "    'magicDamageDealt',\n",
       "    'magicalDamageTaken',\n",
       "    'gold_at_5',\n",
       "    'totalDamageDealtToChampions',\n",
       "    'magicDamageDealtToChampions']},\n",
       "  1: {'first': ['magicDamageDealt',\n",
       "    'totalDamageDealtToChampions',\n",
       "    'totalHeal',\n",
       "    'magicDamageDealtToChampions'],\n",
       "   'second': ['gold_at_10', 'physicalDamageDealt']},\n",
       "  2: {'first': ['damageSelfMitigated',\n",
       "    'gold_at_20',\n",
       "    'totalDamageTaken',\n",
       "    'gold_at_15',\n",
       "    'gold_at_10',\n",
       "    'magicalDamageTaken',\n",
       "    'gold_at_5'],\n",
       "   'second': ['trueDamageDealt',\n",
       "    'totalDamageDealt',\n",
       "    'physicalDamageTaken',\n",
       "    'totalHeal']}}}"
      ]
     },
     "execution_count": 150,
     "metadata": {},
     "output_type": "execute_result"
    }
   ],
   "source": [
    "key_features"
   ]
  },
  {
   "cell_type": "code",
   "execution_count": null,
   "metadata": {},
   "outputs": [],
   "source": []
  }
 ],
 "metadata": {
  "kernelspec": {
   "display_name": "Python 3",
   "language": "python",
   "name": "python3"
  },
  "language_info": {
   "codemirror_mode": {
    "name": "ipython",
    "version": 3
   },
   "file_extension": ".py",
   "mimetype": "text/x-python",
   "name": "python",
   "nbconvert_exporter": "python",
   "pygments_lexer": "ipython3",
   "version": "3.6.6"
  }
 },
 "nbformat": 4,
 "nbformat_minor": 2
}
