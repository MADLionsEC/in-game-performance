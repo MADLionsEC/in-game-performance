{
 "cells": [
  {
   "cell_type": "code",
   "execution_count": 1,
   "metadata": {
    "collapsed": true
   },
   "outputs": [],
   "source": [
    "from sklearn.feature_selection.variance_threshold import VarianceThreshold\n",
    "from sklearn.ensemble import ExtraTreesClassifier\n",
    "from sklearn.feature_selection import SelectKBest, chi2, RFE\n",
    "from sklearn.cluster import KMeans\n",
    "from sklearn.linear_model import LogisticRegression\n",
    "from sklearn.preprocessing import MinMaxScaler\n",
    "from pandas import read_excel, concat, DataFrame, Series\n",
    "from numpy import mean, std\n",
    "from sklearn.decomposition import PCA\n",
    "\n",
    "import warnings\n",
    "warnings.filterwarnings('ignore')"
   ]
  },
  {
   "cell_type": "code",
   "execution_count": 2,
   "metadata": {
    "collapsed": true
   },
   "outputs": [],
   "source": [
    "slo_df = read_excel('data/slo_dataset.xlsx')"
   ]
  },
  {
   "cell_type": "code",
   "execution_count": 3,
   "metadata": {
    "collapsed": true
   },
   "outputs": [],
   "source": [
    "pro_df = read_excel('data/pro_leagues_dataset.xlsx')"
   ]
  },
  {
   "cell_type": "code",
   "execution_count": 4,
   "metadata": {},
   "outputs": [
    {
     "data": {
      "text/plain": [
       "((20900, 155), (2000, 155))"
      ]
     },
     "execution_count": 4,
     "metadata": {},
     "output_type": "execute_result"
    }
   ],
   "source": [
    "pro_df.shape, slo_df.shape"
   ]
  },
  {
   "cell_type": "code",
   "execution_count": 5,
   "metadata": {
    "collapsed": true
   },
   "outputs": [],
   "source": [
    "all_df = concat([slo_df, pro_df])"
   ]
  },
  {
   "cell_type": "code",
   "execution_count": 6,
   "metadata": {
    "collapsed": true
   },
   "outputs": [],
   "source": [
    "# all_df.drop(['season', 'split', 'team_name'], axis=1, inplace=True)"
   ]
  },
  {
   "cell_type": "code",
   "execution_count": 7,
   "metadata": {
    "collapsed": true
   },
   "outputs": [],
   "source": [
    "all_df.reset_index(drop=True, inplace=True)"
   ]
  },
  {
   "cell_type": "code",
   "execution_count": 8,
   "metadata": {},
   "outputs": [
    {
     "data": {
      "text/plain": [
       "16"
      ]
     },
     "execution_count": 8,
     "metadata": {},
     "output_type": "execute_result"
    }
   ],
   "source": [
    "len(Series((all_df.gameVersion)).apply(lambda x: x.split('.')[0] + '.' + x.split('.')[1]).unique())"
   ]
  },
  {
   "cell_type": "code",
   "execution_count": 9,
   "metadata": {
    "collapsed": true
   },
   "outputs": [],
   "source": [
    "numerics = ['int16', 'int32', 'int64', 'float16', 'float32', 'float64']"
   ]
  },
  {
   "cell_type": "code",
   "execution_count": 10,
   "metadata": {
    "collapsed": true
   },
   "outputs": [],
   "source": [
    "stats_df = all_df.select_dtypes(include=numerics)"
   ]
  },
  {
   "cell_type": "markdown",
   "metadata": {},
   "source": [
    "### Removing identifiers"
   ]
  },
  {
   "cell_type": "code",
   "execution_count": 11,
   "metadata": {
    "collapsed": true
   },
   "outputs": [],
   "source": [
    "stats_df.drop([col for col in stats_df.columns if 'Id' in col], axis=1, inplace=True)"
   ]
  },
  {
   "cell_type": "markdown",
   "metadata": {},
   "source": [
    "### Removing useless numeric columns"
   ]
  },
  {
   "cell_type": "code",
   "execution_count": 12,
   "metadata": {
    "collapsed": true
   },
   "outputs": [],
   "source": [
    "stats_df.drop(['champLevel'], axis=1, inplace=True)"
   ]
  },
  {
   "cell_type": "markdown",
   "metadata": {},
   "source": [
    "### Normalizing the rest of the stats by time"
   ]
  },
  {
   "cell_type": "markdown",
   "metadata": {},
   "source": [
    "#### Transform game duration format into minutes"
   ]
  },
  {
   "cell_type": "code",
   "execution_count": 13,
   "metadata": {
    "collapsed": true
   },
   "outputs": [],
   "source": [
    "stats_df['gameDuration_in_minutes'] = stats_df.gameDuration / 60"
   ]
  },
  {
   "cell_type": "markdown",
   "metadata": {},
   "source": [
    "### Exclude columns that aren't affected by time"
   ]
  },
  {
   "cell_type": "code",
   "execution_count": 14,
   "metadata": {
    "collapsed": true
   },
   "outputs": [],
   "source": [
    "stats_to_normalize = [col for col in stats_df.columns if '_at_' not in col and 'tt' not in col and 'gameDuration' not in col]"
   ]
  },
  {
   "cell_type": "code",
   "execution_count": 15,
   "metadata": {
    "collapsed": true
   },
   "outputs": [],
   "source": [
    "stats_normalized_df = stats_df[stats_to_normalize].apply(lambda x: x / stats_df.gameDuration_in_minutes)"
   ]
  },
  {
   "cell_type": "code",
   "execution_count": 16,
   "metadata": {
    "collapsed": true
   },
   "outputs": [],
   "source": [
    "not_time_affected_stats_df = stats_df[[col for col in stats_df.columns if '_at_' in col or 'tt' in col]]"
   ]
  },
  {
   "cell_type": "markdown",
   "metadata": {},
   "source": [
    "### Now add them again"
   ]
  },
  {
   "cell_type": "code",
   "execution_count": 17,
   "metadata": {
    "collapsed": true
   },
   "outputs": [],
   "source": [
    "stats_normalized_df = concat([stats_normalized_df, not_time_affected_stats_df], axis=1)"
   ]
  },
  {
   "cell_type": "markdown",
   "metadata": {},
   "source": [
    "### Add champ names transformed to dummies"
   ]
  },
  {
   "cell_type": "code",
   "execution_count": 18,
   "metadata": {
    "collapsed": true
   },
   "outputs": [],
   "source": [
    "champ_dummies = all_df.champ_name.str.get_dummies()"
   ]
  },
  {
   "cell_type": "code",
   "execution_count": 19,
   "metadata": {
    "collapsed": true
   },
   "outputs": [],
   "source": [
    "stats_normalized_df = concat([stats_normalized_df, champ_dummies], axis=1)"
   ]
  },
  {
   "cell_type": "markdown",
   "metadata": {},
   "source": [
    "### Clustering playstyles by position and feature selection for each cluster in each position"
   ]
  },
  {
   "cell_type": "code",
   "execution_count": 20,
   "metadata": {
    "collapsed": true
   },
   "outputs": [],
   "source": [
    "positions = all_df.position.unique().tolist()"
   ]
  },
  {
   "cell_type": "code",
   "execution_count": 21,
   "metadata": {
    "collapsed": true
   },
   "outputs": [],
   "source": [
    "stats_by_position = {}"
   ]
  },
  {
   "cell_type": "code",
   "execution_count": 22,
   "metadata": {
    "collapsed": true,
    "scrolled": true
   },
   "outputs": [],
   "source": [
    "for i, p in enumerate(positions):\n",
    "    # Preprocessing\n",
    "    stats = stats_normalized_df[i::5]\n",
    "    nan_cols = stats.iloc[:, stats.isnull().any().tolist()].columns\n",
    "    stats.drop(nan_cols, axis=1, inplace=True)\n",
    "    labels = all_df[i::5].win\n",
    "    \n",
    "    # Clustering\n",
    "    n_clusters = 3\n",
    "    km = KMeans(n_clusters=n_clusters, random_state=42)\n",
    "    c_fit = km.fit(X=stats)\n",
    "    c_predict = c_fit.predict(X=stats)\n",
    "    stats['cluster'] = c_predict\n",
    "    cluster_dfs = [stats[stats.cluster == c] for c in range(n_clusters)]\n",
    "    stats_by_position[p] = {'X': stats, 'SelectKBest': [], 'ExtraTreesClassifier_FI': [], 'LogisticRegression_RFE': []}\n",
    "    # for i, c in enumerate(cluster_dfs):\n",
    "    #     X = c.drop('cluster', axis=1)\n",
    "    #     y = all_df.ix[c.index].win\n",
    "    #     \n",
    "    #     c_new = SelectKBest(chi2, k=10).fit(X=X, y=y)\n",
    "    #     c_new_cols = c.iloc[:, c_new.get_support()].columns\n",
    "    #     stats_by_position[p]['SelectKBest'].append(c_new_cols)\n",
    "    #     \n",
    "    #     model = ExtraTreesClassifier()\n",
    "    #     model.fit(X=X, y=y)\n",
    "    #     stats_by_position[p]['ExtraTreesClassifier_FI'].append(stats_by_position[p]['X'].iloc[:, model.feature_importances_  > 0.02].columns)\n",
    "    #     \n",
    "    #     model2 = LogisticRegression()\n",
    "    #     rfe = RFE(model2, 10)\n",
    "    #     fit = rfe.fit(X, y)\n",
    "    #     stats_by_position[p]['LogisticRegression_RFE'].append(stats_by_position[p]['X'].iloc[:, fit.support_].columns)"
   ]
  },
  {
   "cell_type": "code",
   "execution_count": 23,
   "metadata": {
    "collapsed": true
   },
   "outputs": [],
   "source": [
    "for pos in positions:\n",
    "    stats_by_position[pos]['X']['position'] = pos"
   ]
  },
  {
   "cell_type": "code",
   "execution_count": 24,
   "metadata": {
    "collapsed": true
   },
   "outputs": [],
   "source": [
    "df = concat([stats_by_position[pos]['X'] for pos in positions])"
   ]
  },
  {
   "cell_type": "code",
   "execution_count": 25,
   "metadata": {
    "collapsed": true
   },
   "outputs": [],
   "source": [
    "df.drop(champ_dummies.columns, axis=1, inplace=True)"
   ]
  },
  {
   "cell_type": "code",
   "execution_count": 26,
   "metadata": {
    "collapsed": true
   },
   "outputs": [],
   "source": [
    "positions = df.position.unique().tolist()\n",
    "clusters = df.cluster.unique().tolist()"
   ]
  },
  {
   "cell_type": "markdown",
   "metadata": {},
   "source": [
    "## Calculate the mean of every column for every cluster, get the top features with more variance and then get the cluster with the highest score at every feature"
   ]
  },
  {
   "cell_type": "code",
   "execution_count": 27,
   "metadata": {
    "collapsed": true
   },
   "outputs": [],
   "source": [
    "n_features = 15"
   ]
  },
  {
   "cell_type": "code",
   "execution_count": 28,
   "metadata": {
    "collapsed": true
   },
   "outputs": [],
   "source": [
    "key_features = {p: {c: {'first': [], 'second': [], 'third': []} for c in clusters} for p in positions}"
   ]
  },
  {
   "cell_type": "code",
   "execution_count": 29,
   "metadata": {
    "collapsed": true
   },
   "outputs": [],
   "source": [
    "for pos in positions:\n",
    "    means_df = concat([DataFrame(df[(df.position == pos) & (df.cluster == c)].mean(), columns=[c]).T for c in clusters])\n",
    "    top_features = means_df.var().sort_values(ascending=False).head(n_features)\n",
    "    for col in top_features.keys():\n",
    "        cluster_1 = means_df[col].sort_values(ascending=False).index[0]\n",
    "        cluster_2 = means_df[col].sort_values(ascending=False).index[1]\n",
    "        cluster_3 = means_df[col].sort_values(ascending=False).index[2]\n",
    "        key_features[pos][cluster_1]['first'].append(col)\n",
    "        key_features[pos][cluster_2]['second'].append(col)\n",
    "        key_features[pos][cluster_3]['third'].append(col)"
   ]
  },
  {
   "cell_type": "markdown",
   "metadata": {},
   "source": [
    "### Calculate the weights for each feature in each cluster"
   ]
  },
  {
   "cell_type": "code",
   "execution_count": 30,
   "metadata": {
    "collapsed": true
   },
   "outputs": [],
   "source": [
    "# For 3 clusters\n",
    "def set_f_weights(f_lens, clusters):\n",
    "    test_list = [1, 2, 3]\n",
    "    test_set = set(test_list)\n",
    "    f_lens_set = set([a + b for a,b in zip(f_lens, test_list)])\n",
    "    zeros_set = test_set - f_lens_set\n",
    "    \n",
    "    f_weights = [0, 0, 0]\n",
    "    if len(zeros_set) == 3:\n",
    "        f_weights = [.6, .3, .1]\n",
    "    elif len(zeros_set) == 2:\n",
    "        pos1 = list(zeros_set)[0]\n",
    "        pos2 = list(zeros_set)[1]\n",
    "        f_weights[pos1 - 1] = .7\n",
    "        f_weights[pos2 - 1] = .3\n",
    "    else:\n",
    "        pos = list(zeros_set)[0]\n",
    "        f_weights[pos - 1] = 1\n",
    "    \n",
    "    return f_weights"
   ]
  },
  {
   "cell_type": "code",
   "execution_count": 31,
   "metadata": {
    "collapsed": true
   },
   "outputs": [],
   "source": [
    "for p in key_features:\n",
    "    for c in key_features[p]:\n",
    "        c = key_features[p][c]\n",
    "        \n",
    "        f_len = len(c['first'])\n",
    "        s_len = len(c['second'])\n",
    "        t_len = len(c['third'])\n",
    "        \n",
    "        f_weights = set_f_weights([f_len, s_len, t_len], clusters)\n",
    "        c['f_weights'] = f_weights"
   ]
  },
  {
   "cell_type": "code",
   "execution_count": 32,
   "metadata": {
    "collapsed": true
   },
   "outputs": [],
   "source": [
    "for p in positions:\n",
    "    for c in clusters:\n",
    "        key_features[p][c]['scores'] = []\n",
    "        for i, r in enumerate(['first', 'second', 'third']):\n",
    "            features = key_features[p][c][r]\n",
    "            weight = key_features[p][c]['f_weights'][i]\n",
    "            if features:\n",
    "                df_tmp = df[df.position == p]\n",
    "                mms = MinMaxScaler()\n",
    "                df_tmp[features] = df_tmp[features].apply(mms.fit_transform)\n",
    "                score = mean(df_tmp[features].mean()) * weight\n",
    "                key_features[p][c]['scores'].append(score)\n",
    "            else:\n",
    "                key_features[p][c]['scores'].append(0)          "
   ]
  },
  {
   "cell_type": "code",
   "execution_count": 33,
   "metadata": {},
   "outputs": [
    {
     "data": {
      "text/plain": [
       "{'ADC': {0: {'f_weights': [0, 0.7, 0.3],\n",
       "   'first': [],\n",
       "   'scores': [0, 0.2106990669018149, 0.039958257907983734],\n",
       "   'second': ['physicalDamageDealt',\n",
       "    'totalDamageDealt',\n",
       "    'physicalDamageDealtToChampions',\n",
       "    'gold_at_15',\n",
       "    'damageDealtToObjectives',\n",
       "    'totalDamageDealtToChampions',\n",
       "    'gold_at_10',\n",
       "    'damageDealtToTurrets',\n",
       "    'gold_at_5',\n",
       "    'perk1Var2'],\n",
       "   'third': ['magicDamageDealt',\n",
       "    'magicDamageDealtToChampions',\n",
       "    'trueDamageDealt',\n",
       "    'totalHeal',\n",
       "    'totalDamageTaken']},\n",
       "  1: {'f_weights': [0.7, 0.3, 0],\n",
       "   'first': ['physicalDamageDealt',\n",
       "    'totalDamageDealt',\n",
       "    'physicalDamageDealtToChampions',\n",
       "    'gold_at_15',\n",
       "    'damageDealtToObjectives',\n",
       "    'trueDamageDealt',\n",
       "    'totalDamageDealtToChampions',\n",
       "    'gold_at_10',\n",
       "    'damageDealtToTurrets',\n",
       "    'gold_at_5',\n",
       "    'perk1Var2'],\n",
       "   'scores': [0.19400211655269206, 0.04705147098553716, 0],\n",
       "   'second': ['magicDamageDealt',\n",
       "    'magicDamageDealtToChampions',\n",
       "    'totalHeal',\n",
       "    'totalDamageTaken'],\n",
       "   'third': []},\n",
       "  2: {'f_weights': [0.7, 0.3, 0],\n",
       "   'first': ['magicDamageDealt',\n",
       "    'magicDamageDealtToChampions',\n",
       "    'totalHeal',\n",
       "    'totalDamageTaken'],\n",
       "   'scores': [0.10978676563292003, 0.011585405597770044, 0.0],\n",
       "   'second': ['trueDamageDealt'],\n",
       "   'third': ['physicalDamageDealt',\n",
       "    'totalDamageDealt',\n",
       "    'physicalDamageDealtToChampions',\n",
       "    'gold_at_15',\n",
       "    'damageDealtToObjectives',\n",
       "    'totalDamageDealtToChampions',\n",
       "    'gold_at_10',\n",
       "    'damageDealtToTurrets',\n",
       "    'gold_at_5',\n",
       "    'perk1Var2']}},\n",
       " 'JUNG': {0: {'f_weights': [0.7, 0.3, 0],\n",
       "   'first': ['physicalDamageDealt',\n",
       "    'totalDamageDealt',\n",
       "    'gold_at_15',\n",
       "    'damageDealtToObjectives',\n",
       "    'trueDamageDealt',\n",
       "    'gold_at_10',\n",
       "    'physicalDamageDealtToChampions',\n",
       "    'totalDamageDealtToChampions',\n",
       "    'gold_at_5',\n",
       "    'damageDealtToTurrets'],\n",
       "   'scores': [0.1703623959630011, 0.0688734166114804, 0.0],\n",
       "   'second': ['totalHeal'],\n",
       "   'third': ['magicDamageDealt',\n",
       "    'damageSelfMitigated',\n",
       "    'magicDamageDealtToChampions',\n",
       "    'totalDamageTaken']},\n",
       "  1: {'f_weights': [0.7, 0, 0.3],\n",
       "   'first': ['damageSelfMitigated'],\n",
       "   'scores': [0.18719729841881272, 0.0, 0.0924143935913539],\n",
       "   'second': ['physicalDamageDealt',\n",
       "    'magicDamageDealt',\n",
       "    'trueDamageDealt',\n",
       "    'physicalDamageDealtToChampions',\n",
       "    'magicDamageDealtToChampions',\n",
       "    'totalDamageTaken',\n",
       "    'damageDealtToTurrets'],\n",
       "   'third': ['totalDamageDealt',\n",
       "    'gold_at_15',\n",
       "    'damageDealtToObjectives',\n",
       "    'gold_at_10',\n",
       "    'totalHeal',\n",
       "    'totalDamageDealtToChampions',\n",
       "    'gold_at_5']},\n",
       "  2: {'f_weights': [0.6, 0.3, 0.1],\n",
       "   'first': ['magicDamageDealt',\n",
       "    'totalHeal',\n",
       "    'magicDamageDealtToChampions',\n",
       "    'totalDamageTaken'],\n",
       "   'scores': [0.12829908266949852, 0.09403639316229419, 0.012674767966595902],\n",
       "   'second': ['totalDamageDealt',\n",
       "    'gold_at_15',\n",
       "    'damageDealtToObjectives',\n",
       "    'damageSelfMitigated',\n",
       "    'gold_at_10',\n",
       "    'totalDamageDealtToChampions',\n",
       "    'gold_at_5'],\n",
       "   'third': ['physicalDamageDealt',\n",
       "    'trueDamageDealt',\n",
       "    'physicalDamageDealtToChampions',\n",
       "    'damageDealtToTurrets']}},\n",
       " 'MID': {0: {'f_weights': [0.6, 0.3, 0.1],\n",
       "   'first': ['physicalDamageDealt',\n",
       "    'physicalDamageDealtToChampions',\n",
       "    'damageSelfMitigated',\n",
       "    'totalDamageTaken',\n",
       "    'physicalDamageTaken',\n",
       "    'damageDealtToObjectives'],\n",
       "   'scores': [0.09645375622532536, 0.03630513975604899, 0.038850663309429274],\n",
       "   'second': ['trueDamageDealt', 'perk2Var1'],\n",
       "   'third': ['magicDamageDealt',\n",
       "    'totalDamageDealt',\n",
       "    'magicDamageDealtToChampions',\n",
       "    'gold_at_15',\n",
       "    'totalDamageDealtToChampions',\n",
       "    'gold_at_10',\n",
       "    'gold_at_5']},\n",
       "  1: {'f_weights': [0.7, 0, 0.3],\n",
       "   'first': ['totalDamageDealtToChampions'],\n",
       "   'scores': [0.20613448497000478, 0.0, 0.03726191934948925],\n",
       "   'second': ['magicDamageDealt',\n",
       "    'totalDamageDealt',\n",
       "    'physicalDamageDealt',\n",
       "    'magicDamageDealtToChampions',\n",
       "    'physicalDamageDealtToChampions',\n",
       "    'gold_at_15',\n",
       "    'totalDamageTaken',\n",
       "    'gold_at_10',\n",
       "    'physicalDamageTaken',\n",
       "    'gold_at_5'],\n",
       "   'third': ['trueDamageDealt',\n",
       "    'damageSelfMitigated',\n",
       "    'perk2Var1',\n",
       "    'damageDealtToObjectives']},\n",
       "  2: {'f_weights': [0.6, 0.3, 0.1],\n",
       "   'first': ['magicDamageDealt',\n",
       "    'totalDamageDealt',\n",
       "    'trueDamageDealt',\n",
       "    'magicDamageDealtToChampions',\n",
       "    'gold_at_15',\n",
       "    'gold_at_10',\n",
       "    'perk2Var1',\n",
       "    'gold_at_5'],\n",
       "   'scores': [0.2000327145771705, 0.05492691619576322, 0.017743655899176425],\n",
       "   'second': ['damageSelfMitigated',\n",
       "    'totalDamageDealtToChampions',\n",
       "    'damageDealtToObjectives'],\n",
       "   'third': ['physicalDamageDealt',\n",
       "    'physicalDamageDealtToChampions',\n",
       "    'totalDamageTaken',\n",
       "    'physicalDamageTaken']}},\n",
       " 'SUPP': {0: {'f_weights': [0.7, 0.3, 0],\n",
       "   'first': ['totalDamageDealtToChampions', 'magicDamageDealtToChampions'],\n",
       "   'scores': [0.0799850631400984, 0.039066600501505865, 0.0],\n",
       "   'second': ['magicDamageDealt', 'gold_at_10', 'gold_at_15', 'totalHeal'],\n",
       "   'third': ['trueDamageDealt',\n",
       "    'totalDamageDealt',\n",
       "    'damageSelfMitigated',\n",
       "    'totalDamageTaken',\n",
       "    'physicalDamageTaken',\n",
       "    'physicalDamageDealt',\n",
       "    'magicalDamageTaken',\n",
       "    'gold_at_5',\n",
       "    'ccs_at_15']},\n",
       "  1: {'f_weights': [0.7, 0.3, 0],\n",
       "   'first': ['trueDamageDealt', 'totalDamageDealt'],\n",
       "   'scores': [0.12463017654516588, 0.05073279159042062, 0.0],\n",
       "   'second': ['damageSelfMitigated',\n",
       "    'totalDamageTaken',\n",
       "    'physicalDamageTaken',\n",
       "    'physicalDamageDealt',\n",
       "    'magicalDamageTaken',\n",
       "    'gold_at_5',\n",
       "    'totalDamageDealtToChampions',\n",
       "    'ccs_at_15',\n",
       "    'magicDamageDealtToChampions'],\n",
       "   'third': ['magicDamageDealt', 'gold_at_10', 'gold_at_15', 'totalHeal']},\n",
       "  2: {'f_weights': [0.6, 0.3, 0.1],\n",
       "   'first': ['damageSelfMitigated',\n",
       "    'totalDamageTaken',\n",
       "    'magicDamageDealt',\n",
       "    'physicalDamageTaken',\n",
       "    'physicalDamageDealt',\n",
       "    'gold_at_10',\n",
       "    'magicalDamageTaken',\n",
       "    'gold_at_15',\n",
       "    'gold_at_5',\n",
       "    'totalHeal',\n",
       "    'ccs_at_15'],\n",
       "   'scores': [0.09896416377657331, 0.053412932805071096, 0.011426437591442629],\n",
       "   'second': ['trueDamageDealt', 'totalDamageDealt'],\n",
       "   'third': ['totalDamageDealtToChampions', 'magicDamageDealtToChampions']}},\n",
       " 'TOP': {0: {'f_weights': [0.7, 0.3, 0],\n",
       "   'first': ['damageSelfMitigated', 'totalDamageTaken'],\n",
       "   'scores': [0.17385714292426172, 0.051006978201945476, 0.0],\n",
       "   'second': ['physicalDamageDealt',\n",
       "    'magicDamageDealt',\n",
       "    'physicalDamageDealtToChampions',\n",
       "    'magicDamageDealtToChampions',\n",
       "    'totalHeal'],\n",
       "   'third': ['totalDamageDealt',\n",
       "    'trueDamageDealt',\n",
       "    'gold_at_15',\n",
       "    'damageDealtToObjectives',\n",
       "    'gold_at_10',\n",
       "    'totalDamageDealtToChampions',\n",
       "    'damageDealtToTurrets',\n",
       "    'goldEarned']},\n",
       "  1: {'f_weights': [0.6, 0.3, 0.1],\n",
       "   'first': ['physicalDamageDealt',\n",
       "    'gold_at_15',\n",
       "    'physicalDamageDealtToChampions',\n",
       "    'damageDealtToObjectives',\n",
       "    'gold_at_10',\n",
       "    'totalDamageDealtToChampions',\n",
       "    'damageDealtToTurrets',\n",
       "    'goldEarned'],\n",
       "   'scores': [0.15776792171316065, 0.05141314811677981, 0.018402698533093724],\n",
       "   'second': ['totalDamageDealt', 'trueDamageDealt'],\n",
       "   'third': ['magicDamageDealt',\n",
       "    'damageSelfMitigated',\n",
       "    'magicDamageDealtToChampions',\n",
       "    'totalHeal',\n",
       "    'totalDamageTaken']},\n",
       "  2: {'f_weights': [0.6, 0.3, 0.1],\n",
       "   'first': ['totalDamageDealt',\n",
       "    'trueDamageDealt',\n",
       "    'magicDamageDealt',\n",
       "    'magicDamageDealtToChampions',\n",
       "    'totalHeal'],\n",
       "   'scores': [0.09193854640366786, 0.08150965922991511, 0.021335803539019562],\n",
       "   'second': ['damageSelfMitigated',\n",
       "    'gold_at_15',\n",
       "    'damageDealtToObjectives',\n",
       "    'gold_at_10',\n",
       "    'totalDamageDealtToChampions',\n",
       "    'damageDealtToTurrets',\n",
       "    'totalDamageTaken',\n",
       "    'goldEarned'],\n",
       "   'third': ['physicalDamageDealt', 'physicalDamageDealtToChampions']}}}"
      ]
     },
     "execution_count": 33,
     "metadata": {},
     "output_type": "execute_result"
    }
   ],
   "source": [
    "key_features"
   ]
  },
  {
   "cell_type": "markdown",
   "metadata": {},
   "source": [
    "## Analyse clusters"
   ]
  },
  {
   "cell_type": "code",
   "execution_count": 34,
   "metadata": {
    "collapsed": true
   },
   "outputs": [],
   "source": [
    "all_df[stats_to_normalize] = all_df[stats_to_normalize].fillna(0).apply(lambda x: x / (all_df.gameDuration / 60))"
   ]
  },
  {
   "cell_type": "code",
   "execution_count": 35,
   "metadata": {
    "collapsed": true
   },
   "outputs": [],
   "source": [
    "mms = MinMaxScaler()"
   ]
  },
  {
   "cell_type": "code",
   "execution_count": 36,
   "metadata": {
    "collapsed": true
   },
   "outputs": [],
   "source": [
    "all_df[stats_to_normalize] = all_df[stats_to_normalize].apply(mms.fit_transform)"
   ]
  },
  {
   "cell_type": "code",
   "execution_count": 37,
   "metadata": {
    "collapsed": true
   },
   "outputs": [],
   "source": [
    "player_means_df = all_df.groupby('player_name').mean()"
   ]
  },
  {
   "cell_type": "code",
   "execution_count": 38,
   "metadata": {
    "collapsed": true
   },
   "outputs": [],
   "source": [
    "player_positions = all_df.groupby('player_name').first()['position']"
   ]
  },
  {
   "cell_type": "code",
   "execution_count": 39,
   "metadata": {
    "collapsed": true
   },
   "outputs": [],
   "source": [
    "player_means_df['position'] = player_positions"
   ]
  },
  {
   "cell_type": "code",
   "execution_count": 40,
   "metadata": {
    "collapsed": true
   },
   "outputs": [],
   "source": [
    "player_means_df['cluster'] = df.cluster"
   ]
  },
  {
   "cell_type": "code",
   "execution_count": 41,
   "metadata": {
    "scrolled": true
   },
   "outputs": [
    {
     "name": "stdout",
     "output_type": "stream",
     "text": [
      "TOP 0 ['damageSelfMitigated', 'totalDamageTaken']\n",
      "TOP 0 ['physicalDamageDealt', 'magicDamageDealt', 'physicalDamageDealtToChampions', 'magicDamageDealtToChampions', 'totalHeal']\n",
      "TOP 1 ['physicalDamageDealt', 'gold_at_15', 'physicalDamageDealtToChampions', 'damageDealtToObjectives', 'gold_at_10', 'totalDamageDealtToChampions', 'damageDealtToTurrets', 'goldEarned']\n",
      "TOP 1 ['totalDamageDealt', 'trueDamageDealt']\n",
      "TOP 2 ['totalDamageDealt', 'trueDamageDealt', 'magicDamageDealt', 'magicDamageDealtToChampions', 'totalHeal']\n",
      "TOP 2 ['damageSelfMitigated', 'gold_at_15', 'damageDealtToObjectives', 'gold_at_10', 'totalDamageDealtToChampions', 'damageDealtToTurrets', 'totalDamageTaken', 'goldEarned']\n",
      "JUNG 0 ['physicalDamageDealt', 'totalDamageDealt', 'gold_at_15', 'damageDealtToObjectives', 'trueDamageDealt', 'gold_at_10', 'physicalDamageDealtToChampions', 'totalDamageDealtToChampions', 'gold_at_5', 'damageDealtToTurrets']\n",
      "JUNG 0 ['totalHeal']\n",
      "JUNG 1 ['damageSelfMitigated']\n",
      "JUNG 1 ['physicalDamageDealt', 'magicDamageDealt', 'trueDamageDealt', 'physicalDamageDealtToChampions', 'magicDamageDealtToChampions', 'totalDamageTaken', 'damageDealtToTurrets']\n",
      "JUNG 2 ['magicDamageDealt', 'totalHeal', 'magicDamageDealtToChampions', 'totalDamageTaken']\n",
      "JUNG 2 ['totalDamageDealt', 'gold_at_15', 'damageDealtToObjectives', 'damageSelfMitigated', 'gold_at_10', 'totalDamageDealtToChampions', 'gold_at_5']\n",
      "MID 0 ['physicalDamageDealt', 'physicalDamageDealtToChampions', 'damageSelfMitigated', 'totalDamageTaken', 'physicalDamageTaken', 'damageDealtToObjectives']\n",
      "MID 0 ['trueDamageDealt', 'perk2Var1']\n",
      "MID 1 ['totalDamageDealtToChampions']\n",
      "MID 1 ['magicDamageDealt', 'totalDamageDealt', 'physicalDamageDealt', 'magicDamageDealtToChampions', 'physicalDamageDealtToChampions', 'gold_at_15', 'totalDamageTaken', 'gold_at_10', 'physicalDamageTaken', 'gold_at_5']\n",
      "MID 2 ['magicDamageDealt', 'totalDamageDealt', 'trueDamageDealt', 'magicDamageDealtToChampions', 'gold_at_15', 'gold_at_10', 'perk2Var1', 'gold_at_5']\n",
      "MID 2 ['damageSelfMitigated', 'totalDamageDealtToChampions', 'damageDealtToObjectives']\n",
      "ADC 0 []\n",
      "ADC 0 ['physicalDamageDealt', 'totalDamageDealt', 'physicalDamageDealtToChampions', 'gold_at_15', 'damageDealtToObjectives', 'totalDamageDealtToChampions', 'gold_at_10', 'damageDealtToTurrets', 'gold_at_5', 'perk1Var2']\n",
      "ADC 1 ['physicalDamageDealt', 'totalDamageDealt', 'physicalDamageDealtToChampions', 'gold_at_15', 'damageDealtToObjectives', 'trueDamageDealt', 'totalDamageDealtToChampions', 'gold_at_10', 'damageDealtToTurrets', 'gold_at_5', 'perk1Var2']\n",
      "ADC 1 ['magicDamageDealt', 'magicDamageDealtToChampions', 'totalHeal', 'totalDamageTaken']\n",
      "ADC 2 ['magicDamageDealt', 'magicDamageDealtToChampions', 'totalHeal', 'totalDamageTaken']\n",
      "ADC 2 ['trueDamageDealt']\n",
      "SUPP 0 ['totalDamageDealtToChampions', 'magicDamageDealtToChampions']\n",
      "SUPP 0 ['magicDamageDealt', 'gold_at_10', 'gold_at_15', 'totalHeal']\n",
      "SUPP 1 ['trueDamageDealt', 'totalDamageDealt']\n",
      "SUPP 1 ['damageSelfMitigated', 'totalDamageTaken', 'physicalDamageTaken', 'physicalDamageDealt', 'magicalDamageTaken', 'gold_at_5', 'totalDamageDealtToChampions', 'ccs_at_15', 'magicDamageDealtToChampions']\n",
      "SUPP 2 ['damageSelfMitigated', 'totalDamageTaken', 'magicDamageDealt', 'physicalDamageTaken', 'physicalDamageDealt', 'gold_at_10', 'magicalDamageTaken', 'gold_at_15', 'gold_at_5', 'totalHeal', 'ccs_at_15']\n",
      "SUPP 2 ['trueDamageDealt', 'totalDamageDealt']\n"
     ]
    }
   ],
   "source": [
    "for p in key_features:\n",
    "    for c in key_features[p]:\n",
    "        for r in key_features[p][c]:\n",
    "            if r in ['first', 'second']:\n",
    "                print(p, c, key_features[p][c][r])"
   ]
  },
  {
   "cell_type": "code",
   "execution_count": null,
   "metadata": {
    "collapsed": true
   },
   "outputs": [],
   "source": []
  },
  {
   "cell_type": "code",
   "execution_count": 42,
   "metadata": {
    "collapsed": true
   },
   "outputs": [],
   "source": [
    "all_df['cluster'] = df.cluster"
   ]
  },
  {
   "cell_type": "code",
   "execution_count": 60,
   "metadata": {},
   "outputs": [
    {
     "name": "stdout",
     "output_type": "stream",
     "text": [
      "Ornn (95)\n",
      "Vladimir (81)\n",
      "Sion (37)\n",
      "Singed (25)\n",
      "Ryze (21)\n",
      "Cho'Gath (21)\n",
      "Shen (20)\n",
      "Dr. Mundo (13)\n",
      "Maokai (13)\n",
      "Swain (12)\n"
     ]
    }
   ],
   "source": [
    "for key, value in dict(all_df[(all_df.cluster == 2) & (all_df.position == 'TOP')].champ_name.value_counts().head(10)).items():\n",
    "    print('{} ({})'.format(key, value))"
   ]
  },
  {
   "cell_type": "code",
   "execution_count": 45,
   "metadata": {
    "collapsed": true
   },
   "outputs": [],
   "source": [
    "pca = PCA(n_components=2, random_state=42)"
   ]
  },
  {
   "cell_type": "code",
   "execution_count": 46,
   "metadata": {},
   "outputs": [],
   "source": [
    "stats_normalized_df.fillna(0, inplace=True)"
   ]
  },
  {
   "cell_type": "code",
   "execution_count": 47,
   "metadata": {},
   "outputs": [],
   "source": [
    "df_pca = DataFrame(pca.fit_transform(stats_normalized_df.drop([col for col in stats_normalized_df.columns if 'tt' in col], axis=1)))"
   ]
  },
  {
   "cell_type": "code",
   "execution_count": 48,
   "metadata": {
    "collapsed": true
   },
   "outputs": [],
   "source": [
    "df_pca['cluster'] = all_df.cluster"
   ]
  },
  {
   "cell_type": "code",
   "execution_count": 49,
   "metadata": {
    "collapsed": true
   },
   "outputs": [],
   "source": [
    "df_pca['position'] = all_df.position"
   ]
  },
  {
   "cell_type": "code",
   "execution_count": 50,
   "metadata": {
    "collapsed": true
   },
   "outputs": [],
   "source": [
    "df_pca.to_excel('slo_pro_leagues_clusters.xlsx')"
   ]
  },
  {
   "cell_type": "code",
   "execution_count": 51,
   "metadata": {},
   "outputs": [
    {
     "data": {
      "text/plain": [
       "(22900, 156)"
      ]
     },
     "execution_count": 51,
     "metadata": {},
     "output_type": "execute_result"
    }
   ],
   "source": [
    "all_df.shape"
   ]
  },
  {
   "cell_type": "code",
   "execution_count": null,
   "metadata": {
    "collapsed": true
   },
   "outputs": [],
   "source": []
  }
 ],
 "metadata": {
  "kernelspec": {
   "display_name": "Python 3",
   "language": "python",
   "name": "python3"
  },
  "language_info": {
   "codemirror_mode": {
    "name": "ipython",
    "version": 3
   },
   "file_extension": ".py",
   "mimetype": "text/x-python",
   "name": "python",
   "nbconvert_exporter": "python",
   "pygments_lexer": "ipython3",
   "version": "3.6.6"
  }
 },
 "nbformat": 4,
 "nbformat_minor": 2
}
