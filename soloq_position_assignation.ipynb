{
 "cells": [
  {
   "cell_type": "code",
   "execution_count": 1,
   "metadata": {},
   "outputs": [],
   "source": [
    "import pandas as pd"
   ]
  },
  {
   "cell_type": "code",
   "execution_count": 2,
   "metadata": {},
   "outputs": [],
   "source": [
    "from sklearn.tree import DecisionTreeClassifier\n",
    "from sklearn.ensemble import AdaBoostClassifier, BaggingClassifier, GradientBoostingClassifier, RandomForestClassifier\n",
    "from sklearn.naive_bayes import BernoulliNB\n",
    "from sklearn.neural_network import MLPClassifier\n",
    "from sklearn.svm import SVC\n",
    "from sklearn.gaussian_process import GaussianProcessClassifier"
   ]
  },
  {
   "cell_type": "code",
   "execution_count": 3,
   "metadata": {},
   "outputs": [],
   "source": [
    "from sklearn.model_selection import cross_val_score"
   ]
  },
  {
   "cell_type": "code",
   "execution_count": 4,
   "metadata": {},
   "outputs": [],
   "source": [
    "from numpy import std"
   ]
  },
  {
   "cell_type": "code",
   "execution_count": 5,
   "metadata": {},
   "outputs": [],
   "source": [
    "%matplotlib inline\n",
    "import matplotlib.pyplot as plt"
   ]
  },
  {
   "cell_type": "code",
   "execution_count": 6,
   "metadata": {},
   "outputs": [],
   "source": [
    "def positions_assigned_correctly(x):\n",
    "    if std(x.tolist()) != 0:\n",
    "        return 0\n",
    "    else:\n",
    "        return 1"
   ]
  },
  {
   "cell_type": "code",
   "execution_count": 7,
   "metadata": {},
   "outputs": [],
   "source": [
    "soloq_df = pd.read_excel('8-18_dataset.xlsx')"
   ]
  },
  {
   "cell_type": "code",
   "execution_count": 8,
   "metadata": {},
   "outputs": [],
   "source": [
    "slo_df = pd.read_excel('slo_dataset.xlsx')"
   ]
  },
  {
   "cell_type": "code",
   "execution_count": 9,
   "metadata": {},
   "outputs": [],
   "source": [
    "numerics = ['int16', 'int32', 'int64', 'float16', 'float32', 'float64']"
   ]
  },
  {
   "cell_type": "code",
   "execution_count": 10,
   "metadata": {
    "scrolled": true
   },
   "outputs": [],
   "source": [
    "newdf = slo_df.select_dtypes(include=numerics)\n",
    "newdf2 = soloq_df.select_dtypes(include=numerics)"
   ]
  },
  {
   "cell_type": "code",
   "execution_count": 11,
   "metadata": {},
   "outputs": [
    {
     "name": "stderr",
     "output_type": "stream",
     "text": [
      "C:\\Users\\david\\Anaconda3\\lib\\site-packages\\ipykernel_launcher.py:1: SettingWithCopyWarning: \n",
      "A value is trying to be set on a copy of a slice from a DataFrame\n",
      "\n",
      "See the caveats in the documentation: http://pandas.pydata.org/pandas-docs/stable/indexing.html#indexing-view-versus-copy\n",
      "  \"\"\"Entry point for launching an IPython kernel.\n",
      "C:\\Users\\david\\Anaconda3\\lib\\site-packages\\ipykernel_launcher.py:2: SettingWithCopyWarning: \n",
      "A value is trying to be set on a copy of a slice from a DataFrame\n",
      "\n",
      "See the caveats in the documentation: http://pandas.pydata.org/pandas-docs/stable/indexing.html#indexing-view-versus-copy\n",
      "  \n"
     ]
    }
   ],
   "source": [
    "newdf.drop([col for col in newdf.columns if 'Id' in col], axis=1, inplace=True)\n",
    "newdf2.drop([col for col in newdf2.columns if 'Id' in col], axis=1, inplace=True)"
   ]
  },
  {
   "cell_type": "code",
   "execution_count": 12,
   "metadata": {},
   "outputs": [
    {
     "name": "stderr",
     "output_type": "stream",
     "text": [
      "C:\\Users\\david\\Anaconda3\\lib\\site-packages\\ipykernel_launcher.py:1: SettingWithCopyWarning: \n",
      "A value is trying to be set on a copy of a slice from a DataFrame\n",
      "\n",
      "See the caveats in the documentation: http://pandas.pydata.org/pandas-docs/stable/indexing.html#indexing-view-versus-copy\n",
      "  \"\"\"Entry point for launching an IPython kernel.\n"
     ]
    }
   ],
   "source": [
    "newdf.drop('season', axis=1, inplace=True)"
   ]
  },
  {
   "cell_type": "code",
   "execution_count": 13,
   "metadata": {},
   "outputs": [],
   "source": [
    "perkp_df = slo_df.perkPrimaryStyle_name.str.get_dummies()\n",
    "perks_df = slo_df.perkSubStyle_name.str.get_dummies()\n",
    "\n",
    "perkp_df2 = soloq_df.perkPrimaryStyle_name.str.get_dummies()\n",
    "perks_df2 = soloq_df.perkSubStyle_name.str.get_dummies()"
   ]
  },
  {
   "cell_type": "code",
   "execution_count": 14,
   "metadata": {},
   "outputs": [],
   "source": [
    "role_dum = slo_df.role.str.get_dummies()\n",
    "lane_dum = slo_df.lane.str.get_dummies()\n",
    "\n",
    "role_dum2 = soloq_df.role.str.get_dummies()\n",
    "lane_dum2 = soloq_df.lane.str.get_dummies()"
   ]
  },
  {
   "cell_type": "code",
   "execution_count": 15,
   "metadata": {},
   "outputs": [],
   "source": [
    "lane_dum2.drop('NONE', axis=1, inplace=True)"
   ]
  },
  {
   "cell_type": "code",
   "execution_count": 16,
   "metadata": {},
   "outputs": [],
   "source": [
    "champ_df = slo_df.champ_name.str.get_dummies()\n",
    "\n",
    "champ_df2 = soloq_df.champ_name.str.get_dummies()"
   ]
  },
  {
   "cell_type": "code",
   "execution_count": 17,
   "metadata": {},
   "outputs": [],
   "source": [
    "all_num_df = pd.concat([newdf, perkp_df, perks_df, champ_df, role_dum, lane_dum], axis=1)\n",
    "all_num_df2 = pd.concat([newdf2, perkp_df2, perks_df2, champ_df2, role_dum2, lane_dum2], axis=1)"
   ]
  },
  {
   "cell_type": "markdown",
   "metadata": {},
   "source": [
    "## Fill NA values "
   ]
  },
  {
   "cell_type": "code",
   "execution_count": 18,
   "metadata": {},
   "outputs": [
    {
     "name": "stderr",
     "output_type": "stream",
     "text": [
      "C:\\Users\\david\\Anaconda3\\lib\\site-packages\\ipykernel_launcher.py:1: DeprecationWarning: \n",
      ".ix is deprecated. Please use\n",
      ".loc for label based indexing or\n",
      ".iloc for positional indexing\n",
      "\n",
      "See the documentation here:\n",
      "http://pandas.pydata.org/pandas-docs/stable/indexing.html#deprecate_ix\n",
      "  \"\"\"Entry point for launching an IPython kernel.\n"
     ]
    }
   ],
   "source": [
    "fill_0_cols = all_num_df.T.ix[all_num_df.isnull().any().tolist()].T.columns.tolist()"
   ]
  },
  {
   "cell_type": "code",
   "execution_count": 19,
   "metadata": {},
   "outputs": [],
   "source": [
    "all_num_df[fill_0_cols] = all_num_df[fill_0_cols].fillna(0).astype(int)"
   ]
  },
  {
   "cell_type": "code",
   "execution_count": 20,
   "metadata": {},
   "outputs": [],
   "source": [
    "all_num_df2[fill_0_cols] = all_num_df2[fill_0_cols].fillna(0).astype(int)"
   ]
  },
  {
   "cell_type": "code",
   "execution_count": 21,
   "metadata": {},
   "outputs": [],
   "source": [
    "fill_mean_cols = [col for col in all_num_df2.columns if 'tt' in col]"
   ]
  },
  {
   "cell_type": "code",
   "execution_count": 22,
   "metadata": {},
   "outputs": [],
   "source": [
    "all_num_df2[fill_mean_cols] = all_num_df2[fill_mean_cols].fillna(all_num_df2[fill_mean_cols].mean())"
   ]
  },
  {
   "cell_type": "code",
   "execution_count": 23,
   "metadata": {},
   "outputs": [
    {
     "name": "stderr",
     "output_type": "stream",
     "text": [
      "C:\\Users\\david\\Anaconda3\\lib\\site-packages\\ipykernel_launcher.py:1: DeprecationWarning: \n",
      ".ix is deprecated. Please use\n",
      ".loc for label based indexing or\n",
      ".iloc for positional indexing\n",
      "\n",
      "See the documentation here:\n",
      "http://pandas.pydata.org/pandas-docs/stable/indexing.html#deprecate_ix\n",
      "  \"\"\"Entry point for launching an IPython kernel.\n"
     ]
    }
   ],
   "source": [
    "fill_0_cols_2 = all_num_df2.T.ix[all_num_df2.isnull().any().tolist()].T.columns.tolist()"
   ]
  },
  {
   "cell_type": "code",
   "execution_count": 24,
   "metadata": {},
   "outputs": [],
   "source": [
    "all_num_df2[fill_0_cols_2] = all_num_df2[fill_0_cols_2].fillna(0)"
   ]
  },
  {
   "cell_type": "markdown",
   "metadata": {},
   "source": [
    "## Fill missing cols "
   ]
  },
  {
   "cell_type": "code",
   "execution_count": 25,
   "metadata": {},
   "outputs": [],
   "source": [
    "missing_cols = set(all_num_df2.columns) - set(all_num_df.columns)"
   ]
  },
  {
   "cell_type": "code",
   "execution_count": 26,
   "metadata": {},
   "outputs": [],
   "source": [
    "all_num_df = all_num_df.assign(**{col: 0 for col in missing_cols})"
   ]
  },
  {
   "cell_type": "markdown",
   "metadata": {},
   "source": [
    "##  Predict"
   ]
  },
  {
   "cell_type": "markdown",
   "metadata": {},
   "source": [
    "### Set trainers, predictors and labels"
   ]
  },
  {
   "cell_type": "code",
   "execution_count": 27,
   "metadata": {},
   "outputs": [],
   "source": [
    "trainers = all_num_df[sorted(all_num_df.columns)]\n",
    "predictors = all_num_df2[sorted(all_num_df2.columns)]"
   ]
  },
  {
   "cell_type": "code",
   "execution_count": 28,
   "metadata": {},
   "outputs": [],
   "source": [
    "labels = slo_df.position"
   ]
  },
  {
   "cell_type": "markdown",
   "metadata": {},
   "source": [
    "### Configure all models"
   ]
  },
  {
   "cell_type": "code",
   "execution_count": 29,
   "metadata": {},
   "outputs": [],
   "source": [
    "model1 = DecisionTreeClassifier()\n",
    "model2 = BernoulliNB()\n",
    "model3 = MLPClassifier()\n",
    "model4 = SVC()\n",
    "model5 = BaggingClassifier()\n",
    "model6 = GradientBoostingClassifier()\n",
    "model7 = RandomForestClassifier()"
   ]
  },
  {
   "cell_type": "code",
   "execution_count": 30,
   "metadata": {},
   "outputs": [],
   "source": [
    "models = [model1, model2, model3, model4, model5, model6, model7]"
   ]
  },
  {
   "cell_type": "code",
   "execution_count": 31,
   "metadata": {},
   "outputs": [],
   "source": [
    "models_results = pd.concat([pd.DataFrame(cross_val_score(estimator=model, cv=5, X=trainers, y=labels)).T for model in models])"
   ]
  },
  {
   "cell_type": "code",
   "execution_count": 32,
   "metadata": {},
   "outputs": [],
   "source": [
    "models_results['model'] = ['DecisionTreeClassifier', 'BernoulliNB', 'MLPClassifier', 'SVC', 'BaggingClassifier', 'GradientBoostingClassifier', 'RandomForestClassifier']"
   ]
  },
  {
   "cell_type": "code",
   "execution_count": 33,
   "metadata": {},
   "outputs": [],
   "source": [
    "models_results['mean'] = models_results[[0, 1, 2, 3, 4]].T.mean()"
   ]
  },
  {
   "cell_type": "code",
   "execution_count": 34,
   "metadata": {},
   "outputs": [],
   "source": [
    "models_results['std'] = models_results[[0, 1, 2, 3, 4]].T.std()"
   ]
  },
  {
   "cell_type": "code",
   "execution_count": 35,
   "metadata": {},
   "outputs": [
    {
     "data": {
      "text/html": [
       "<div>\n",
       "<style>\n",
       "    .dataframe thead tr:only-child th {\n",
       "        text-align: right;\n",
       "    }\n",
       "\n",
       "    .dataframe thead th {\n",
       "        text-align: left;\n",
       "    }\n",
       "\n",
       "    .dataframe tbody tr th {\n",
       "        vertical-align: top;\n",
       "    }\n",
       "</style>\n",
       "<table border=\"1\" class=\"dataframe\">\n",
       "  <thead>\n",
       "    <tr style=\"text-align: right;\">\n",
       "      <th></th>\n",
       "      <th>0</th>\n",
       "      <th>1</th>\n",
       "      <th>2</th>\n",
       "      <th>3</th>\n",
       "      <th>4</th>\n",
       "      <th>model</th>\n",
       "      <th>mean</th>\n",
       "      <th>std</th>\n",
       "    </tr>\n",
       "  </thead>\n",
       "  <tbody>\n",
       "    <tr>\n",
       "      <th>0</th>\n",
       "      <td>0.9250</td>\n",
       "      <td>0.9350</td>\n",
       "      <td>0.945</td>\n",
       "      <td>0.9375</td>\n",
       "      <td>0.9350</td>\n",
       "      <td>DecisionTreeClassifier</td>\n",
       "      <td>0.9355</td>\n",
       "      <td>0.007159</td>\n",
       "    </tr>\n",
       "    <tr>\n",
       "      <th>1</th>\n",
       "      <td>0.9375</td>\n",
       "      <td>0.9325</td>\n",
       "      <td>0.940</td>\n",
       "      <td>0.9275</td>\n",
       "      <td>0.9350</td>\n",
       "      <td>BernoulliNB</td>\n",
       "      <td>0.9345</td>\n",
       "      <td>0.004809</td>\n",
       "    </tr>\n",
       "    <tr>\n",
       "      <th>2</th>\n",
       "      <td>0.8700</td>\n",
       "      <td>0.8500</td>\n",
       "      <td>0.835</td>\n",
       "      <td>0.8450</td>\n",
       "      <td>0.8925</td>\n",
       "      <td>MLPClassifier</td>\n",
       "      <td>0.8585</td>\n",
       "      <td>0.022886</td>\n",
       "    </tr>\n",
       "    <tr>\n",
       "      <th>3</th>\n",
       "      <td>0.2000</td>\n",
       "      <td>0.2000</td>\n",
       "      <td>0.200</td>\n",
       "      <td>0.2000</td>\n",
       "      <td>0.2000</td>\n",
       "      <td>SVC</td>\n",
       "      <td>0.2000</td>\n",
       "      <td>0.000000</td>\n",
       "    </tr>\n",
       "    <tr>\n",
       "      <th>4</th>\n",
       "      <td>0.9350</td>\n",
       "      <td>0.9450</td>\n",
       "      <td>0.975</td>\n",
       "      <td>0.9550</td>\n",
       "      <td>0.9550</td>\n",
       "      <td>BaggingClassifier</td>\n",
       "      <td>0.9530</td>\n",
       "      <td>0.014832</td>\n",
       "    </tr>\n",
       "    <tr>\n",
       "      <th>5</th>\n",
       "      <td>0.9625</td>\n",
       "      <td>0.9650</td>\n",
       "      <td>0.975</td>\n",
       "      <td>0.9800</td>\n",
       "      <td>0.9625</td>\n",
       "      <td>GradientBoostingClassifier</td>\n",
       "      <td>0.9690</td>\n",
       "      <td>0.008023</td>\n",
       "    </tr>\n",
       "    <tr>\n",
       "      <th>6</th>\n",
       "      <td>0.9275</td>\n",
       "      <td>0.9650</td>\n",
       "      <td>0.965</td>\n",
       "      <td>0.9550</td>\n",
       "      <td>0.9525</td>\n",
       "      <td>RandomForestClassifier</td>\n",
       "      <td>0.9530</td>\n",
       "      <td>0.015350</td>\n",
       "    </tr>\n",
       "  </tbody>\n",
       "</table>\n",
       "</div>"
      ],
      "text/plain": [
       "        0       1      2       3       4                       model    mean  \\\n",
       "0  0.9250  0.9350  0.945  0.9375  0.9350      DecisionTreeClassifier  0.9355   \n",
       "1  0.9375  0.9325  0.940  0.9275  0.9350                 BernoulliNB  0.9345   \n",
       "2  0.8700  0.8500  0.835  0.8450  0.8925               MLPClassifier  0.8585   \n",
       "3  0.2000  0.2000  0.200  0.2000  0.2000                         SVC  0.2000   \n",
       "4  0.9350  0.9450  0.975  0.9550  0.9550           BaggingClassifier  0.9530   \n",
       "5  0.9625  0.9650  0.975  0.9800  0.9625  GradientBoostingClassifier  0.9690   \n",
       "6  0.9275  0.9650  0.965  0.9550  0.9525      RandomForestClassifier  0.9530   \n",
       "\n",
       "        std  \n",
       "0  0.007159  \n",
       "1  0.004809  \n",
       "2  0.022886  \n",
       "3  0.000000  \n",
       "4  0.014832  \n",
       "5  0.008023  \n",
       "6  0.015350  "
      ]
     },
     "execution_count": 35,
     "metadata": {},
     "output_type": "execute_result"
    }
   ],
   "source": [
    "models_results.reset_index(drop=True)"
   ]
  },
  {
   "cell_type": "code",
   "execution_count": 36,
   "metadata": {},
   "outputs": [],
   "source": [
    "list1 = []"
   ]
  },
  {
   "cell_type": "code",
   "execution_count": 37,
   "metadata": {
    "scrolled": false
   },
   "outputs": [
    {
     "data": {
      "image/png": "[encoded data removed]",
      "text/plain": [
       "<Figure size 432x288 with 1 Axes>"
      ]
     },
     "metadata": {},
     "output_type": "display_data"
    },
    {
     "data": {
      "image/png": "[encoded data removed]",
      "text/plain": [
       "<Figure size 432x288 with 1 Axes>"
      ]
     },
     "metadata": {},
     "output_type": "display_data"
    },
    {
     "data": {
      "image/png": "[encoded data removed]",
      "text/plain": [
       "<Figure size 432x288 with 1 Axes>"
      ]
     },
     "metadata": {},
     "output_type": "display_data"
    },
    {
     "data": {
      "image/png": "[encoded data removed]",
      "text/plain": [
       "<Figure size 432x288 with 1 Axes>"
      ]
     },
     "metadata": {},
     "output_type": "display_data"
    },
    {
     "data": {
      "image/png": "[encoded data removed]",
      "text/plain": [
       "<Figure size 432x288 with 1 Axes>"
      ]
     },
     "metadata": {},
     "output_type": "display_data"
    },
    {
     "data": {
      "image/png": "[encoded data removed]",
      "text/plain": [
       "<Figure size 432x288 with 1 Axes>"
      ]
     },
     "metadata": {},
     "output_type": "display_data"
    },
    {
     "data": {
      "image/png": "[encoded data removed]",
      "text/plain": [
       "<Figure size 432x288 with 1 Axes>"
      ]
     },
     "metadata": {},
     "output_type": "display_data"
    }
   ],
   "source": [
    "for model in models:\n",
    "    model.fit(X=trainers, y=labels)\n",
    "    predicts = model.predict(X=predictors)\n",
    "    soloq_df['position'] = predicts\n",
    "    \n",
    "    m_name = str(model.__class__).split('\\'')[-2].split('.')[-1]\n",
    "    \n",
    "    data = soloq_df.position.value_counts()\n",
    "    data.plot(kind='bar', title=m_name)\n",
    "    plt.show()\n",
    "    \n",
    "    soloq_df = soloq_df.assign(**{lane: 0 for lane in ['ADC', 'JUNG', 'MID', 'SUPP', 'TOP']})\n",
    "    pos_dums = soloq_df.position.str.get_dummies()\n",
    "    dums_cols = pos_dums.columns.tolist()\n",
    "    soloq_df[dums_cols] = pos_dums\n",
    "    df_temp = soloq_df.groupby(['gameId', 'side']).sum()[['ADC', 'JUNG', 'MID', 'SUPP', 'TOP']]\n",
    "    df_temp['all_good'] = df_temp.apply(positions_assigned_correctly, axis=1)\n",
    "    good_predicts = df_temp.all_good.sum()\n",
    "    \n",
    "    list1.append({'model': m_name, 'predicts': predicts, 'good_predicts': good_predicts})"
   ]
  },
  {
   "cell_type": "code",
   "execution_count": 38,
   "metadata": {},
   "outputs": [],
   "source": [
    "predicts_df = pd.DataFrame(list1)"
   ]
  },
  {
   "cell_type": "code",
   "execution_count": 39,
   "metadata": {},
   "outputs": [
    {
     "data": {
      "text/html": [
       "<div>\n",
       "<style>\n",
       "    .dataframe thead tr:only-child th {\n",
       "        text-align: right;\n",
       "    }\n",
       "\n",
       "    .dataframe thead th {\n",
       "        text-align: left;\n",
       "    }\n",
       "\n",
       "    .dataframe tbody tr th {\n",
       "        vertical-align: top;\n",
       "    }\n",
       "</style>\n",
       "<table border=\"1\" class=\"dataframe\">\n",
       "  <thead>\n",
       "    <tr style=\"text-align: right;\">\n",
       "      <th></th>\n",
       "      <th>good_predicts</th>\n",
       "      <th>model</th>\n",
       "      <th>predicts</th>\n",
       "    </tr>\n",
       "  </thead>\n",
       "  <tbody>\n",
       "    <tr>\n",
       "      <th>0</th>\n",
       "      <td>2098</td>\n",
       "      <td>DecisionTreeClassifier</td>\n",
       "      <td>[JUNG, SUPP, JUNG, TOP, MID, MID, JUNG, SUPP, ...</td>\n",
       "    </tr>\n",
       "    <tr>\n",
       "      <th>1</th>\n",
       "      <td>2759</td>\n",
       "      <td>BernoulliNB</td>\n",
       "      <td>[ADC, SUPP, JUNG, TOP, MID, TOP, JUNG, SUPP, A...</td>\n",
       "    </tr>\n",
       "    <tr>\n",
       "      <th>2</th>\n",
       "      <td>606</td>\n",
       "      <td>MLPClassifier</td>\n",
       "      <td>[ADC, SUPP, TOP, TOP, ADC, MID, SUPP, SUPP, AD...</td>\n",
       "    </tr>\n",
       "    <tr>\n",
       "      <th>3</th>\n",
       "      <td>0</td>\n",
       "      <td>SVC</td>\n",
       "      <td>[TOP, TOP, TOP, TOP, TOP, TOP, TOP, TOP, TOP, ...</td>\n",
       "    </tr>\n",
       "    <tr>\n",
       "      <th>4</th>\n",
       "      <td>2534</td>\n",
       "      <td>BaggingClassifier</td>\n",
       "      <td>[JUNG, SUPP, JUNG, TOP, MID, MID, JUNG, SUPP, ...</td>\n",
       "    </tr>\n",
       "    <tr>\n",
       "      <th>5</th>\n",
       "      <td>2912</td>\n",
       "      <td>GradientBoostingClassifier</td>\n",
       "      <td>[TOP, SUPP, JUNG, TOP, MID, MID, MID, SUPP, AD...</td>\n",
       "    </tr>\n",
       "    <tr>\n",
       "      <th>6</th>\n",
       "      <td>2379</td>\n",
       "      <td>RandomForestClassifier</td>\n",
       "      <td>[ADC, SUPP, JUNG, TOP, MID, TOP, JUNG, SUPP, A...</td>\n",
       "    </tr>\n",
       "  </tbody>\n",
       "</table>\n",
       "</div>"
      ],
      "text/plain": [
       "   good_predicts                       model  \\\n",
       "0           2098      DecisionTreeClassifier   \n",
       "1           2759                 BernoulliNB   \n",
       "2            606               MLPClassifier   \n",
       "3              0                         SVC   \n",
       "4           2534           BaggingClassifier   \n",
       "5           2912  GradientBoostingClassifier   \n",
       "6           2379      RandomForestClassifier   \n",
       "\n",
       "                                            predicts  \n",
       "0  [JUNG, SUPP, JUNG, TOP, MID, MID, JUNG, SUPP, ...  \n",
       "1  [ADC, SUPP, JUNG, TOP, MID, TOP, JUNG, SUPP, A...  \n",
       "2  [ADC, SUPP, TOP, TOP, ADC, MID, SUPP, SUPP, AD...  \n",
       "3  [TOP, TOP, TOP, TOP, TOP, TOP, TOP, TOP, TOP, ...  \n",
       "4  [JUNG, SUPP, JUNG, TOP, MID, MID, JUNG, SUPP, ...  \n",
       "5  [TOP, SUPP, JUNG, TOP, MID, MID, MID, SUPP, AD...  \n",
       "6  [ADC, SUPP, JUNG, TOP, MID, TOP, JUNG, SUPP, A...  "
      ]
     },
     "execution_count": 39,
     "metadata": {},
     "output_type": "execute_result"
    }
   ],
   "source": [
    "predicts_df"
   ]
  },
  {
   "cell_type": "code",
   "execution_count": 40,
   "metadata": {},
   "outputs": [
    {
     "name": "stdout",
     "output_type": "stream",
     "text": [
      "DecisionTreeClassifier\n",
      "TOP     6320\n",
      "JUNG    5624\n",
      "ADC     5551\n",
      "MID     5259\n",
      "SUPP    4106\n",
      "dtype: int64\n",
      "2098\n",
      "\n",
      "\n",
      "BernoulliNB\n",
      "TOP     6701\n",
      "SUPP    5987\n",
      "JUNG    5334\n",
      "ADC     5095\n",
      "MID     3743\n",
      "dtype: int64\n",
      "2759\n",
      "\n",
      "\n",
      "MLPClassifier\n",
      "TOP     10201\n",
      "SUPP     5570\n",
      "JUNG     5326\n",
      "ADC      3355\n",
      "MID      2408\n",
      "dtype: int64\n",
      "606\n",
      "\n",
      "\n",
      "SVC\n",
      "TOP    26860\n",
      "dtype: int64\n",
      "0\n",
      "\n",
      "\n",
      "BaggingClassifier\n",
      "TOP     6972\n",
      "JUNG    5543\n",
      "ADC     5081\n",
      "SUPP    4720\n",
      "MID     4544\n",
      "dtype: int64\n",
      "2534\n",
      "\n",
      "\n",
      "GradientBoostingClassifier\n",
      "TOP     7333\n",
      "JUNG    5768\n",
      "SUPP    4843\n",
      "ADC     4551\n",
      "MID     4365\n",
      "dtype: int64\n",
      "2912\n",
      "\n",
      "\n",
      "RandomForestClassifier\n",
      "TOP     7048\n",
      "ADC     5473\n",
      "JUNG    5459\n",
      "SUPP    5237\n",
      "MID     3643\n",
      "dtype: int64\n",
      "2379\n",
      "\n",
      "\n"
     ]
    }
   ],
   "source": [
    "for row in predicts_df.iterrows():\n",
    "    print(row[1][1])\n",
    "    print(pd.Series(row[1][2]).value_counts())\n",
    "    print(row[1][0])\n",
    "    print('\\n')"
   ]
  },
  {
   "cell_type": "markdown",
   "metadata": {},
   "source": [
    "# Predictions with only champion, runes and role/lane info "
   ]
  },
  {
   "cell_type": "code",
   "execution_count": 41,
   "metadata": {},
   "outputs": [],
   "source": [
    "all_num_df = pd.concat([perkp_df, perks_df, champ_df, role_dum, lane_dum], axis=1)\n",
    "all_num_df2 = pd.concat([perkp_df2, perks_df2, champ_df2, role_dum2, lane_dum2], axis=1)"
   ]
  },
  {
   "cell_type": "markdown",
   "metadata": {},
   "source": [
    "## Fill NA values "
   ]
  },
  {
   "cell_type": "code",
   "execution_count": 42,
   "metadata": {},
   "outputs": [
    {
     "name": "stderr",
     "output_type": "stream",
     "text": [
      "C:\\Users\\david\\Anaconda3\\lib\\site-packages\\ipykernel_launcher.py:1: DeprecationWarning: \n",
      ".ix is deprecated. Please use\n",
      ".loc for label based indexing or\n",
      ".iloc for positional indexing\n",
      "\n",
      "See the documentation here:\n",
      "http://pandas.pydata.org/pandas-docs/stable/indexing.html#deprecate_ix\n",
      "  \"\"\"Entry point for launching an IPython kernel.\n"
     ]
    }
   ],
   "source": [
    "fill_0_cols = all_num_df.T.ix[all_num_df.isnull().any().tolist()].T.columns.tolist()"
   ]
  },
  {
   "cell_type": "code",
   "execution_count": 43,
   "metadata": {},
   "outputs": [],
   "source": [
    "all_num_df[fill_0_cols] = all_num_df[fill_0_cols].fillna(0).astype(int)"
   ]
  },
  {
   "cell_type": "code",
   "execution_count": 44,
   "metadata": {},
   "outputs": [],
   "source": [
    "all_num_df2[fill_0_cols] = all_num_df2[fill_0_cols].fillna(0).astype(int)"
   ]
  },
  {
   "cell_type": "code",
   "execution_count": 45,
   "metadata": {},
   "outputs": [],
   "source": [
    "fill_mean_cols = [col for col in all_num_df2.columns if 'tt' in col]"
   ]
  },
  {
   "cell_type": "code",
   "execution_count": 46,
   "metadata": {},
   "outputs": [],
   "source": [
    "all_num_df2[fill_mean_cols] = all_num_df2[fill_mean_cols].fillna(all_num_df2[fill_mean_cols].mean())"
   ]
  },
  {
   "cell_type": "markdown",
   "metadata": {},
   "source": [
    "## Fill NA values "
   ]
  },
  {
   "cell_type": "code",
   "execution_count": 47,
   "metadata": {},
   "outputs": [
    {
     "name": "stderr",
     "output_type": "stream",
     "text": [
      "C:\\Users\\david\\Anaconda3\\lib\\site-packages\\ipykernel_launcher.py:1: DeprecationWarning: \n",
      ".ix is deprecated. Please use\n",
      ".loc for label based indexing or\n",
      ".iloc for positional indexing\n",
      "\n",
      "See the documentation here:\n",
      "http://pandas.pydata.org/pandas-docs/stable/indexing.html#deprecate_ix\n",
      "  \"\"\"Entry point for launching an IPython kernel.\n"
     ]
    }
   ],
   "source": [
    "fill_0_cols = all_num_df.T.ix[all_num_df.isnull().any().tolist()].T.columns.tolist()"
   ]
  },
  {
   "cell_type": "code",
   "execution_count": 48,
   "metadata": {},
   "outputs": [],
   "source": [
    "all_num_df[fill_0_cols] = all_num_df[fill_0_cols].fillna(0).astype(int)"
   ]
  },
  {
   "cell_type": "code",
   "execution_count": 49,
   "metadata": {},
   "outputs": [],
   "source": [
    "all_num_df2[fill_0_cols] = all_num_df2[fill_0_cols].fillna(0).astype(int)"
   ]
  },
  {
   "cell_type": "code",
   "execution_count": 50,
   "metadata": {},
   "outputs": [],
   "source": [
    "fill_mean_cols = [col for col in all_num_df2.columns if 'tt' in col]"
   ]
  },
  {
   "cell_type": "code",
   "execution_count": 51,
   "metadata": {},
   "outputs": [],
   "source": [
    "all_num_df2[fill_mean_cols] = all_num_df2[fill_mean_cols].fillna(all_num_df2[fill_mean_cols].mean())"
   ]
  },
  {
   "cell_type": "code",
   "execution_count": 52,
   "metadata": {},
   "outputs": [
    {
     "name": "stderr",
     "output_type": "stream",
     "text": [
      "C:\\Users\\david\\Anaconda3\\lib\\site-packages\\ipykernel_launcher.py:1: DeprecationWarning: \n",
      ".ix is deprecated. Please use\n",
      ".loc for label based indexing or\n",
      ".iloc for positional indexing\n",
      "\n",
      "See the documentation here:\n",
      "http://pandas.pydata.org/pandas-docs/stable/indexing.html#deprecate_ix\n",
      "  \"\"\"Entry point for launching an IPython kernel.\n"
     ]
    }
   ],
   "source": [
    "fill_0_cols_2 = all_num_df2.T.ix[all_num_df2.isnull().any().tolist()].T.columns.tolist()"
   ]
  },
  {
   "cell_type": "code",
   "execution_count": 53,
   "metadata": {},
   "outputs": [],
   "source": [
    "all_num_df2[fill_0_cols_2] = all_num_df2[fill_0_cols_2].fillna(0)"
   ]
  },
  {
   "cell_type": "markdown",
   "metadata": {},
   "source": [
    "## Fill missing cols "
   ]
  },
  {
   "cell_type": "code",
   "execution_count": 54,
   "metadata": {},
   "outputs": [],
   "source": [
    "missing_cols = set(all_num_df2.columns) - set(all_num_df.columns)"
   ]
  },
  {
   "cell_type": "code",
   "execution_count": 55,
   "metadata": {},
   "outputs": [],
   "source": [
    "all_num_df = all_num_df.assign(**{col: 0 for col in missing_cols})"
   ]
  },
  {
   "cell_type": "markdown",
   "metadata": {},
   "source": [
    "##  Predict"
   ]
  },
  {
   "cell_type": "markdown",
   "metadata": {},
   "source": [
    "### Set trainers, predictors and labels"
   ]
  },
  {
   "cell_type": "code",
   "execution_count": 56,
   "metadata": {},
   "outputs": [],
   "source": [
    "trainers = all_num_df[sorted(all_num_df.columns)]\n",
    "predictors = all_num_df2[sorted(all_num_df2.columns)]"
   ]
  },
  {
   "cell_type": "code",
   "execution_count": 57,
   "metadata": {},
   "outputs": [],
   "source": [
    "labels = slo_df.position"
   ]
  },
  {
   "cell_type": "markdown",
   "metadata": {},
   "source": [
    "### Configure all models"
   ]
  },
  {
   "cell_type": "code",
   "execution_count": 58,
   "metadata": {},
   "outputs": [],
   "source": [
    "model1 = DecisionTreeClassifier()\n",
    "model2 = BernoulliNB()\n",
    "model3 = MLPClassifier()\n",
    "model4 = SVC()\n",
    "model5 = BaggingClassifier()\n",
    "model6 = GradientBoostingClassifier()\n",
    "model7 = RandomForestClassifier()"
   ]
  },
  {
   "cell_type": "code",
   "execution_count": 59,
   "metadata": {},
   "outputs": [],
   "source": [
    "models = [model1, model2, model3, model4, model5, model6, model7]"
   ]
  },
  {
   "cell_type": "code",
   "execution_count": 60,
   "metadata": {},
   "outputs": [],
   "source": [
    "models_results = pd.concat([pd.DataFrame(cross_val_score(estimator=model, cv=5, X=trainers, y=labels)).T for model in models])"
   ]
  },
  {
   "cell_type": "code",
   "execution_count": 61,
   "metadata": {},
   "outputs": [],
   "source": [
    "models_results['model'] = ['DecisionTreeClassifier', 'BernoulliNB', 'MLPClassifier', 'SVC', 'BaggingClassifier', 'GradientBoostingClassifier', 'RandomForestClassifier']"
   ]
  },
  {
   "cell_type": "code",
   "execution_count": 62,
   "metadata": {},
   "outputs": [],
   "source": [
    "models_results['mean'] = models_results[[0, 1, 2, 3, 4]].T.mean()"
   ]
  },
  {
   "cell_type": "code",
   "execution_count": 63,
   "metadata": {},
   "outputs": [],
   "source": [
    "models_results['std'] = models_results[[0, 1, 2, 3, 4]].T.std()"
   ]
  },
  {
   "cell_type": "code",
   "execution_count": 64,
   "metadata": {},
   "outputs": [
    {
     "data": {
      "text/html": [
       "<div>\n",
       "<style>\n",
       "    .dataframe thead tr:only-child th {\n",
       "        text-align: right;\n",
       "    }\n",
       "\n",
       "    .dataframe thead th {\n",
       "        text-align: left;\n",
       "    }\n",
       "\n",
       "    .dataframe tbody tr th {\n",
       "        vertical-align: top;\n",
       "    }\n",
       "</style>\n",
       "<table border=\"1\" class=\"dataframe\">\n",
       "  <thead>\n",
       "    <tr style=\"text-align: right;\">\n",
       "      <th></th>\n",
       "      <th>0</th>\n",
       "      <th>1</th>\n",
       "      <th>2</th>\n",
       "      <th>3</th>\n",
       "      <th>4</th>\n",
       "      <th>model</th>\n",
       "      <th>mean</th>\n",
       "      <th>std</th>\n",
       "    </tr>\n",
       "  </thead>\n",
       "  <tbody>\n",
       "    <tr>\n",
       "      <th>0</th>\n",
       "      <td>0.9375</td>\n",
       "      <td>0.9150</td>\n",
       "      <td>0.9225</td>\n",
       "      <td>0.9025</td>\n",
       "      <td>0.9100</td>\n",
       "      <td>DecisionTreeClassifier</td>\n",
       "      <td>0.9175</td>\n",
       "      <td>0.013346</td>\n",
       "    </tr>\n",
       "    <tr>\n",
       "      <th>1</th>\n",
       "      <td>0.9075</td>\n",
       "      <td>0.8900</td>\n",
       "      <td>0.8775</td>\n",
       "      <td>0.8525</td>\n",
       "      <td>0.8800</td>\n",
       "      <td>BernoulliNB</td>\n",
       "      <td>0.8815</td>\n",
       "      <td>0.020047</td>\n",
       "    </tr>\n",
       "    <tr>\n",
       "      <th>2</th>\n",
       "      <td>0.9550</td>\n",
       "      <td>0.9500</td>\n",
       "      <td>0.9650</td>\n",
       "      <td>0.9500</td>\n",
       "      <td>0.9525</td>\n",
       "      <td>MLPClassifier</td>\n",
       "      <td>0.9545</td>\n",
       "      <td>0.006225</td>\n",
       "    </tr>\n",
       "    <tr>\n",
       "      <th>3</th>\n",
       "      <td>0.8350</td>\n",
       "      <td>0.8000</td>\n",
       "      <td>0.7625</td>\n",
       "      <td>0.7750</td>\n",
       "      <td>0.8000</td>\n",
       "      <td>SVC</td>\n",
       "      <td>0.7945</td>\n",
       "      <td>0.027861</td>\n",
       "    </tr>\n",
       "    <tr>\n",
       "      <th>4</th>\n",
       "      <td>0.9225</td>\n",
       "      <td>0.9200</td>\n",
       "      <td>0.9250</td>\n",
       "      <td>0.9075</td>\n",
       "      <td>0.9125</td>\n",
       "      <td>BaggingClassifier</td>\n",
       "      <td>0.9175</td>\n",
       "      <td>0.007289</td>\n",
       "    </tr>\n",
       "    <tr>\n",
       "      <th>5</th>\n",
       "      <td>0.9400</td>\n",
       "      <td>0.9450</td>\n",
       "      <td>0.9475</td>\n",
       "      <td>0.9400</td>\n",
       "      <td>0.9425</td>\n",
       "      <td>GradientBoostingClassifier</td>\n",
       "      <td>0.9430</td>\n",
       "      <td>0.003260</td>\n",
       "    </tr>\n",
       "    <tr>\n",
       "      <th>6</th>\n",
       "      <td>0.9375</td>\n",
       "      <td>0.9125</td>\n",
       "      <td>0.9175</td>\n",
       "      <td>0.9025</td>\n",
       "      <td>0.9050</td>\n",
       "      <td>RandomForestClassifier</td>\n",
       "      <td>0.9150</td>\n",
       "      <td>0.013919</td>\n",
       "    </tr>\n",
       "  </tbody>\n",
       "</table>\n",
       "</div>"
      ],
      "text/plain": [
       "        0       1       2       3       4                       model    mean  \\\n",
       "0  0.9375  0.9150  0.9225  0.9025  0.9100      DecisionTreeClassifier  0.9175   \n",
       "1  0.9075  0.8900  0.8775  0.8525  0.8800                 BernoulliNB  0.8815   \n",
       "2  0.9550  0.9500  0.9650  0.9500  0.9525               MLPClassifier  0.9545   \n",
       "3  0.8350  0.8000  0.7625  0.7750  0.8000                         SVC  0.7945   \n",
       "4  0.9225  0.9200  0.9250  0.9075  0.9125           BaggingClassifier  0.9175   \n",
       "5  0.9400  0.9450  0.9475  0.9400  0.9425  GradientBoostingClassifier  0.9430   \n",
       "6  0.9375  0.9125  0.9175  0.9025  0.9050      RandomForestClassifier  0.9150   \n",
       "\n",
       "        std  \n",
       "0  0.013346  \n",
       "1  0.020047  \n",
       "2  0.006225  \n",
       "3  0.027861  \n",
       "4  0.007289  \n",
       "5  0.003260  \n",
       "6  0.013919  "
      ]
     },
     "execution_count": 64,
     "metadata": {},
     "output_type": "execute_result"
    }
   ],
   "source": [
    "models_results.reset_index(drop=True)"
   ]
  },
  {
   "cell_type": "code",
   "execution_count": 65,
   "metadata": {},
   "outputs": [],
   "source": [
    "list1 = []"
   ]
  },
  {
   "cell_type": "code",
   "execution_count": 66,
   "metadata": {},
   "outputs": [
    {
     "data": {
      "image/png": "[encoded data removed]",
      "text/plain": [
       "<Figure size 432x288 with 1 Axes>"
      ]
     },
     "metadata": {},
     "output_type": "display_data"
    },
    {
     "data": {
      "image/png": "[encoded data removed]",
      "text/plain": [
       "<Figure size 432x288 with 1 Axes>"
      ]
     },
     "metadata": {},
     "output_type": "display_data"
    },
    {
     "data": {
      "image/png": "[encoded data removed]",
      "text/plain": [
       "<Figure size 432x288 with 1 Axes>"
      ]
     },
     "metadata": {},
     "output_type": "display_data"
    },
    {
     "data": {
      "image/png": "[encoded data removed]",
      "text/plain": [
       "<Figure size 432x288 with 1 Axes>"
      ]
     },
     "metadata": {},
     "output_type": "display_data"
    },
    {
     "data": {
      "image/png": "[encoded data removed]",
      "text/plain": [
       "<Figure size 432x288 with 1 Axes>"
      ]
     },
     "metadata": {},
     "output_type": "display_data"
    },
    {
     "data": {
      "image/png": "[encoded data removed]",
      "text/plain": [
       "<Figure size 432x288 with 1 Axes>"
      ]
     },
     "metadata": {},
     "output_type": "display_data"
    },
    {
     "data": {
      "image/png": "[encoded data removed]",
      "text/plain": [
       "<Figure size 432x288 with 1 Axes>"
      ]
     },
     "metadata": {},
     "output_type": "display_data"
    }
   ],
   "source": [
    "for model in models:\n",
    "    model.fit(X=trainers, y=labels)\n",
    "    predicts = model.predict(X=predictors)\n",
    "    soloq_df['position'] = predicts\n",
    "    \n",
    "    m_name = str(model.__class__).split('\\'')[-2].split('.')[-1]\n",
    "    \n",
    "    data = soloq_df.position.value_counts()\n",
    "    data.plot(kind='bar', title=m_name)\n",
    "    plt.show()\n",
    "    \n",
    "    soloq_df = soloq_df.assign(**{lane: 0 for lane in ['ADC', 'JUNG', 'MID', 'SUPP', 'TOP']})\n",
    "    pos_dums = soloq_df.position.str.get_dummies()\n",
    "    dums_cols = pos_dums.columns.tolist()\n",
    "    soloq_df[dums_cols] = pos_dums\n",
    "    df_temp = soloq_df.groupby(['gameId', 'side']).sum()[['ADC', 'JUNG', 'MID', 'SUPP', 'TOP']]\n",
    "    df_temp['all_good'] = df_temp.apply(positions_assigned_correctly, axis=1)\n",
    "    good_predicts = df_temp.all_good.sum()\n",
    "    \n",
    "    list1.append({'model': m_name, 'predicts': predicts, 'good_predicts': good_predicts})"
   ]
  },
  {
   "cell_type": "code",
   "execution_count": 67,
   "metadata": {},
   "outputs": [],
   "source": [
    "predicts_df = pd.DataFrame(list1)"
   ]
  },
  {
   "cell_type": "code",
   "execution_count": 68,
   "metadata": {},
   "outputs": [
    {
     "name": "stdout",
     "output_type": "stream",
     "text": [
      "DecisionTreeClassifier\n",
      "JUNG    6307\n",
      "TOP     5334\n",
      "SUPP    5170\n",
      "ADC     5126\n",
      "MID     4923\n",
      "dtype: int64\n",
      "3169\n",
      "\n",
      "\n",
      "BernoulliNB\n",
      "JUNG    6050\n",
      "SUPP    5621\n",
      "ADC     5530\n",
      "MID     4852\n",
      "TOP     4807\n",
      "dtype: int64\n",
      "2714\n",
      "\n",
      "\n",
      "MLPClassifier\n",
      "JUNG    6024\n",
      "SUPP    5823\n",
      "ADC     5486\n",
      "TOP     4998\n",
      "MID     4529\n",
      "dtype: int64\n",
      "2954\n",
      "\n",
      "\n",
      "SVC\n",
      "JUNG    7941\n",
      "TOP     5801\n",
      "MID     4658\n",
      "ADC     4548\n",
      "SUPP    3912\n",
      "dtype: int64\n",
      "1251\n",
      "\n",
      "\n",
      "BaggingClassifier\n",
      "JUNG    6447\n",
      "TOP     5318\n",
      "SUPP    5251\n",
      "ADC     5075\n",
      "MID     4769\n",
      "dtype: int64\n",
      "3145\n",
      "\n",
      "\n",
      "GradientBoostingClassifier\n",
      "SUPP    6715\n",
      "JUNG    5245\n",
      "TOP     5085\n",
      "ADC     5085\n",
      "MID     4730\n",
      "dtype: int64\n",
      "3140\n",
      "\n",
      "\n",
      "RandomForestClassifier\n",
      "JUNG    6429\n",
      "SUPP    6272\n",
      "ADC     5029\n",
      "TOP     4960\n",
      "MID     4170\n",
      "dtype: int64\n",
      "2596\n",
      "\n",
      "\n"
     ]
    }
   ],
   "source": [
    "for row in predicts_df.iterrows():\n",
    "    print(row[1][1])\n",
    "    print(pd.Series(row[1][2]).value_counts())\n",
    "    print(row[1][0])\n",
    "    print('\\n')"
   ]
  },
  {
   "cell_type": "markdown",
   "metadata": {},
   "source": [
    "# Predictions with only champion and role/lane info "
   ]
  },
  {
   "cell_type": "code",
   "execution_count": 69,
   "metadata": {},
   "outputs": [],
   "source": [
    "all_num_df = pd.concat([champ_df, role_dum, lane_dum], axis=1)\n",
    "all_num_df2 = pd.concat([champ_df2, role_dum2, lane_dum2], axis=1)"
   ]
  },
  {
   "cell_type": "markdown",
   "metadata": {},
   "source": [
    "## Fill NA values "
   ]
  },
  {
   "cell_type": "code",
   "execution_count": 70,
   "metadata": {},
   "outputs": [
    {
     "name": "stderr",
     "output_type": "stream",
     "text": [
      "C:\\Users\\david\\Anaconda3\\lib\\site-packages\\ipykernel_launcher.py:1: DeprecationWarning: \n",
      ".ix is deprecated. Please use\n",
      ".loc for label based indexing or\n",
      ".iloc for positional indexing\n",
      "\n",
      "See the documentation here:\n",
      "http://pandas.pydata.org/pandas-docs/stable/indexing.html#deprecate_ix\n",
      "  \"\"\"Entry point for launching an IPython kernel.\n"
     ]
    }
   ],
   "source": [
    "fill_0_cols = all_num_df.T.ix[all_num_df.isnull().any().tolist()].T.columns.tolist()"
   ]
  },
  {
   "cell_type": "code",
   "execution_count": 71,
   "metadata": {},
   "outputs": [],
   "source": [
    "all_num_df[fill_0_cols] = all_num_df[fill_0_cols].fillna(0).astype(int)"
   ]
  },
  {
   "cell_type": "code",
   "execution_count": 72,
   "metadata": {},
   "outputs": [],
   "source": [
    "all_num_df2[fill_0_cols] = all_num_df2[fill_0_cols].fillna(0).astype(int)"
   ]
  },
  {
   "cell_type": "code",
   "execution_count": 73,
   "metadata": {},
   "outputs": [],
   "source": [
    "fill_mean_cols = [col for col in all_num_df2.columns if 'tt' in col]"
   ]
  },
  {
   "cell_type": "code",
   "execution_count": 74,
   "metadata": {},
   "outputs": [],
   "source": [
    "all_num_df2[fill_mean_cols] = all_num_df2[fill_mean_cols].fillna(all_num_df2[fill_mean_cols].mean())"
   ]
  },
  {
   "cell_type": "markdown",
   "metadata": {},
   "source": [
    "## Fill NA values "
   ]
  },
  {
   "cell_type": "code",
   "execution_count": 75,
   "metadata": {},
   "outputs": [
    {
     "name": "stderr",
     "output_type": "stream",
     "text": [
      "C:\\Users\\david\\Anaconda3\\lib\\site-packages\\ipykernel_launcher.py:1: DeprecationWarning: \n",
      ".ix is deprecated. Please use\n",
      ".loc for label based indexing or\n",
      ".iloc for positional indexing\n",
      "\n",
      "See the documentation here:\n",
      "http://pandas.pydata.org/pandas-docs/stable/indexing.html#deprecate_ix\n",
      "  \"\"\"Entry point for launching an IPython kernel.\n"
     ]
    }
   ],
   "source": [
    "fill_0_cols = all_num_df.T.ix[all_num_df.isnull().any().tolist()].T.columns.tolist()"
   ]
  },
  {
   "cell_type": "code",
   "execution_count": 76,
   "metadata": {},
   "outputs": [],
   "source": [
    "all_num_df[fill_0_cols] = all_num_df[fill_0_cols].fillna(0).astype(int)"
   ]
  },
  {
   "cell_type": "code",
   "execution_count": 77,
   "metadata": {},
   "outputs": [],
   "source": [
    "all_num_df2[fill_0_cols] = all_num_df2[fill_0_cols].fillna(0).astype(int)"
   ]
  },
  {
   "cell_type": "code",
   "execution_count": 78,
   "metadata": {},
   "outputs": [],
   "source": [
    "fill_mean_cols = [col for col in all_num_df2.columns if 'tt' in col]"
   ]
  },
  {
   "cell_type": "code",
   "execution_count": 79,
   "metadata": {},
   "outputs": [],
   "source": [
    "all_num_df2[fill_mean_cols] = all_num_df2[fill_mean_cols].fillna(all_num_df2[fill_mean_cols].mean())"
   ]
  },
  {
   "cell_type": "code",
   "execution_count": 80,
   "metadata": {},
   "outputs": [
    {
     "name": "stderr",
     "output_type": "stream",
     "text": [
      "C:\\Users\\david\\Anaconda3\\lib\\site-packages\\ipykernel_launcher.py:1: DeprecationWarning: \n",
      ".ix is deprecated. Please use\n",
      ".loc for label based indexing or\n",
      ".iloc for positional indexing\n",
      "\n",
      "See the documentation here:\n",
      "http://pandas.pydata.org/pandas-docs/stable/indexing.html#deprecate_ix\n",
      "  \"\"\"Entry point for launching an IPython kernel.\n"
     ]
    }
   ],
   "source": [
    "fill_0_cols_2 = all_num_df2.T.ix[all_num_df2.isnull().any().tolist()].T.columns.tolist()"
   ]
  },
  {
   "cell_type": "code",
   "execution_count": 81,
   "metadata": {},
   "outputs": [],
   "source": [
    "all_num_df2[fill_0_cols_2] = all_num_df2[fill_0_cols_2].fillna(0)"
   ]
  },
  {
   "cell_type": "markdown",
   "metadata": {},
   "source": [
    "## Fill missing cols "
   ]
  },
  {
   "cell_type": "code",
   "execution_count": 82,
   "metadata": {},
   "outputs": [],
   "source": [
    "missing_cols = set(all_num_df2.columns) - set(all_num_df.columns)"
   ]
  },
  {
   "cell_type": "code",
   "execution_count": 83,
   "metadata": {},
   "outputs": [],
   "source": [
    "all_num_df = all_num_df.assign(**{col: 0 for col in missing_cols})"
   ]
  },
  {
   "cell_type": "markdown",
   "metadata": {},
   "source": [
    "##  Predict"
   ]
  },
  {
   "cell_type": "markdown",
   "metadata": {},
   "source": [
    "### Set trainers, predictors and labels"
   ]
  },
  {
   "cell_type": "code",
   "execution_count": 84,
   "metadata": {},
   "outputs": [],
   "source": [
    "trainers = all_num_df[sorted(all_num_df.columns)]\n",
    "predictors = all_num_df2[sorted(all_num_df2.columns)]"
   ]
  },
  {
   "cell_type": "code",
   "execution_count": 85,
   "metadata": {},
   "outputs": [],
   "source": [
    "labels = slo_df.position"
   ]
  },
  {
   "cell_type": "markdown",
   "metadata": {},
   "source": [
    "### Configure all models"
   ]
  },
  {
   "cell_type": "code",
   "execution_count": 86,
   "metadata": {},
   "outputs": [],
   "source": [
    "model1 = DecisionTreeClassifier()\n",
    "model2 = BernoulliNB()\n",
    "model3 = MLPClassifier()\n",
    "model4 = SVC()\n",
    "model5 = BaggingClassifier()\n",
    "model6 = GradientBoostingClassifier()\n",
    "model7 = RandomForestClassifier()"
   ]
  },
  {
   "cell_type": "code",
   "execution_count": 87,
   "metadata": {},
   "outputs": [],
   "source": [
    "models = [model1, model2, model3, model4, model5, model6, model7]"
   ]
  },
  {
   "cell_type": "code",
   "execution_count": 88,
   "metadata": {},
   "outputs": [],
   "source": [
    "models_results = pd.concat([pd.DataFrame(cross_val_score(estimator=model, cv=5, X=trainers, y=labels)).T for model in models])"
   ]
  },
  {
   "cell_type": "code",
   "execution_count": 89,
   "metadata": {},
   "outputs": [],
   "source": [
    "models_results['model'] = ['DecisionTreeClassifier', 'BernoulliNB', 'MLPClassifier', 'SVC', 'BaggingClassifier', 'GradientBoostingClassifier', 'RandomForestClassifier']"
   ]
  },
  {
   "cell_type": "code",
   "execution_count": 90,
   "metadata": {},
   "outputs": [],
   "source": [
    "models_results['mean'] = models_results[[0, 1, 2, 3, 4]].T.mean()"
   ]
  },
  {
   "cell_type": "code",
   "execution_count": 91,
   "metadata": {},
   "outputs": [],
   "source": [
    "models_results['std'] = models_results[[0, 1, 2, 3, 4]].T.std()"
   ]
  },
  {
   "cell_type": "code",
   "execution_count": 92,
   "metadata": {},
   "outputs": [
    {
     "data": {
      "text/html": [
       "<div>\n",
       "<style>\n",
       "    .dataframe thead tr:only-child th {\n",
       "        text-align: right;\n",
       "    }\n",
       "\n",
       "    .dataframe thead th {\n",
       "        text-align: left;\n",
       "    }\n",
       "\n",
       "    .dataframe tbody tr th {\n",
       "        vertical-align: top;\n",
       "    }\n",
       "</style>\n",
       "<table border=\"1\" class=\"dataframe\">\n",
       "  <thead>\n",
       "    <tr style=\"text-align: right;\">\n",
       "      <th></th>\n",
       "      <th>0</th>\n",
       "      <th>1</th>\n",
       "      <th>2</th>\n",
       "      <th>3</th>\n",
       "      <th>4</th>\n",
       "      <th>model</th>\n",
       "      <th>mean</th>\n",
       "      <th>std</th>\n",
       "    </tr>\n",
       "  </thead>\n",
       "  <tbody>\n",
       "    <tr>\n",
       "      <th>0</th>\n",
       "      <td>0.9350</td>\n",
       "      <td>0.9050</td>\n",
       "      <td>0.9450</td>\n",
       "      <td>0.8950</td>\n",
       "      <td>0.9125</td>\n",
       "      <td>DecisionTreeClassifier</td>\n",
       "      <td>0.9185</td>\n",
       "      <td>0.020887</td>\n",
       "    </tr>\n",
       "    <tr>\n",
       "      <th>1</th>\n",
       "      <td>0.8875</td>\n",
       "      <td>0.8275</td>\n",
       "      <td>0.8375</td>\n",
       "      <td>0.8000</td>\n",
       "      <td>0.8200</td>\n",
       "      <td>BernoulliNB</td>\n",
       "      <td>0.8345</td>\n",
       "      <td>0.032663</td>\n",
       "    </tr>\n",
       "    <tr>\n",
       "      <th>2</th>\n",
       "      <td>0.9550</td>\n",
       "      <td>0.9475</td>\n",
       "      <td>0.9575</td>\n",
       "      <td>0.9275</td>\n",
       "      <td>0.9250</td>\n",
       "      <td>MLPClassifier</td>\n",
       "      <td>0.9425</td>\n",
       "      <td>0.015309</td>\n",
       "    </tr>\n",
       "    <tr>\n",
       "      <th>3</th>\n",
       "      <td>0.7700</td>\n",
       "      <td>0.6875</td>\n",
       "      <td>0.6800</td>\n",
       "      <td>0.6000</td>\n",
       "      <td>0.6600</td>\n",
       "      <td>SVC</td>\n",
       "      <td>0.6795</td>\n",
       "      <td>0.061145</td>\n",
       "    </tr>\n",
       "    <tr>\n",
       "      <th>4</th>\n",
       "      <td>0.9350</td>\n",
       "      <td>0.9100</td>\n",
       "      <td>0.9350</td>\n",
       "      <td>0.8950</td>\n",
       "      <td>0.9075</td>\n",
       "      <td>BaggingClassifier</td>\n",
       "      <td>0.9165</td>\n",
       "      <td>0.017819</td>\n",
       "    </tr>\n",
       "    <tr>\n",
       "      <th>5</th>\n",
       "      <td>0.9450</td>\n",
       "      <td>0.9225</td>\n",
       "      <td>0.9425</td>\n",
       "      <td>0.9275</td>\n",
       "      <td>0.9275</td>\n",
       "      <td>GradientBoostingClassifier</td>\n",
       "      <td>0.9330</td>\n",
       "      <td>0.010062</td>\n",
       "    </tr>\n",
       "    <tr>\n",
       "      <th>6</th>\n",
       "      <td>0.9400</td>\n",
       "      <td>0.9225</td>\n",
       "      <td>0.9425</td>\n",
       "      <td>0.8875</td>\n",
       "      <td>0.9050</td>\n",
       "      <td>RandomForestClassifier</td>\n",
       "      <td>0.9195</td>\n",
       "      <td>0.023412</td>\n",
       "    </tr>\n",
       "  </tbody>\n",
       "</table>\n",
       "</div>"
      ],
      "text/plain": [
       "        0       1       2       3       4                       model    mean  \\\n",
       "0  0.9350  0.9050  0.9450  0.8950  0.9125      DecisionTreeClassifier  0.9185   \n",
       "1  0.8875  0.8275  0.8375  0.8000  0.8200                 BernoulliNB  0.8345   \n",
       "2  0.9550  0.9475  0.9575  0.9275  0.9250               MLPClassifier  0.9425   \n",
       "3  0.7700  0.6875  0.6800  0.6000  0.6600                         SVC  0.6795   \n",
       "4  0.9350  0.9100  0.9350  0.8950  0.9075           BaggingClassifier  0.9165   \n",
       "5  0.9450  0.9225  0.9425  0.9275  0.9275  GradientBoostingClassifier  0.9330   \n",
       "6  0.9400  0.9225  0.9425  0.8875  0.9050      RandomForestClassifier  0.9195   \n",
       "\n",
       "        std  \n",
       "0  0.020887  \n",
       "1  0.032663  \n",
       "2  0.015309  \n",
       "3  0.061145  \n",
       "4  0.017819  \n",
       "5  0.010062  \n",
       "6  0.023412  "
      ]
     },
     "execution_count": 92,
     "metadata": {},
     "output_type": "execute_result"
    }
   ],
   "source": [
    "models_results.reset_index(drop=True)"
   ]
  },
  {
   "cell_type": "code",
   "execution_count": 93,
   "metadata": {},
   "outputs": [],
   "source": [
    "list1 = []"
   ]
  },
  {
   "cell_type": "code",
   "execution_count": 94,
   "metadata": {},
   "outputs": [
    {
     "data": {
      "image/png": "[encoded data removed]",
      "text/plain": [
       "<Figure size 432x288 with 1 Axes>"
      ]
     },
     "metadata": {},
     "output_type": "display_data"
    },
    {
     "data": {
      "image/png": "[encoded data removed]",
      "text/plain": [
       "<Figure size 432x288 with 1 Axes>"
      ]
     },
     "metadata": {},
     "output_type": "display_data"
    },
    {
     "data": {
      "image/png": "[encoded data removed]",
      "text/plain": [
       "<Figure size 432x288 with 1 Axes>"
      ]
     },
     "metadata": {},
     "output_type": "display_data"
    },
    {
     "data": {
      "image/png": "[encoded data removed]",
      "text/plain": [
       "<Figure size 432x288 with 1 Axes>"
      ]
     },
     "metadata": {},
     "output_type": "display_data"
    },
    {
     "data": {
      "image/png": "[encoded data removed]",
      "text/plain": [
       "<Figure size 432x288 with 1 Axes>"
      ]
     },
     "metadata": {},
     "output_type": "display_data"
    },
    {
     "data": {
      "image/png": "[encoded data removed]",
      "text/plain": [
       "<Figure size 432x288 with 1 Axes>"
      ]
     },
     "metadata": {},
     "output_type": "display_data"
    },
    {
     "data": {
      "image/png": "[encoded data removed]",
      "text/plain": [
       "<Figure size 432x288 with 1 Axes>"
      ]
     },
     "metadata": {},
     "output_type": "display_data"
    }
   ],
   "source": [
    "for model in models:\n",
    "    model.fit(X=trainers, y=labels)\n",
    "    predicts = model.predict(X=predictors)\n",
    "    soloq_df['position'] = predicts\n",
    "    \n",
    "    m_name = str(model.__class__).split('\\'')[-2].split('.')[-1]\n",
    "    \n",
    "    data = soloq_df.position.value_counts()\n",
    "    data.plot(kind='bar', title=m_name)\n",
    "    plt.show()\n",
    "    \n",
    "    soloq_df = soloq_df.assign(**{lane: 0 for lane in ['ADC', 'JUNG', 'MID', 'SUPP', 'TOP']})\n",
    "    pos_dums = soloq_df.position.str.get_dummies()\n",
    "    dums_cols = pos_dums.columns.tolist()\n",
    "    soloq_df[dums_cols] = pos_dums\n",
    "    df_temp = soloq_df.groupby(['gameId', 'side']).sum()[['ADC', 'JUNG', 'MID', 'SUPP', 'TOP']]\n",
    "    df_temp['all_good'] = df_temp.apply(positions_assigned_correctly, axis=1)\n",
    "    good_predicts = df_temp.all_good.sum()\n",
    "    \n",
    "    list1.append({'model': m_name, 'predicts': predicts, 'good_predicts': good_predicts})"
   ]
  },
  {
   "cell_type": "code",
   "execution_count": 95,
   "metadata": {},
   "outputs": [],
   "source": [
    "predicts_df = pd.DataFrame(list1)"
   ]
  },
  {
   "cell_type": "code",
   "execution_count": 96,
   "metadata": {},
   "outputs": [
    {
     "name": "stdout",
     "output_type": "stream",
     "text": [
      "DecisionTreeClassifier\n",
      "TOP     7602\n",
      "SUPP    4927\n",
      "ADC     4909\n",
      "JUNG    4841\n",
      "MID     4581\n",
      "dtype: int64\n",
      "3101\n",
      "\n",
      "\n",
      "BernoulliNB\n",
      "SUPP    7805\n",
      "JUNG    4926\n",
      "TOP     4900\n",
      "MID     4741\n",
      "ADC     4488\n",
      "dtype: int64\n",
      "3330\n",
      "\n",
      "\n",
      "MLPClassifier\n",
      "SUPP    6862\n",
      "TOP     5479\n",
      "MID     4987\n",
      "ADC     4941\n",
      "JUNG    4591\n",
      "dtype: int64\n",
      "3007\n",
      "\n",
      "\n",
      "SVC\n",
      "JUNG    8117\n",
      "TOP     5244\n",
      "MID     5012\n",
      "ADC     4444\n",
      "SUPP    4043\n",
      "dtype: int64\n",
      "3200\n",
      "\n",
      "\n",
      "BaggingClassifier\n",
      "TOP     6408\n",
      "MID     5835\n",
      "SUPP    4922\n",
      "ADC     4851\n",
      "JUNG    4844\n",
      "dtype: int64\n",
      "3104\n",
      "\n",
      "\n",
      "GradientBoostingClassifier\n",
      "SUPP    6774\n",
      "TOP     5639\n",
      "ADC     4997\n",
      "JUNG    4752\n",
      "MID     4698\n",
      "dtype: int64\n",
      "3369\n",
      "\n",
      "\n",
      "RandomForestClassifier\n",
      "SUPP    7516\n",
      "TOP     5259\n",
      "JUNG    4752\n",
      "MID     4694\n",
      "ADC     4639\n",
      "dtype: int64\n",
      "3117\n",
      "\n",
      "\n"
     ]
    }
   ],
   "source": [
    "for row in predicts_df.iterrows():\n",
    "    print(row[1][1])\n",
    "    print(pd.Series(row[1][2]).value_counts())\n",
    "    print(row[1][0])\n",
    "    print('\\n')"
   ]
  },
  {
   "cell_type": "code",
   "execution_count": 102,
   "metadata": {},
   "outputs": [
    {
     "data": {
      "text/plain": [
       "5372.0"
      ]
     },
     "execution_count": 102,
     "metadata": {},
     "output_type": "execute_result"
    }
   ],
   "source": [
    "len(predicts_df.predicts[0]) / 5"
   ]
  }
 ],
 "metadata": {
  "kernelspec": {
   "display_name": "Python 3",
   "language": "python",
   "name": "python3"
  },
  "language_info": {
   "codemirror_mode": {
    "name": "ipython",
    "version": 3
   },
   "file_extension": ".py",
   "mimetype": "text/x-python",
   "name": "python",
   "nbconvert_exporter": "python",
   "pygments_lexer": "ipython3",
   "version": "3.6.6"
  }
 },
 "nbformat": 4,
 "nbformat_minor": 2
}
