{
 "cells": [
  {
   "cell_type": "code",
   "execution_count": 1,
   "metadata": {},
   "outputs": [],
   "source": [
    "import pandas as pd"
   ]
  },
  {
   "cell_type": "code",
   "execution_count": 2,
   "metadata": {},
   "outputs": [],
   "source": [
    "from sklearn.tree import DecisionTreeClassifier\n",
    "from sklearn.ensemble import AdaBoostClassifier, BaggingClassifier, GradientBoostingClassifier, RandomForestClassifier\n",
    "from sklearn.naive_bayes import BernoulliNB\n",
    "from sklearn.neural_network import MLPClassifier\n",
    "from sklearn.svm import SVC\n",
    "from sklearn.gaussian_process import GaussianProcessClassifier"
   ]
  },
  {
   "cell_type": "code",
   "execution_count": 3,
   "metadata": {},
   "outputs": [],
   "source": [
    "from sklearn.model_selection import cross_val_score"
   ]
  },
  {
   "cell_type": "code",
   "execution_count": 4,
   "metadata": {},
   "outputs": [],
   "source": [
    "from numpy import std"
   ]
  },
  {
   "cell_type": "code",
   "execution_count": 5,
   "metadata": {},
   "outputs": [],
   "source": [
    "%matplotlib inline\n",
    "import matplotlib.pyplot as plt"
   ]
  },
  {
   "cell_type": "code",
   "execution_count": 6,
   "metadata": {},
   "outputs": [],
   "source": [
    "def positions_assigned_correctly(x):\n",
    "    if std(x.tolist()) != 0:\n",
    "        return 0\n",
    "    else:\n",
    "        return 1"
   ]
  },
  {
   "cell_type": "code",
   "execution_count": 7,
   "metadata": {},
   "outputs": [],
   "source": [
    "soloq_df = pd.read_excel('8-18_dataset.xlsx')"
   ]
  },
  {
   "cell_type": "code",
   "execution_count": 8,
   "metadata": {},
   "outputs": [],
   "source": [
    "slo_df = pd.read_excel('slo_dataset.xlsx')"
   ]
  },
  {
   "cell_type": "code",
   "execution_count": 9,
   "metadata": {},
   "outputs": [],
   "source": [
    "numerics = ['int16', 'int32', 'int64', 'float16', 'float32', 'float64']"
   ]
  },
  {
   "cell_type": "code",
   "execution_count": 10,
   "metadata": {
    "scrolled": true
   },
   "outputs": [],
   "source": [
    "newdf = slo_df.select_dtypes(include=numerics)\n",
    "newdf2 = soloq_df.select_dtypes(include=numerics)"
   ]
  },
  {
   "cell_type": "code",
   "execution_count": 11,
   "metadata": {},
   "outputs": [
    {
     "name": "stderr",
     "output_type": "stream",
     "text": [
      "C:\\Users\\david\\Anaconda3\\lib\\site-packages\\ipykernel_launcher.py:1: SettingWithCopyWarning: \n",
      "A value is trying to be set on a copy of a slice from a DataFrame\n",
      "\n",
      "See the caveats in the documentation: http://pandas.pydata.org/pandas-docs/stable/indexing.html#indexing-view-versus-copy\n",
      "  \"\"\"Entry point for launching an IPython kernel.\n",
      "C:\\Users\\david\\Anaconda3\\lib\\site-packages\\ipykernel_launcher.py:2: SettingWithCopyWarning: \n",
      "A value is trying to be set on a copy of a slice from a DataFrame\n",
      "\n",
      "See the caveats in the documentation: http://pandas.pydata.org/pandas-docs/stable/indexing.html#indexing-view-versus-copy\n",
      "  \n"
     ]
    }
   ],
   "source": [
    "newdf.drop([col for col in newdf.columns if 'Id' in col], axis=1, inplace=True)\n",
    "newdf2.drop([col for col in newdf2.columns if 'Id' in col], axis=1, inplace=True)"
   ]
  },
  {
   "cell_type": "code",
   "execution_count": 12,
   "metadata": {},
   "outputs": [
    {
     "name": "stderr",
     "output_type": "stream",
     "text": [
      "C:\\Users\\david\\Anaconda3\\lib\\site-packages\\ipykernel_launcher.py:1: SettingWithCopyWarning: \n",
      "A value is trying to be set on a copy of a slice from a DataFrame\n",
      "\n",
      "See the caveats in the documentation: http://pandas.pydata.org/pandas-docs/stable/indexing.html#indexing-view-versus-copy\n",
      "  \"\"\"Entry point for launching an IPython kernel.\n"
     ]
    }
   ],
   "source": [
    "newdf.drop('season', axis=1, inplace=True)"
   ]
  },
  {
   "cell_type": "code",
   "execution_count": 13,
   "metadata": {},
   "outputs": [],
   "source": [
    "perkp_df = slo_df.perkPrimaryStyle_name.str.get_dummies()\n",
    "perks_df = slo_df.perkSubStyle_name.str.get_dummies()\n",
    "\n",
    "perkp_df2 = soloq_df.perkPrimaryStyle_name.str.get_dummies()\n",
    "perks_df2 = soloq_df.perkSubStyle_name.str.get_dummies()"
   ]
  },
  {
   "cell_type": "code",
   "execution_count": 14,
   "metadata": {},
   "outputs": [],
   "source": [
    "role_dum = slo_df.role.str.get_dummies()\n",
    "lane_dum = slo_df.lane.str.get_dummies()\n",
    "\n",
    "role_dum2 = soloq_df.role.str.get_dummies()\n",
    "lane_dum2 = soloq_df.lane.str.get_dummies()"
   ]
  },
  {
   "cell_type": "code",
   "execution_count": 15,
   "metadata": {},
   "outputs": [],
   "source": [
    "lane_dum2.drop('NONE', axis=1, inplace=True)"
   ]
  },
  {
   "cell_type": "code",
   "execution_count": 16,
   "metadata": {},
   "outputs": [],
   "source": [
    "champ_df = slo_df.champ_name.str.get_dummies()\n",
    "\n",
    "champ_df2 = soloq_df.champ_name.str.get_dummies()"
   ]
  },
  {
   "cell_type": "code",
   "execution_count": 17,
   "metadata": {},
   "outputs": [],
   "source": [
    "all_num_df = pd.concat([newdf, perkp_df, perks_df, champ_df, role_dum, lane_dum], axis=1)\n",
    "all_num_df2 = pd.concat([newdf2, perkp_df2, perks_df2, champ_df2, role_dum2, lane_dum2], axis=1)"
   ]
  },
  {
   "cell_type": "markdown",
   "metadata": {},
   "source": [
    "## Fill NA values "
   ]
  },
  {
   "cell_type": "code",
   "execution_count": 18,
   "metadata": {},
   "outputs": [
    {
     "name": "stderr",
     "output_type": "stream",
     "text": [
      "C:\\Users\\david\\Anaconda3\\lib\\site-packages\\ipykernel_launcher.py:1: DeprecationWarning: \n",
      ".ix is deprecated. Please use\n",
      ".loc for label based indexing or\n",
      ".iloc for positional indexing\n",
      "\n",
      "See the documentation here:\n",
      "http://pandas.pydata.org/pandas-docs/stable/indexing.html#deprecate_ix\n",
      "  \"\"\"Entry point for launching an IPython kernel.\n"
     ]
    }
   ],
   "source": [
    "fill_0_cols = all_num_df.T.ix[all_num_df.isnull().any().tolist()].T.columns.tolist()"
   ]
  },
  {
   "cell_type": "code",
   "execution_count": 19,
   "metadata": {},
   "outputs": [],
   "source": [
    "all_num_df[fill_0_cols] = all_num_df[fill_0_cols].fillna(0).astype(int)"
   ]
  },
  {
   "cell_type": "code",
   "execution_count": 20,
   "metadata": {},
   "outputs": [],
   "source": [
    "all_num_df2[fill_0_cols] = all_num_df2[fill_0_cols].fillna(0).astype(int)"
   ]
  },
  {
   "cell_type": "code",
   "execution_count": 21,
   "metadata": {},
   "outputs": [],
   "source": [
    "fill_mean_cols = [col for col in all_num_df2.columns if 'tt' in col]"
   ]
  },
  {
   "cell_type": "code",
   "execution_count": 22,
   "metadata": {},
   "outputs": [],
   "source": [
    "all_num_df2[fill_mean_cols] = all_num_df2[fill_mean_cols].fillna(all_num_df2[fill_mean_cols].mean())"
   ]
  },
  {
   "cell_type": "code",
   "execution_count": 23,
   "metadata": {},
   "outputs": [
    {
     "name": "stderr",
     "output_type": "stream",
     "text": [
      "C:\\Users\\david\\Anaconda3\\lib\\site-packages\\ipykernel_launcher.py:1: DeprecationWarning: \n",
      ".ix is deprecated. Please use\n",
      ".loc for label based indexing or\n",
      ".iloc for positional indexing\n",
      "\n",
      "See the documentation here:\n",
      "http://pandas.pydata.org/pandas-docs/stable/indexing.html#deprecate_ix\n",
      "  \"\"\"Entry point for launching an IPython kernel.\n"
     ]
    }
   ],
   "source": [
    "fill_0_cols_2 = all_num_df2.T.ix[all_num_df2.isnull().any().tolist()].T.columns.tolist()"
   ]
  },
  {
   "cell_type": "code",
   "execution_count": 24,
   "metadata": {},
   "outputs": [],
   "source": [
    "all_num_df2[fill_0_cols_2] = all_num_df2[fill_0_cols_2].fillna(0)"
   ]
  },
  {
   "cell_type": "markdown",
   "metadata": {},
   "source": [
    "## Fill missing cols "
   ]
  },
  {
   "cell_type": "code",
   "execution_count": 25,
   "metadata": {},
   "outputs": [],
   "source": [
    "missing_cols = set(all_num_df2.columns) - set(all_num_df.columns)"
   ]
  },
  {
   "cell_type": "code",
   "execution_count": 26,
   "metadata": {},
   "outputs": [],
   "source": [
    "all_num_df = all_num_df.assign(**{col: 0 for col in missing_cols})"
   ]
  },
  {
   "cell_type": "markdown",
   "metadata": {},
   "source": [
    "##  Predict"
   ]
  },
  {
   "cell_type": "markdown",
   "metadata": {},
   "source": [
    "### Set trainers, predictors and labels"
   ]
  },
  {
   "cell_type": "code",
   "execution_count": 27,
   "metadata": {},
   "outputs": [],
   "source": [
    "trainers = all_num_df[sorted(all_num_df.columns)]\n",
    "predictors = all_num_df2[sorted(all_num_df2.columns)]"
   ]
  },
  {
   "cell_type": "code",
   "execution_count": 28,
   "metadata": {},
   "outputs": [],
   "source": [
    "labels = slo_df.position"
   ]
  },
  {
   "cell_type": "markdown",
   "metadata": {},
   "source": [
    "### Configure all models"
   ]
  },
  {
   "cell_type": "code",
   "execution_count": 29,
   "metadata": {},
   "outputs": [],
   "source": [
    "model1 = DecisionTreeClassifier()\n",
    "model2 = BernoulliNB()\n",
    "model3 = MLPClassifier()\n",
    "model4 = SVC()\n",
    "model5 = BaggingClassifier()\n",
    "model6 = GradientBoostingClassifier()\n",
    "model7 = RandomForestClassifier()"
   ]
  },
  {
   "cell_type": "code",
   "execution_count": 30,
   "metadata": {},
   "outputs": [],
   "source": [
    "models = [model1, model2, model3, model4, model5, model6, model7]"
   ]
  },
  {
   "cell_type": "code",
   "execution_count": 31,
   "metadata": {},
   "outputs": [],
   "source": [
    "models_results = pd.concat([pd.DataFrame(cross_val_score(estimator=model, cv=5, X=trainers, y=labels)).T for model in models])"
   ]
  },
  {
   "cell_type": "code",
   "execution_count": 32,
   "metadata": {},
   "outputs": [],
   "source": [
    "models_results['model'] = ['DecisionTreeClassifier', 'BernoulliNB', 'MLPClassifier', 'SVC', 'BaggingClassifier', 'GradientBoostingClassifier', 'RandomForestClassifier']"
   ]
  },
  {
   "cell_type": "code",
   "execution_count": 33,
   "metadata": {},
   "outputs": [],
   "source": [
    "models_results['mean'] = models_results[[0, 1, 2, 3, 4]].T.mean()"
   ]
  },
  {
   "cell_type": "code",
   "execution_count": 34,
   "metadata": {},
   "outputs": [],
   "source": [
    "models_results['std'] = models_results[[0, 1, 2, 3, 4]].T.std()"
   ]
  },
  {
   "cell_type": "code",
   "execution_count": 35,
   "metadata": {},
   "outputs": [
    {
     "data": {
      "text/html": [
       "<div>\n",
       "<style>\n",
       "    .dataframe thead tr:only-child th {\n",
       "        text-align: right;\n",
       "    }\n",
       "\n",
       "    .dataframe thead th {\n",
       "        text-align: left;\n",
       "    }\n",
       "\n",
       "    .dataframe tbody tr th {\n",
       "        vertical-align: top;\n",
       "    }\n",
       "</style>\n",
       "<table border=\"1\" class=\"dataframe\">\n",
       "  <thead>\n",
       "    <tr style=\"text-align: right;\">\n",
       "      <th></th>\n",
       "      <th>0</th>\n",
       "      <th>1</th>\n",
       "      <th>2</th>\n",
       "      <th>3</th>\n",
       "      <th>4</th>\n",
       "      <th>model</th>\n",
       "      <th>mean</th>\n",
       "      <th>std</th>\n",
       "    </tr>\n",
       "  </thead>\n",
       "  <tbody>\n",
       "    <tr>\n",
       "      <th>0</th>\n",
       "      <td>0.9350</td>\n",
       "      <td>0.9275</td>\n",
       "      <td>0.9425</td>\n",
       "      <td>0.9425</td>\n",
       "      <td>0.9400</td>\n",
       "      <td>DecisionTreeClassifier</td>\n",
       "      <td>0.9375</td>\n",
       "      <td>0.006374</td>\n",
       "    </tr>\n",
       "    <tr>\n",
       "      <th>1</th>\n",
       "      <td>0.9375</td>\n",
       "      <td>0.9325</td>\n",
       "      <td>0.9400</td>\n",
       "      <td>0.9275</td>\n",
       "      <td>0.9350</td>\n",
       "      <td>BernoulliNB</td>\n",
       "      <td>0.9345</td>\n",
       "      <td>0.004809</td>\n",
       "    </tr>\n",
       "    <tr>\n",
       "      <th>2</th>\n",
       "      <td>0.8825</td>\n",
       "      <td>0.8250</td>\n",
       "      <td>0.8450</td>\n",
       "      <td>0.8800</td>\n",
       "      <td>0.8925</td>\n",
       "      <td>MLPClassifier</td>\n",
       "      <td>0.8650</td>\n",
       "      <td>0.028668</td>\n",
       "    </tr>\n",
       "    <tr>\n",
       "      <th>3</th>\n",
       "      <td>0.2000</td>\n",
       "      <td>0.2000</td>\n",
       "      <td>0.2000</td>\n",
       "      <td>0.2000</td>\n",
       "      <td>0.2000</td>\n",
       "      <td>SVC</td>\n",
       "      <td>0.2000</td>\n",
       "      <td>0.000000</td>\n",
       "    </tr>\n",
       "    <tr>\n",
       "      <th>4</th>\n",
       "      <td>0.9450</td>\n",
       "      <td>0.9400</td>\n",
       "      <td>0.9750</td>\n",
       "      <td>0.9550</td>\n",
       "      <td>0.9500</td>\n",
       "      <td>BaggingClassifier</td>\n",
       "      <td>0.9530</td>\n",
       "      <td>0.013509</td>\n",
       "    </tr>\n",
       "    <tr>\n",
       "      <th>5</th>\n",
       "      <td>0.9625</td>\n",
       "      <td>0.9650</td>\n",
       "      <td>0.9800</td>\n",
       "      <td>0.9800</td>\n",
       "      <td>0.9625</td>\n",
       "      <td>GradientBoostingClassifier</td>\n",
       "      <td>0.9700</td>\n",
       "      <td>0.009186</td>\n",
       "    </tr>\n",
       "    <tr>\n",
       "      <th>6</th>\n",
       "      <td>0.9350</td>\n",
       "      <td>0.9450</td>\n",
       "      <td>0.9675</td>\n",
       "      <td>0.9600</td>\n",
       "      <td>0.9500</td>\n",
       "      <td>RandomForestClassifier</td>\n",
       "      <td>0.9515</td>\n",
       "      <td>0.012698</td>\n",
       "    </tr>\n",
       "  </tbody>\n",
       "</table>\n",
       "</div>"
      ],
      "text/plain": [
       "        0       1       2       3       4                       model    mean  \\\n",
       "0  0.9350  0.9275  0.9425  0.9425  0.9400      DecisionTreeClassifier  0.9375   \n",
       "1  0.9375  0.9325  0.9400  0.9275  0.9350                 BernoulliNB  0.9345   \n",
       "2  0.8825  0.8250  0.8450  0.8800  0.8925               MLPClassifier  0.8650   \n",
       "3  0.2000  0.2000  0.2000  0.2000  0.2000                         SVC  0.2000   \n",
       "4  0.9450  0.9400  0.9750  0.9550  0.9500           BaggingClassifier  0.9530   \n",
       "5  0.9625  0.9650  0.9800  0.9800  0.9625  GradientBoostingClassifier  0.9700   \n",
       "6  0.9350  0.9450  0.9675  0.9600  0.9500      RandomForestClassifier  0.9515   \n",
       "\n",
       "        std  \n",
       "0  0.006374  \n",
       "1  0.004809  \n",
       "2  0.028668  \n",
       "3  0.000000  \n",
       "4  0.013509  \n",
       "5  0.009186  \n",
       "6  0.012698  "
      ]
     },
     "execution_count": 35,
     "metadata": {},
     "output_type": "execute_result"
    }
   ],
   "source": [
    "models_results.reset_index(drop=True)"
   ]
  },
  {
   "cell_type": "code",
   "execution_count": 36,
   "metadata": {},
   "outputs": [],
   "source": [
    "list1 = []"
   ]
  },
  {
   "cell_type": "code",
   "execution_count": 37,
   "metadata": {},
   "outputs": [
    {
     "data": {
      "image/png": "[encoded data removed]",
      "text/plain": [
       "<Figure size 432x288 with 1 Axes>"
      ]
     },
     "metadata": {},
     "output_type": "display_data"
    },
    {
     "data": {
      "image/png": "[encoded data removed]",
      "text/plain": [
       "<Figure size 432x288 with 1 Axes>"
      ]
     },
     "metadata": {},
     "output_type": "display_data"
    },
    {
     "data": {
      "image/png": "[encoded data removed]",
      "text/plain": [
       "<Figure size 432x288 with 1 Axes>"
      ]
     },
     "metadata": {},
     "output_type": "display_data"
    },
    {
     "data": {
      "image/png": "[encoded data removed]",
      "text/plain": [
       "<Figure size 432x288 with 1 Axes>"
      ]
     },
     "metadata": {},
     "output_type": "display_data"
    },
    {
     "data": {
      "image/png": "[encoded data removed]",
      "text/plain": [
       "<Figure size 432x288 with 1 Axes>"
      ]
     },
     "metadata": {},
     "output_type": "display_data"
    },
    {
     "data": {
      "image/png": "[encoded data removed]",
      "text/plain": [
       "<Figure size 432x288 with 1 Axes>"
      ]
     },
     "metadata": {},
     "output_type": "display_data"
    },
    {
     "data": {
      "image/png": "[encoded data removed]",
      "text/plain": [
       "<Figure size 432x288 with 1 Axes>"
      ]
     },
     "metadata": {},
     "output_type": "display_data"
    }
   ],
   "source": [
    "for model in models:\n",
    "    model.fit(X=trainers, y=labels)\n",
    "    predicts = model.predict(X=predictors)\n",
    "    soloq_df['position'] = predicts\n",
    "    \n",
    "    m_name = str(model.__class__).split('\\'')[-2].split('.')[-1]\n",
    "    \n",
    "    data = soloq_df.position.value_counts()\n",
    "    data.plot(kind='bar', title=m_name)\n",
    "    plt.show()\n",
    "    \n",
    "    soloq_df = soloq_df.assign(**{lane: 0 for lane in ['ADC', 'JUNG', 'MID', 'SUPP', 'TOP']})\n",
    "    pos_dums = soloq_df.position.str.get_dummies()\n",
    "    dums_cols = pos_dums.columns.tolist()\n",
    "    soloq_df[dums_cols] = pos_dums\n",
    "    df_temp = soloq_df.groupby(['gameId', 'side']).sum()[['ADC', 'JUNG', 'MID', 'SUPP', 'TOP']]\n",
    "    df_temp['all_good'] = df_temp.apply(positions_assigned_correctly, axis=1)\n",
    "    good_predicts = df_temp.all_good.count()\n",
    "    \n",
    "    list1.append({'model': m_name, 'predicts': predicts, 'good_predicts': good_predicts})"
   ]
  },
  {
   "cell_type": "code",
   "execution_count": 38,
   "metadata": {},
   "outputs": [],
   "source": [
    "predicts_df = pd.DataFrame(list1)"
   ]
  },
  {
   "cell_type": "code",
   "execution_count": 39,
   "metadata": {},
   "outputs": [
    {
     "name": "stdout",
     "output_type": "stream",
     "text": [
      "5372\n",
      "DecisionTreeClassifier    1\n",
      "dtype: int64\n",
      "\n",
      "\n",
      "5372\n",
      "BernoulliNB    1\n",
      "dtype: int64\n",
      "\n",
      "\n",
      "5372\n",
      "MLPClassifier    1\n",
      "dtype: int64\n",
      "\n",
      "\n",
      "5372\n",
      "SVC    1\n",
      "dtype: int64\n",
      "\n",
      "\n",
      "5372\n",
      "BaggingClassifier    1\n",
      "dtype: int64\n",
      "\n",
      "\n",
      "5372\n",
      "GradientBoostingClassifier    1\n",
      "dtype: int64\n",
      "\n",
      "\n",
      "5372\n",
      "RandomForestClassifier    1\n",
      "dtype: int64\n",
      "\n",
      "\n"
     ]
    }
   ],
   "source": [
    "for row in predicts_df.iterrows():\n",
    "    print(row[1][0])\n",
    "    print(pd.Series(row[1][1]).value_counts())\n",
    "    print('\\n')"
   ]
  },
  {
   "cell_type": "markdown",
   "metadata": {},
   "source": [
    "# Predictions with only champion, runes and role/lane info "
   ]
  },
  {
   "cell_type": "code",
   "execution_count": 40,
   "metadata": {},
   "outputs": [],
   "source": [
    "all_num_df = pd.concat([perkp_df, perks_df, champ_df, role_dum, lane_dum], axis=1)\n",
    "all_num_df2 = pd.concat([perkp_df2, perks_df2, champ_df2, role_dum2, lane_dum2], axis=1)"
   ]
  },
  {
   "cell_type": "markdown",
   "metadata": {},
   "source": [
    "## Fill NA values "
   ]
  },
  {
   "cell_type": "code",
   "execution_count": 41,
   "metadata": {},
   "outputs": [
    {
     "name": "stderr",
     "output_type": "stream",
     "text": [
      "C:\\Users\\david\\Anaconda3\\lib\\site-packages\\ipykernel_launcher.py:1: DeprecationWarning: \n",
      ".ix is deprecated. Please use\n",
      ".loc for label based indexing or\n",
      ".iloc for positional indexing\n",
      "\n",
      "See the documentation here:\n",
      "http://pandas.pydata.org/pandas-docs/stable/indexing.html#deprecate_ix\n",
      "  \"\"\"Entry point for launching an IPython kernel.\n"
     ]
    }
   ],
   "source": [
    "fill_0_cols = all_num_df.T.ix[all_num_df.isnull().any().tolist()].T.columns.tolist()"
   ]
  },
  {
   "cell_type": "code",
   "execution_count": 42,
   "metadata": {},
   "outputs": [],
   "source": [
    "all_num_df[fill_0_cols] = all_num_df[fill_0_cols].fillna(0).astype(int)"
   ]
  },
  {
   "cell_type": "code",
   "execution_count": 43,
   "metadata": {},
   "outputs": [],
   "source": [
    "all_num_df2[fill_0_cols] = all_num_df2[fill_0_cols].fillna(0).astype(int)"
   ]
  },
  {
   "cell_type": "code",
   "execution_count": 44,
   "metadata": {},
   "outputs": [],
   "source": [
    "fill_mean_cols = [col for col in all_num_df2.columns if 'tt' in col]"
   ]
  },
  {
   "cell_type": "code",
   "execution_count": 45,
   "metadata": {},
   "outputs": [],
   "source": [
    "all_num_df2[fill_mean_cols] = all_num_df2[fill_mean_cols].fillna(all_num_df2[fill_mean_cols].mean())"
   ]
  },
  {
   "cell_type": "markdown",
   "metadata": {},
   "source": [
    "## Fill NA values "
   ]
  },
  {
   "cell_type": "code",
   "execution_count": 46,
   "metadata": {},
   "outputs": [
    {
     "name": "stderr",
     "output_type": "stream",
     "text": [
      "C:\\Users\\david\\Anaconda3\\lib\\site-packages\\ipykernel_launcher.py:1: DeprecationWarning: \n",
      ".ix is deprecated. Please use\n",
      ".loc for label based indexing or\n",
      ".iloc for positional indexing\n",
      "\n",
      "See the documentation here:\n",
      "http://pandas.pydata.org/pandas-docs/stable/indexing.html#deprecate_ix\n",
      "  \"\"\"Entry point for launching an IPython kernel.\n"
     ]
    }
   ],
   "source": [
    "fill_0_cols = all_num_df.T.ix[all_num_df.isnull().any().tolist()].T.columns.tolist()"
   ]
  },
  {
   "cell_type": "code",
   "execution_count": 47,
   "metadata": {},
   "outputs": [],
   "source": [
    "all_num_df[fill_0_cols] = all_num_df[fill_0_cols].fillna(0).astype(int)"
   ]
  },
  {
   "cell_type": "code",
   "execution_count": 48,
   "metadata": {},
   "outputs": [],
   "source": [
    "all_num_df2[fill_0_cols] = all_num_df2[fill_0_cols].fillna(0).astype(int)"
   ]
  },
  {
   "cell_type": "code",
   "execution_count": 49,
   "metadata": {},
   "outputs": [],
   "source": [
    "fill_mean_cols = [col for col in all_num_df2.columns if 'tt' in col]"
   ]
  },
  {
   "cell_type": "code",
   "execution_count": 50,
   "metadata": {},
   "outputs": [],
   "source": [
    "all_num_df2[fill_mean_cols] = all_num_df2[fill_mean_cols].fillna(all_num_df2[fill_mean_cols].mean())"
   ]
  },
  {
   "cell_type": "code",
   "execution_count": 51,
   "metadata": {},
   "outputs": [
    {
     "name": "stderr",
     "output_type": "stream",
     "text": [
      "C:\\Users\\david\\Anaconda3\\lib\\site-packages\\ipykernel_launcher.py:1: DeprecationWarning: \n",
      ".ix is deprecated. Please use\n",
      ".loc for label based indexing or\n",
      ".iloc for positional indexing\n",
      "\n",
      "See the documentation here:\n",
      "http://pandas.pydata.org/pandas-docs/stable/indexing.html#deprecate_ix\n",
      "  \"\"\"Entry point for launching an IPython kernel.\n"
     ]
    }
   ],
   "source": [
    "fill_0_cols_2 = all_num_df2.T.ix[all_num_df2.isnull().any().tolist()].T.columns.tolist()"
   ]
  },
  {
   "cell_type": "code",
   "execution_count": 52,
   "metadata": {},
   "outputs": [],
   "source": [
    "all_num_df2[fill_0_cols_2] = all_num_df2[fill_0_cols_2].fillna(0)"
   ]
  },
  {
   "cell_type": "markdown",
   "metadata": {},
   "source": [
    "## Fill missing cols "
   ]
  },
  {
   "cell_type": "code",
   "execution_count": 53,
   "metadata": {},
   "outputs": [],
   "source": [
    "missing_cols = set(all_num_df2.columns) - set(all_num_df.columns)"
   ]
  },
  {
   "cell_type": "code",
   "execution_count": 54,
   "metadata": {},
   "outputs": [],
   "source": [
    "all_num_df = all_num_df.assign(**{col: 0 for col in missing_cols})"
   ]
  },
  {
   "cell_type": "markdown",
   "metadata": {},
   "source": [
    "##  Predict"
   ]
  },
  {
   "cell_type": "markdown",
   "metadata": {},
   "source": [
    "### Set trainers, predictors and labels"
   ]
  },
  {
   "cell_type": "code",
   "execution_count": 55,
   "metadata": {},
   "outputs": [],
   "source": [
    "trainers = all_num_df[sorted(all_num_df.columns)]\n",
    "predictors = all_num_df2[sorted(all_num_df2.columns)]"
   ]
  },
  {
   "cell_type": "code",
   "execution_count": 56,
   "metadata": {},
   "outputs": [],
   "source": [
    "labels = slo_df.position"
   ]
  },
  {
   "cell_type": "markdown",
   "metadata": {},
   "source": [
    "### Configure all models"
   ]
  },
  {
   "cell_type": "code",
   "execution_count": 57,
   "metadata": {},
   "outputs": [],
   "source": [
    "model1 = DecisionTreeClassifier()\n",
    "model2 = BernoulliNB()\n",
    "model3 = MLPClassifier()\n",
    "model4 = SVC()\n",
    "model5 = BaggingClassifier()\n",
    "model6 = GradientBoostingClassifier()\n",
    "model7 = RandomForestClassifier()"
   ]
  },
  {
   "cell_type": "code",
   "execution_count": 58,
   "metadata": {},
   "outputs": [],
   "source": [
    "models = [model1, model2, model3, model4, model5, model6, model7]"
   ]
  },
  {
   "cell_type": "code",
   "execution_count": 59,
   "metadata": {},
   "outputs": [],
   "source": [
    "models_results = pd.concat([pd.DataFrame(cross_val_score(estimator=model, cv=5, X=trainers, y=labels)).T for model in models])"
   ]
  },
  {
   "cell_type": "code",
   "execution_count": 60,
   "metadata": {},
   "outputs": [],
   "source": [
    "models_results['model'] = ['DecisionTreeClassifier', 'BernoulliNB', 'MLPClassifier', 'SVC', 'BaggingClassifier', 'GradientBoostingClassifier', 'RandomForestClassifier']"
   ]
  },
  {
   "cell_type": "code",
   "execution_count": 61,
   "metadata": {},
   "outputs": [],
   "source": [
    "models_results['mean'] = models_results[[0, 1, 2, 3, 4]].T.mean()"
   ]
  },
  {
   "cell_type": "code",
   "execution_count": 62,
   "metadata": {},
   "outputs": [],
   "source": [
    "models_results['std'] = models_results[[0, 1, 2, 3, 4]].T.std()"
   ]
  },
  {
   "cell_type": "code",
   "execution_count": 63,
   "metadata": {},
   "outputs": [
    {
     "data": {
      "text/html": [
       "<div>\n",
       "<style>\n",
       "    .dataframe thead tr:only-child th {\n",
       "        text-align: right;\n",
       "    }\n",
       "\n",
       "    .dataframe thead th {\n",
       "        text-align: left;\n",
       "    }\n",
       "\n",
       "    .dataframe tbody tr th {\n",
       "        vertical-align: top;\n",
       "    }\n",
       "</style>\n",
       "<table border=\"1\" class=\"dataframe\">\n",
       "  <thead>\n",
       "    <tr style=\"text-align: right;\">\n",
       "      <th></th>\n",
       "      <th>0</th>\n",
       "      <th>1</th>\n",
       "      <th>2</th>\n",
       "      <th>3</th>\n",
       "      <th>4</th>\n",
       "      <th>model</th>\n",
       "      <th>mean</th>\n",
       "      <th>std</th>\n",
       "    </tr>\n",
       "  </thead>\n",
       "  <tbody>\n",
       "    <tr>\n",
       "      <th>0</th>\n",
       "      <td>0.9375</td>\n",
       "      <td>0.9175</td>\n",
       "      <td>0.9250</td>\n",
       "      <td>0.9025</td>\n",
       "      <td>0.915</td>\n",
       "      <td>DecisionTreeClassifier</td>\n",
       "      <td>0.9195</td>\n",
       "      <td>0.012918</td>\n",
       "    </tr>\n",
       "    <tr>\n",
       "      <th>1</th>\n",
       "      <td>0.9075</td>\n",
       "      <td>0.8900</td>\n",
       "      <td>0.8775</td>\n",
       "      <td>0.8525</td>\n",
       "      <td>0.880</td>\n",
       "      <td>BernoulliNB</td>\n",
       "      <td>0.8815</td>\n",
       "      <td>0.020047</td>\n",
       "    </tr>\n",
       "    <tr>\n",
       "      <th>2</th>\n",
       "      <td>0.9525</td>\n",
       "      <td>0.9525</td>\n",
       "      <td>0.9650</td>\n",
       "      <td>0.9500</td>\n",
       "      <td>0.950</td>\n",
       "      <td>MLPClassifier</td>\n",
       "      <td>0.9540</td>\n",
       "      <td>0.006275</td>\n",
       "    </tr>\n",
       "    <tr>\n",
       "      <th>3</th>\n",
       "      <td>0.8350</td>\n",
       "      <td>0.8000</td>\n",
       "      <td>0.7625</td>\n",
       "      <td>0.7750</td>\n",
       "      <td>0.800</td>\n",
       "      <td>SVC</td>\n",
       "      <td>0.7945</td>\n",
       "      <td>0.027861</td>\n",
       "    </tr>\n",
       "    <tr>\n",
       "      <th>4</th>\n",
       "      <td>0.9325</td>\n",
       "      <td>0.9200</td>\n",
       "      <td>0.9225</td>\n",
       "      <td>0.9025</td>\n",
       "      <td>0.910</td>\n",
       "      <td>BaggingClassifier</td>\n",
       "      <td>0.9175</td>\n",
       "      <td>0.011592</td>\n",
       "    </tr>\n",
       "    <tr>\n",
       "      <th>5</th>\n",
       "      <td>0.9400</td>\n",
       "      <td>0.9450</td>\n",
       "      <td>0.9475</td>\n",
       "      <td>0.9400</td>\n",
       "      <td>0.945</td>\n",
       "      <td>GradientBoostingClassifier</td>\n",
       "      <td>0.9435</td>\n",
       "      <td>0.003354</td>\n",
       "    </tr>\n",
       "    <tr>\n",
       "      <th>6</th>\n",
       "      <td>0.9300</td>\n",
       "      <td>0.9125</td>\n",
       "      <td>0.9125</td>\n",
       "      <td>0.8950</td>\n",
       "      <td>0.900</td>\n",
       "      <td>RandomForestClassifier</td>\n",
       "      <td>0.9100</td>\n",
       "      <td>0.013578</td>\n",
       "    </tr>\n",
       "  </tbody>\n",
       "</table>\n",
       "</div>"
      ],
      "text/plain": [
       "        0       1       2       3      4                       model    mean  \\\n",
       "0  0.9375  0.9175  0.9250  0.9025  0.915      DecisionTreeClassifier  0.9195   \n",
       "1  0.9075  0.8900  0.8775  0.8525  0.880                 BernoulliNB  0.8815   \n",
       "2  0.9525  0.9525  0.9650  0.9500  0.950               MLPClassifier  0.9540   \n",
       "3  0.8350  0.8000  0.7625  0.7750  0.800                         SVC  0.7945   \n",
       "4  0.9325  0.9200  0.9225  0.9025  0.910           BaggingClassifier  0.9175   \n",
       "5  0.9400  0.9450  0.9475  0.9400  0.945  GradientBoostingClassifier  0.9435   \n",
       "6  0.9300  0.9125  0.9125  0.8950  0.900      RandomForestClassifier  0.9100   \n",
       "\n",
       "        std  \n",
       "0  0.012918  \n",
       "1  0.020047  \n",
       "2  0.006275  \n",
       "3  0.027861  \n",
       "4  0.011592  \n",
       "5  0.003354  \n",
       "6  0.013578  "
      ]
     },
     "execution_count": 63,
     "metadata": {},
     "output_type": "execute_result"
    }
   ],
   "source": [
    "models_results.reset_index(drop=True)"
   ]
  },
  {
   "cell_type": "code",
   "execution_count": 64,
   "metadata": {},
   "outputs": [],
   "source": [
    "list1 = []"
   ]
  },
  {
   "cell_type": "code",
   "execution_count": 65,
   "metadata": {},
   "outputs": [
    {
     "data": {
      "image/png": "[encoded data removed]",
      "text/plain": [
       "<Figure size 432x288 with 1 Axes>"
      ]
     },
     "metadata": {},
     "output_type": "display_data"
    },
    {
     "data": {
      "image/png": "[encoded data removed]",
      "text/plain": [
       "<Figure size 432x288 with 1 Axes>"
      ]
     },
     "metadata": {},
     "output_type": "display_data"
    },
    {
     "data": {
      "image/png": "[encoded data removed]",
      "text/plain": [
       "<Figure size 432x288 with 1 Axes>"
      ]
     },
     "metadata": {},
     "output_type": "display_data"
    },
    {
     "data": {
      "image/png": "[encoded data removed]",
      "text/plain": [
       "<Figure size 432x288 with 1 Axes>"
      ]
     },
     "metadata": {},
     "output_type": "display_data"
    },
    {
     "data": {
      "image/png": "[encoded data removed]",
      "text/plain": [
       "<Figure size 432x288 with 1 Axes>"
      ]
     },
     "metadata": {},
     "output_type": "display_data"
    },
    {
     "data": {
      "image/png": "[encoded data removed]",
      "text/plain": [
       "<Figure size 432x288 with 1 Axes>"
      ]
     },
     "metadata": {},
     "output_type": "display_data"
    },
    {
     "data": {
      "image/png": "[encoded data removed]",
      "text/plain": [
       "<Figure size 432x288 with 1 Axes>"
      ]
     },
     "metadata": {},
     "output_type": "display_data"
    }
   ],
   "source": [
    "for model in models:\n",
    "    model.fit(X=trainers, y=labels)\n",
    "    predicts = model.predict(X=predictors)\n",
    "    soloq_df['position'] = predicts\n",
    "    \n",
    "    m_name = str(model.__class__).split('\\'')[-2].split('.')[-1]\n",
    "    \n",
    "    data = soloq_df.position.value_counts()\n",
    "    data.plot(kind='bar', title=m_name)\n",
    "    plt.show()\n",
    "    \n",
    "    soloq_df = soloq_df.assign(**{lane: 0 for lane in ['ADC', 'JUNG', 'MID', 'SUPP', 'TOP']})\n",
    "    pos_dums = soloq_df.position.str.get_dummies()\n",
    "    dums_cols = pos_dums.columns.tolist()\n",
    "    soloq_df[dums_cols] = pos_dums\n",
    "    df_temp = soloq_df.groupby(['gameId', 'side']).sum()[['ADC', 'JUNG', 'MID', 'SUPP', 'TOP']]\n",
    "    df_temp['all_good'] = df_temp.apply(positions_assigned_correctly, axis=1)\n",
    "    good_predicts = df_temp.all_good.count()\n",
    "    \n",
    "    list1.append({'model': m_name, 'predicts': predicts, 'good_predicts': good_predicts})"
   ]
  },
  {
   "cell_type": "code",
   "execution_count": 66,
   "metadata": {},
   "outputs": [],
   "source": [
    "predicts_df = pd.DataFrame(list1)"
   ]
  },
  {
   "cell_type": "code",
   "execution_count": 67,
   "metadata": {},
   "outputs": [
    {
     "name": "stdout",
     "output_type": "stream",
     "text": [
      "5372\n",
      "DecisionTreeClassifier    1\n",
      "dtype: int64\n",
      "\n",
      "\n",
      "5372\n",
      "BernoulliNB    1\n",
      "dtype: int64\n",
      "\n",
      "\n",
      "5372\n",
      "MLPClassifier    1\n",
      "dtype: int64\n",
      "\n",
      "\n",
      "5372\n",
      "SVC    1\n",
      "dtype: int64\n",
      "\n",
      "\n",
      "5372\n",
      "BaggingClassifier    1\n",
      "dtype: int64\n",
      "\n",
      "\n",
      "5372\n",
      "GradientBoostingClassifier    1\n",
      "dtype: int64\n",
      "\n",
      "\n",
      "5372\n",
      "RandomForestClassifier    1\n",
      "dtype: int64\n",
      "\n",
      "\n"
     ]
    }
   ],
   "source": [
    "for row in predicts_df.iterrows():\n",
    "    print(row[1][0])\n",
    "    print(pd.Series(row[1][1]).value_counts())\n",
    "    print('\\n')"
   ]
  },
  {
   "cell_type": "markdown",
   "metadata": {},
   "source": [
    "# Predictions with only champion and role/lane info "
   ]
  },
  {
   "cell_type": "code",
   "execution_count": 68,
   "metadata": {},
   "outputs": [],
   "source": [
    "all_num_df = pd.concat([champ_df, role_dum, lane_dum], axis=1)\n",
    "all_num_df2 = pd.concat([champ_df2, role_dum2, lane_dum2], axis=1)"
   ]
  },
  {
   "cell_type": "markdown",
   "metadata": {},
   "source": [
    "## Fill NA values "
   ]
  },
  {
   "cell_type": "code",
   "execution_count": 69,
   "metadata": {},
   "outputs": [
    {
     "name": "stderr",
     "output_type": "stream",
     "text": [
      "C:\\Users\\david\\Anaconda3\\lib\\site-packages\\ipykernel_launcher.py:1: DeprecationWarning: \n",
      ".ix is deprecated. Please use\n",
      ".loc for label based indexing or\n",
      ".iloc for positional indexing\n",
      "\n",
      "See the documentation here:\n",
      "http://pandas.pydata.org/pandas-docs/stable/indexing.html#deprecate_ix\n",
      "  \"\"\"Entry point for launching an IPython kernel.\n"
     ]
    }
   ],
   "source": [
    "fill_0_cols = all_num_df.T.ix[all_num_df.isnull().any().tolist()].T.columns.tolist()"
   ]
  },
  {
   "cell_type": "code",
   "execution_count": 70,
   "metadata": {},
   "outputs": [],
   "source": [
    "all_num_df[fill_0_cols] = all_num_df[fill_0_cols].fillna(0).astype(int)"
   ]
  },
  {
   "cell_type": "code",
   "execution_count": 71,
   "metadata": {},
   "outputs": [],
   "source": [
    "all_num_df2[fill_0_cols] = all_num_df2[fill_0_cols].fillna(0).astype(int)"
   ]
  },
  {
   "cell_type": "code",
   "execution_count": 72,
   "metadata": {},
   "outputs": [],
   "source": [
    "fill_mean_cols = [col for col in all_num_df2.columns if 'tt' in col]"
   ]
  },
  {
   "cell_type": "code",
   "execution_count": 73,
   "metadata": {},
   "outputs": [],
   "source": [
    "all_num_df2[fill_mean_cols] = all_num_df2[fill_mean_cols].fillna(all_num_df2[fill_mean_cols].mean())"
   ]
  },
  {
   "cell_type": "markdown",
   "metadata": {},
   "source": [
    "## Fill NA values "
   ]
  },
  {
   "cell_type": "code",
   "execution_count": 74,
   "metadata": {},
   "outputs": [
    {
     "name": "stderr",
     "output_type": "stream",
     "text": [
      "C:\\Users\\david\\Anaconda3\\lib\\site-packages\\ipykernel_launcher.py:1: DeprecationWarning: \n",
      ".ix is deprecated. Please use\n",
      ".loc for label based indexing or\n",
      ".iloc for positional indexing\n",
      "\n",
      "See the documentation here:\n",
      "http://pandas.pydata.org/pandas-docs/stable/indexing.html#deprecate_ix\n",
      "  \"\"\"Entry point for launching an IPython kernel.\n"
     ]
    }
   ],
   "source": [
    "fill_0_cols = all_num_df.T.ix[all_num_df.isnull().any().tolist()].T.columns.tolist()"
   ]
  },
  {
   "cell_type": "code",
   "execution_count": 75,
   "metadata": {},
   "outputs": [],
   "source": [
    "all_num_df[fill_0_cols] = all_num_df[fill_0_cols].fillna(0).astype(int)"
   ]
  },
  {
   "cell_type": "code",
   "execution_count": 76,
   "metadata": {},
   "outputs": [],
   "source": [
    "all_num_df2[fill_0_cols] = all_num_df2[fill_0_cols].fillna(0).astype(int)"
   ]
  },
  {
   "cell_type": "code",
   "execution_count": 77,
   "metadata": {},
   "outputs": [],
   "source": [
    "fill_mean_cols = [col for col in all_num_df2.columns if 'tt' in col]"
   ]
  },
  {
   "cell_type": "code",
   "execution_count": 78,
   "metadata": {},
   "outputs": [],
   "source": [
    "all_num_df2[fill_mean_cols] = all_num_df2[fill_mean_cols].fillna(all_num_df2[fill_mean_cols].mean())"
   ]
  },
  {
   "cell_type": "code",
   "execution_count": 79,
   "metadata": {},
   "outputs": [
    {
     "name": "stderr",
     "output_type": "stream",
     "text": [
      "C:\\Users\\david\\Anaconda3\\lib\\site-packages\\ipykernel_launcher.py:1: DeprecationWarning: \n",
      ".ix is deprecated. Please use\n",
      ".loc for label based indexing or\n",
      ".iloc for positional indexing\n",
      "\n",
      "See the documentation here:\n",
      "http://pandas.pydata.org/pandas-docs/stable/indexing.html#deprecate_ix\n",
      "  \"\"\"Entry point for launching an IPython kernel.\n"
     ]
    }
   ],
   "source": [
    "fill_0_cols_2 = all_num_df2.T.ix[all_num_df2.isnull().any().tolist()].T.columns.tolist()"
   ]
  },
  {
   "cell_type": "code",
   "execution_count": 80,
   "metadata": {},
   "outputs": [],
   "source": [
    "all_num_df2[fill_0_cols_2] = all_num_df2[fill_0_cols_2].fillna(0)"
   ]
  },
  {
   "cell_type": "markdown",
   "metadata": {},
   "source": [
    "## Fill missing cols "
   ]
  },
  {
   "cell_type": "code",
   "execution_count": 81,
   "metadata": {},
   "outputs": [],
   "source": [
    "missing_cols = set(all_num_df2.columns) - set(all_num_df.columns)"
   ]
  },
  {
   "cell_type": "code",
   "execution_count": 82,
   "metadata": {},
   "outputs": [],
   "source": [
    "all_num_df = all_num_df.assign(**{col: 0 for col in missing_cols})"
   ]
  },
  {
   "cell_type": "markdown",
   "metadata": {},
   "source": [
    "##  Predict"
   ]
  },
  {
   "cell_type": "markdown",
   "metadata": {},
   "source": [
    "### Set trainers, predictors and labels"
   ]
  },
  {
   "cell_type": "code",
   "execution_count": 83,
   "metadata": {},
   "outputs": [],
   "source": [
    "trainers = all_num_df[sorted(all_num_df.columns)]\n",
    "predictors = all_num_df2[sorted(all_num_df2.columns)]"
   ]
  },
  {
   "cell_type": "code",
   "execution_count": 84,
   "metadata": {},
   "outputs": [],
   "source": [
    "labels = slo_df.position"
   ]
  },
  {
   "cell_type": "markdown",
   "metadata": {},
   "source": [
    "### Configure all models"
   ]
  },
  {
   "cell_type": "code",
   "execution_count": 85,
   "metadata": {},
   "outputs": [],
   "source": [
    "model1 = DecisionTreeClassifier()\n",
    "model2 = BernoulliNB()\n",
    "model3 = MLPClassifier()\n",
    "model4 = SVC()\n",
    "model5 = BaggingClassifier()\n",
    "model6 = GradientBoostingClassifier()\n",
    "model7 = RandomForestClassifier()"
   ]
  },
  {
   "cell_type": "code",
   "execution_count": 86,
   "metadata": {},
   "outputs": [],
   "source": [
    "models = [model1, model2, model3, model4, model5, model6, model7]"
   ]
  },
  {
   "cell_type": "code",
   "execution_count": 87,
   "metadata": {},
   "outputs": [],
   "source": [
    "models_results = pd.concat([pd.DataFrame(cross_val_score(estimator=model, cv=5, X=trainers, y=labels)).T for model in models])"
   ]
  },
  {
   "cell_type": "code",
   "execution_count": 88,
   "metadata": {},
   "outputs": [],
   "source": [
    "models_results['model'] = ['DecisionTreeClassifier', 'BernoulliNB', 'MLPClassifier', 'SVC', 'BaggingClassifier', 'GradientBoostingClassifier', 'RandomForestClassifier']"
   ]
  },
  {
   "cell_type": "code",
   "execution_count": 89,
   "metadata": {},
   "outputs": [],
   "source": [
    "models_results['mean'] = models_results[[0, 1, 2, 3, 4]].T.mean()"
   ]
  },
  {
   "cell_type": "code",
   "execution_count": 90,
   "metadata": {},
   "outputs": [],
   "source": [
    "models_results['std'] = models_results[[0, 1, 2, 3, 4]].T.std()"
   ]
  },
  {
   "cell_type": "code",
   "execution_count": 91,
   "metadata": {},
   "outputs": [
    {
     "data": {
      "text/html": [
       "<div>\n",
       "<style>\n",
       "    .dataframe thead tr:only-child th {\n",
       "        text-align: right;\n",
       "    }\n",
       "\n",
       "    .dataframe thead th {\n",
       "        text-align: left;\n",
       "    }\n",
       "\n",
       "    .dataframe tbody tr th {\n",
       "        vertical-align: top;\n",
       "    }\n",
       "</style>\n",
       "<table border=\"1\" class=\"dataframe\">\n",
       "  <thead>\n",
       "    <tr style=\"text-align: right;\">\n",
       "      <th></th>\n",
       "      <th>0</th>\n",
       "      <th>1</th>\n",
       "      <th>2</th>\n",
       "      <th>3</th>\n",
       "      <th>4</th>\n",
       "      <th>model</th>\n",
       "      <th>mean</th>\n",
       "      <th>std</th>\n",
       "    </tr>\n",
       "  </thead>\n",
       "  <tbody>\n",
       "    <tr>\n",
       "      <th>0</th>\n",
       "      <td>0.9325</td>\n",
       "      <td>0.9050</td>\n",
       "      <td>0.9450</td>\n",
       "      <td>0.8950</td>\n",
       "      <td>0.9125</td>\n",
       "      <td>DecisionTreeClassifier</td>\n",
       "      <td>0.9180</td>\n",
       "      <td>0.020418</td>\n",
       "    </tr>\n",
       "    <tr>\n",
       "      <th>1</th>\n",
       "      <td>0.8875</td>\n",
       "      <td>0.8275</td>\n",
       "      <td>0.8375</td>\n",
       "      <td>0.8000</td>\n",
       "      <td>0.8200</td>\n",
       "      <td>BernoulliNB</td>\n",
       "      <td>0.8345</td>\n",
       "      <td>0.032663</td>\n",
       "    </tr>\n",
       "    <tr>\n",
       "      <th>2</th>\n",
       "      <td>0.9575</td>\n",
       "      <td>0.9350</td>\n",
       "      <td>0.9600</td>\n",
       "      <td>0.9275</td>\n",
       "      <td>0.9200</td>\n",
       "      <td>MLPClassifier</td>\n",
       "      <td>0.9400</td>\n",
       "      <td>0.017941</td>\n",
       "    </tr>\n",
       "    <tr>\n",
       "      <th>3</th>\n",
       "      <td>0.7700</td>\n",
       "      <td>0.6875</td>\n",
       "      <td>0.6800</td>\n",
       "      <td>0.6000</td>\n",
       "      <td>0.6600</td>\n",
       "      <td>SVC</td>\n",
       "      <td>0.6795</td>\n",
       "      <td>0.061145</td>\n",
       "    </tr>\n",
       "    <tr>\n",
       "      <th>4</th>\n",
       "      <td>0.9400</td>\n",
       "      <td>0.9200</td>\n",
       "      <td>0.9475</td>\n",
       "      <td>0.8925</td>\n",
       "      <td>0.9025</td>\n",
       "      <td>BaggingClassifier</td>\n",
       "      <td>0.9205</td>\n",
       "      <td>0.023545</td>\n",
       "    </tr>\n",
       "    <tr>\n",
       "      <th>5</th>\n",
       "      <td>0.9450</td>\n",
       "      <td>0.9225</td>\n",
       "      <td>0.9450</td>\n",
       "      <td>0.9275</td>\n",
       "      <td>0.9300</td>\n",
       "      <td>GradientBoostingClassifier</td>\n",
       "      <td>0.9340</td>\n",
       "      <td>0.010398</td>\n",
       "    </tr>\n",
       "    <tr>\n",
       "      <th>6</th>\n",
       "      <td>0.9250</td>\n",
       "      <td>0.9175</td>\n",
       "      <td>0.9375</td>\n",
       "      <td>0.8850</td>\n",
       "      <td>0.9050</td>\n",
       "      <td>RandomForestClassifier</td>\n",
       "      <td>0.9140</td>\n",
       "      <td>0.020047</td>\n",
       "    </tr>\n",
       "  </tbody>\n",
       "</table>\n",
       "</div>"
      ],
      "text/plain": [
       "        0       1       2       3       4                       model    mean  \\\n",
       "0  0.9325  0.9050  0.9450  0.8950  0.9125      DecisionTreeClassifier  0.9180   \n",
       "1  0.8875  0.8275  0.8375  0.8000  0.8200                 BernoulliNB  0.8345   \n",
       "2  0.9575  0.9350  0.9600  0.9275  0.9200               MLPClassifier  0.9400   \n",
       "3  0.7700  0.6875  0.6800  0.6000  0.6600                         SVC  0.6795   \n",
       "4  0.9400  0.9200  0.9475  0.8925  0.9025           BaggingClassifier  0.9205   \n",
       "5  0.9450  0.9225  0.9450  0.9275  0.9300  GradientBoostingClassifier  0.9340   \n",
       "6  0.9250  0.9175  0.9375  0.8850  0.9050      RandomForestClassifier  0.9140   \n",
       "\n",
       "        std  \n",
       "0  0.020418  \n",
       "1  0.032663  \n",
       "2  0.017941  \n",
       "3  0.061145  \n",
       "4  0.023545  \n",
       "5  0.010398  \n",
       "6  0.020047  "
      ]
     },
     "execution_count": 91,
     "metadata": {},
     "output_type": "execute_result"
    }
   ],
   "source": [
    "models_results.reset_index(drop=True)"
   ]
  },
  {
   "cell_type": "code",
   "execution_count": 92,
   "metadata": {},
   "outputs": [],
   "source": [
    "list1 = []"
   ]
  },
  {
   "cell_type": "code",
   "execution_count": 93,
   "metadata": {},
   "outputs": [
    {
     "data": {
      "image/png": "[encoded data removed]",
      "text/plain": [
       "<Figure size 432x288 with 1 Axes>"
      ]
     },
     "metadata": {},
     "output_type": "display_data"
    },
    {
     "data": {
      "image/png": "[encoded data removed]",
      "text/plain": [
       "<Figure size 432x288 with 1 Axes>"
      ]
     },
     "metadata": {},
     "output_type": "display_data"
    },
    {
     "data": {
      "image/png": "[encoded data removed]",
      "text/plain": [
       "<Figure size 432x288 with 1 Axes>"
      ]
     },
     "metadata": {},
     "output_type": "display_data"
    },
    {
     "data": {
      "image/png": "[encoded data removed]",
      "text/plain": [
       "<Figure size 432x288 with 1 Axes>"
      ]
     },
     "metadata": {},
     "output_type": "display_data"
    },
    {
     "data": {
      "image/png": "[encoded data removed]",
      "text/plain": [
       "<Figure size 432x288 with 1 Axes>"
      ]
     },
     "metadata": {},
     "output_type": "display_data"
    },
    {
     "data": {
      "image/png": "[encoded data removed]",
      "text/plain": [
       "<Figure size 432x288 with 1 Axes>"
      ]
     },
     "metadata": {},
     "output_type": "display_data"
    },
    {
     "data": {
      "image/png": "[encoded data removed]",
      "text/plain": [
       "<Figure size 432x288 with 1 Axes>"
      ]
     },
     "metadata": {},
     "output_type": "display_data"
    }
   ],
   "source": [
    "for model in models:\n",
    "    model.fit(X=trainers, y=labels)\n",
    "    predicts = model.predict(X=predictors)\n",
    "    soloq_df['position'] = predicts\n",
    "    \n",
    "    m_name = str(model.__class__).split('\\'')[-2].split('.')[-1]\n",
    "    \n",
    "    data = soloq_df.position.value_counts()\n",
    "    data.plot(kind='bar', title=m_name)\n",
    "    plt.show()\n",
    "    \n",
    "    soloq_df = soloq_df.assign(**{lane: 0 for lane in ['ADC', 'JUNG', 'MID', 'SUPP', 'TOP']})\n",
    "    pos_dums = soloq_df.position.str.get_dummies()\n",
    "    dums_cols = pos_dums.columns.tolist()\n",
    "    soloq_df[dums_cols] = pos_dums\n",
    "    df_temp = soloq_df.groupby(['gameId', 'side']).sum()[['ADC', 'JUNG', 'MID', 'SUPP', 'TOP']]\n",
    "    df_temp['all_good'] = df_temp.apply(positions_assigned_correctly, axis=1)\n",
    "    good_predicts = df_temp.all_good.count()\n",
    "    \n",
    "    list1.append({'model': m_name, 'predicts': predicts, 'good_predicts': good_predicts})"
   ]
  },
  {
   "cell_type": "code",
   "execution_count": 94,
   "metadata": {},
   "outputs": [],
   "source": [
    "predicts_df = pd.DataFrame(list1)"
   ]
  },
  {
   "cell_type": "code",
   "execution_count": 95,
   "metadata": {},
   "outputs": [
    {
     "name": "stdout",
     "output_type": "stream",
     "text": [
      "5372\n",
      "DecisionTreeClassifier    1\n",
      "dtype: int64\n",
      "\n",
      "\n",
      "5372\n",
      "BernoulliNB    1\n",
      "dtype: int64\n",
      "\n",
      "\n",
      "5372\n",
      "MLPClassifier    1\n",
      "dtype: int64\n",
      "\n",
      "\n",
      "5372\n",
      "SVC    1\n",
      "dtype: int64\n",
      "\n",
      "\n",
      "5372\n",
      "BaggingClassifier    1\n",
      "dtype: int64\n",
      "\n",
      "\n",
      "5372\n",
      "GradientBoostingClassifier    1\n",
      "dtype: int64\n",
      "\n",
      "\n",
      "5372\n",
      "RandomForestClassifier    1\n",
      "dtype: int64\n",
      "\n",
      "\n"
     ]
    }
   ],
   "source": [
    "for row in predicts_df.iterrows():\n",
    "    print(row[1][0])\n",
    "    print(pd.Series(row[1][1]).value_counts())\n",
    "    print('\\n')"
   ]
  },
  {
   "cell_type": "code",
   "execution_count": 96,
   "metadata": {
    "scrolled": true
   },
   "outputs": [],
   "source": [
    "df_temp = pd.concat([soloq_df, soloq_df.position.str.get_dummies()], axis=1)"
   ]
  },
  {
   "cell_type": "code",
   "execution_count": 97,
   "metadata": {},
   "outputs": [],
   "source": [
    "df_temp2 = df_temp.groupby(['gameId', 'side']).sum()[['ADC', 'JUNG', 'MID', 'SUPP', 'TOP']]"
   ]
  },
  {
   "cell_type": "code",
   "execution_count": 98,
   "metadata": {},
   "outputs": [],
   "source": [
    "from numpy import std"
   ]
  },
  {
   "cell_type": "code",
   "execution_count": 99,
   "metadata": {},
   "outputs": [],
   "source": [
    "def positions_assigned_correctly(x):\n",
    "    if std(x.tolist()) != 0:\n",
    "        return 0\n",
    "    else:\n",
    "        return 1\n",
    "    "
   ]
  },
  {
   "cell_type": "code",
   "execution_count": 100,
   "metadata": {},
   "outputs": [],
   "source": [
    "df_temp2['all_good'] = df_temp2.apply(positions_assigned_correctly, axis=1)"
   ]
  },
  {
   "cell_type": "code",
   "execution_count": 101,
   "metadata": {},
   "outputs": [
    {
     "data": {
      "text/plain": [
       "5372"
      ]
     },
     "execution_count": 101,
     "metadata": {},
     "output_type": "execute_result"
    }
   ],
   "source": [
    "df_temp2.all_good.count()"
   ]
  }
 ],
 "metadata": {
  "kernelspec": {
   "display_name": "Python 3",
   "language": "python",
   "name": "python3"
  },
  "language_info": {
   "codemirror_mode": {
    "name": "ipython",
    "version": 3
   },
   "file_extension": ".py",
   "mimetype": "text/x-python",
   "name": "python",
   "nbconvert_exporter": "python",
   "pygments_lexer": "ipython3",
   "version": "3.6.6"
  }
 },
 "nbformat": 4,
 "nbformat_minor": 2
}
