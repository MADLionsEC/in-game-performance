{
 "cells": [
  {
   "cell_type": "code",
   "execution_count": 1,
   "metadata": {
    "collapsed": true
   },
   "outputs": [],
   "source": [
    "import pandas as pd\n",
    "from config.constants import EXPORTS_DIR\n",
    "from converters.data2frames import clean_export_dataframe"
   ]
  },
  {
   "cell_type": "code",
   "execution_count": 2,
   "metadata": {
    "collapsed": true
   },
   "outputs": [],
   "source": [
    "from sklearn.tree import DecisionTreeClassifier\n",
    "from sklearn.ensemble import AdaBoostClassifier, BaggingClassifier, GradientBoostingClassifier, RandomForestClassifier\n",
    "from sklearn.naive_bayes import BernoulliNB\n",
    "from sklearn.neural_network import MLPClassifier\n",
    "from sklearn.svm import SVC\n",
    "from sklearn.gaussian_process import GaussianProcessClassifier"
   ]
  },
  {
   "cell_type": "code",
   "execution_count": 3,
   "metadata": {
    "collapsed": true
   },
   "outputs": [],
   "source": [
    "from sklearn.model_selection import cross_val_score"
   ]
  },
  {
   "cell_type": "code",
   "execution_count": 5,
   "metadata": {
    "collapsed": true
   },
   "outputs": [],
   "source": [
    "soloq_df = clean_export_dataframe(pd.read_excel(EXPORTS_DIR + 'patch_8-18_dataset.xlsx'))"
   ]
  },
  {
   "cell_type": "code",
   "execution_count": 38,
   "metadata": {
    "collapsed": true
   },
   "outputs": [],
   "source": [
    "soloq_drop_cols = [ 'account_id', 'account_type', 'id', 'substitute']"
   ]
  },
  {
   "cell_type": "code",
   "execution_count": 40,
   "metadata": {},
   "outputs": [],
   "source": [
    "soloq_df.drop(soloq_drop_cols, axis=1, inplace=True)"
   ]
  },
  {
   "cell_type": "code",
   "execution_count": 6,
   "metadata": {
    "collapsed": true
   },
   "outputs": [],
   "source": [
    "slo_df = pd.read_excel(EXPORTS_DIR + 'slo_dataset.xlsx')"
   ]
  },
  {
   "cell_type": "code",
   "execution_count": 7,
   "metadata": {
    "collapsed": true
   },
   "outputs": [],
   "source": [
    "numerics = ['int16', 'int32', 'int64', 'float16', 'float32', 'float64']"
   ]
  },
  {
   "cell_type": "code",
   "execution_count": 41,
   "metadata": {
    "collapsed": true,
    "scrolled": true
   },
   "outputs": [],
   "source": [
    "newdf = slo_df.select_dtypes(include=numerics)\n",
    "newdf2 = soloq_df.select_dtypes(include=numerics)"
   ]
  },
  {
   "cell_type": "code",
   "execution_count": 42,
   "metadata": {},
   "outputs": [],
   "source": [
    "perkp_df = slo_df.perkPrimaryStyle_name.str.get_dummies()\n",
    "perks_df = slo_df.perkSubStyle_name.str.get_dummies()\n",
    "\n",
    "perkp_df2 = soloq_df.perkPrimaryStyle_name.str.get_dummies()\n",
    "perks_df2 = soloq_df.perkSubStyle_name.str.get_dummies()"
   ]
  },
  {
   "cell_type": "code",
   "execution_count": 43,
   "metadata": {
    "collapsed": true
   },
   "outputs": [],
   "source": [
    "role_dum = slo_df.role.str.get_dummies()\n",
    "lane_dum = slo_df.lane.str.get_dummies()\n",
    "\n",
    "role_dum2 = soloq_df.role.str.get_dummies()\n",
    "lane_dum2 = soloq_df.lane.str.get_dummies()"
   ]
  },
  {
   "cell_type": "code",
   "execution_count": 44,
   "metadata": {
    "collapsed": true
   },
   "outputs": [],
   "source": [
    "champ_df = slo_df.champ_name.str.get_dummies()\n",
    "\n",
    "champ_df2 = soloq_df.champ_name.str.get_dummies()"
   ]
  },
  {
   "cell_type": "code",
   "execution_count": 45,
   "metadata": {
    "collapsed": true
   },
   "outputs": [],
   "source": [
    "all_num_df = pd.concat([newdf, perkp_df, perks_df, champ_df, role_dum, lane_dum], axis=1)\n",
    "\n",
    "all_num_df2 = pd.concat([newdf2, perkp_df2, perks_df2, champ_df2, role_dum2, lane_dum2], axis=1)"
   ]
  },
  {
   "cell_type": "markdown",
   "metadata": {},
   "source": [
    "## Fill NA values "
   ]
  },
  {
   "cell_type": "code",
   "execution_count": 47,
   "metadata": {},
   "outputs": [
    {
     "name": "stderr",
     "output_type": "stream",
     "text": [
      "C:\\Users\\david\\Anaconda3\\lib\\site-packages\\ipykernel_launcher.py:1: DeprecationWarning: \n",
      ".ix is deprecated. Please use\n",
      ".loc for label based indexing or\n",
      ".iloc for positional indexing\n",
      "\n",
      "See the documentation here:\n",
      "http://pandas.pydata.org/pandas-docs/stable/indexing.html#deprecate_ix\n",
      "  \"\"\"Entry point for launching an IPython kernel.\n"
     ]
    }
   ],
   "source": [
    "fill_0_cols = all_num_df.T.ix[all_num_df.isnull().any().tolist()].T.columns.tolist()"
   ]
  },
  {
   "cell_type": "code",
   "execution_count": 48,
   "metadata": {},
   "outputs": [],
   "source": [
    "all_num_df[fill_0_cols] = all_num_df[fill_0_cols].fillna(0).astype(int)"
   ]
  },
  {
   "cell_type": "code",
   "execution_count": 49,
   "metadata": {
    "collapsed": true
   },
   "outputs": [],
   "source": [
    "all_num_df2[fill_0_cols] = all_num_df2[fill_0_cols].fillna(0).astype(int)"
   ]
  },
  {
   "cell_type": "code",
   "execution_count": 76,
   "metadata": {},
   "outputs": [],
   "source": [
    "fill_mean_cols = [col for col in all_num_df2.columns if 'tt' in col]"
   ]
  },
  {
   "cell_type": "code",
   "execution_count": 78,
   "metadata": {},
   "outputs": [],
   "source": [
    "all_num_df2[fill_mean_cols] = all_num_df2[fill_mean_cols].fillna(all_num_df2[fill_mean_cols].mean())"
   ]
  },
  {
   "cell_type": "code",
   "execution_count": 80,
   "metadata": {},
   "outputs": [
    {
     "name": "stderr",
     "output_type": "stream",
     "text": [
      "C:\\Users\\david\\Anaconda3\\lib\\site-packages\\ipykernel_launcher.py:1: DeprecationWarning: \n",
      ".ix is deprecated. Please use\n",
      ".loc for label based indexing or\n",
      ".iloc for positional indexing\n",
      "\n",
      "See the documentation here:\n",
      "http://pandas.pydata.org/pandas-docs/stable/indexing.html#deprecate_ix\n",
      "  \"\"\"Entry point for launching an IPython kernel.\n"
     ]
    }
   ],
   "source": [
    "fill_0_cols_2 = all_num_df2.T.ix[all_num_df2.isnull().any().tolist()].T.columns.tolist()"
   ]
  },
  {
   "cell_type": "code",
   "execution_count": 81,
   "metadata": {
    "collapsed": true
   },
   "outputs": [],
   "source": [
    "all_num_df2[fill_0_cols_2] = all_num_df2[fill_0_cols_2].fillna(0)"
   ]
  },
  {
   "cell_type": "markdown",
   "metadata": {},
   "source": [
    "## Fill missing cols "
   ]
  },
  {
   "cell_type": "code",
   "execution_count": 51,
   "metadata": {
    "collapsed": true
   },
   "outputs": [],
   "source": [
    "missing_cols = set(all_num_df2.columns) - set(all_num_df.columns)"
   ]
  },
  {
   "cell_type": "code",
   "execution_count": 57,
   "metadata": {},
   "outputs": [],
   "source": [
    "all_num_df = all_num_df.assign(**{col: 0 for col in missing_cols})"
   ]
  },
  {
   "cell_type": "code",
   "execution_count": 84,
   "metadata": {},
   "outputs": [
    {
     "data": {
      "text/plain": [
       "(271, 271)"
      ]
     },
     "execution_count": 84,
     "metadata": {},
     "output_type": "execute_result"
    }
   ],
   "source": [
    "all_num_df.shape[1], all_num_df2.shape[1]"
   ]
  },
  {
   "cell_type": "markdown",
   "metadata": {},
   "source": [
    "##  Predict"
   ]
  },
  {
   "cell_type": "code",
   "execution_count": 83,
   "metadata": {
    "collapsed": true
   },
   "outputs": [],
   "source": [
    "trainers = all_num_df\n",
    "predictors = all_num_df2"
   ]
  },
  {
   "cell_type": "code",
   "execution_count": 85,
   "metadata": {
    "collapsed": true
   },
   "outputs": [],
   "source": [
    "labels = slo_df.position"
   ]
  },
  {
   "cell_type": "code",
   "execution_count": 86,
   "metadata": {
    "collapsed": true
   },
   "outputs": [],
   "source": [
    "model1 = DecisionTreeClassifier()\n",
    "model2 = BernoulliNB()\n",
    "model3 = MLPClassifier()\n",
    "model4 = SVC()\n",
    "model5 = BaggingClassifier()\n",
    "model6 = GradientBoostingClassifier() # 99%\n",
    "model7 = RandomForestClassifier() # "
   ]
  },
  {
   "cell_type": "code",
   "execution_count": 87,
   "metadata": {
    "collapsed": true
   },
   "outputs": [],
   "source": [
    "models = [model1, model2, model3, model4, model5, model6, model7]"
   ]
  },
  {
   "cell_type": "code",
   "execution_count": 88,
   "metadata": {
    "collapsed": true
   },
   "outputs": [],
   "source": [
    "models_results = pd.concat([pd.DataFrame(cross_val_score(estimator=model, cv=5, X=trainers, y=labels)).T for model in models])"
   ]
  },
  {
   "cell_type": "code",
   "execution_count": 89,
   "metadata": {
    "collapsed": true
   },
   "outputs": [],
   "source": [
    "models_results['model'] = ['DecisionTreeClassifier', 'BernoulliNB', 'MLPClassifier', 'SVC', 'BaggingClassifier', 'GradientBoostingClassifier', 'RandomForestClassifier']"
   ]
  },
  {
   "cell_type": "code",
   "execution_count": 90,
   "metadata": {
    "collapsed": true
   },
   "outputs": [],
   "source": [
    "models_results['mean'] = models_results[[0, 1, 2, 3, 4]].T.mean()"
   ]
  },
  {
   "cell_type": "code",
   "execution_count": 91,
   "metadata": {
    "collapsed": true
   },
   "outputs": [],
   "source": [
    "models_results['std'] = models_results[[0, 1, 2, 3, 4]].T.std()"
   ]
  },
  {
   "cell_type": "code",
   "execution_count": 92,
   "metadata": {},
   "outputs": [
    {
     "data": {
      "text/html": [
       "<div>\n",
       "<style>\n",
       "    .dataframe thead tr:only-child th {\n",
       "        text-align: right;\n",
       "    }\n",
       "\n",
       "    .dataframe thead th {\n",
       "        text-align: left;\n",
       "    }\n",
       "\n",
       "    .dataframe tbody tr th {\n",
       "        vertical-align: top;\n",
       "    }\n",
       "</style>\n",
       "<table border=\"1\" class=\"dataframe\">\n",
       "  <thead>\n",
       "    <tr style=\"text-align: right;\">\n",
       "      <th></th>\n",
       "      <th>0</th>\n",
       "      <th>1</th>\n",
       "      <th>2</th>\n",
       "      <th>3</th>\n",
       "      <th>4</th>\n",
       "      <th>model</th>\n",
       "      <th>mean</th>\n",
       "      <th>std</th>\n",
       "    </tr>\n",
       "  </thead>\n",
       "  <tbody>\n",
       "    <tr>\n",
       "      <th>0</th>\n",
       "      <td>0.9650</td>\n",
       "      <td>0.9425</td>\n",
       "      <td>0.9675</td>\n",
       "      <td>0.9650</td>\n",
       "      <td>0.9650</td>\n",
       "      <td>DecisionTreeClassifier</td>\n",
       "      <td>0.9610</td>\n",
       "      <td>0.010398</td>\n",
       "    </tr>\n",
       "    <tr>\n",
       "      <th>1</th>\n",
       "      <td>0.9500</td>\n",
       "      <td>0.9450</td>\n",
       "      <td>0.9500</td>\n",
       "      <td>0.9350</td>\n",
       "      <td>0.9500</td>\n",
       "      <td>BernoulliNB</td>\n",
       "      <td>0.9460</td>\n",
       "      <td>0.006519</td>\n",
       "    </tr>\n",
       "    <tr>\n",
       "      <th>2</th>\n",
       "      <td>0.2675</td>\n",
       "      <td>0.4550</td>\n",
       "      <td>0.3825</td>\n",
       "      <td>0.4600</td>\n",
       "      <td>0.2900</td>\n",
       "      <td>MLPClassifier</td>\n",
       "      <td>0.3710</td>\n",
       "      <td>0.089976</td>\n",
       "    </tr>\n",
       "    <tr>\n",
       "      <th>3</th>\n",
       "      <td>0.2000</td>\n",
       "      <td>0.2000</td>\n",
       "      <td>0.2000</td>\n",
       "      <td>0.2000</td>\n",
       "      <td>0.2000</td>\n",
       "      <td>SVC</td>\n",
       "      <td>0.2000</td>\n",
       "      <td>0.000000</td>\n",
       "    </tr>\n",
       "    <tr>\n",
       "      <th>4</th>\n",
       "      <td>0.9625</td>\n",
       "      <td>0.9550</td>\n",
       "      <td>0.9775</td>\n",
       "      <td>0.9625</td>\n",
       "      <td>0.9600</td>\n",
       "      <td>BaggingClassifier</td>\n",
       "      <td>0.9635</td>\n",
       "      <td>0.008404</td>\n",
       "    </tr>\n",
       "    <tr>\n",
       "      <th>5</th>\n",
       "      <td>0.9875</td>\n",
       "      <td>0.9975</td>\n",
       "      <td>0.9975</td>\n",
       "      <td>1.0000</td>\n",
       "      <td>0.9925</td>\n",
       "      <td>GradientBoostingClassifier</td>\n",
       "      <td>0.9950</td>\n",
       "      <td>0.005000</td>\n",
       "    </tr>\n",
       "    <tr>\n",
       "      <th>6</th>\n",
       "      <td>0.9650</td>\n",
       "      <td>0.9650</td>\n",
       "      <td>0.9800</td>\n",
       "      <td>0.9675</td>\n",
       "      <td>0.9550</td>\n",
       "      <td>RandomForestClassifier</td>\n",
       "      <td>0.9665</td>\n",
       "      <td>0.008944</td>\n",
       "    </tr>\n",
       "  </tbody>\n",
       "</table>\n",
       "</div>"
      ],
      "text/plain": [
       "        0       1       2       3       4                       model    mean  \\\n",
       "0  0.9650  0.9425  0.9675  0.9650  0.9650      DecisionTreeClassifier  0.9610   \n",
       "1  0.9500  0.9450  0.9500  0.9350  0.9500                 BernoulliNB  0.9460   \n",
       "2  0.2675  0.4550  0.3825  0.4600  0.2900               MLPClassifier  0.3710   \n",
       "3  0.2000  0.2000  0.2000  0.2000  0.2000                         SVC  0.2000   \n",
       "4  0.9625  0.9550  0.9775  0.9625  0.9600           BaggingClassifier  0.9635   \n",
       "5  0.9875  0.9975  0.9975  1.0000  0.9925  GradientBoostingClassifier  0.9950   \n",
       "6  0.9650  0.9650  0.9800  0.9675  0.9550      RandomForestClassifier  0.9665   \n",
       "\n",
       "        std  \n",
       "0  0.010398  \n",
       "1  0.006519  \n",
       "2  0.089976  \n",
       "3  0.000000  \n",
       "4  0.008404  \n",
       "5  0.005000  \n",
       "6  0.008944  "
      ]
     },
     "execution_count": 92,
     "metadata": {},
     "output_type": "execute_result"
    }
   ],
   "source": [
    "models_results.reset_index(drop=True)"
   ]
  },
  {
   "cell_type": "code",
   "execution_count": 93,
   "metadata": {},
   "outputs": [
    {
     "data": {
      "text/plain": [
       "GradientBoostingClassifier(criterion='friedman_mse', init=None,\n",
       "              learning_rate=0.1, loss='deviance', max_depth=3,\n",
       "              max_features=None, max_leaf_nodes=None,\n",
       "              min_impurity_split=1e-07, min_samples_leaf=1,\n",
       "              min_samples_split=2, min_weight_fraction_leaf=0.0,\n",
       "              n_estimators=100, presort='auto', random_state=None,\n",
       "              subsample=1.0, verbose=0, warm_start=False)"
      ]
     },
     "execution_count": 93,
     "metadata": {},
     "output_type": "execute_result"
    }
   ],
   "source": [
    "model6.fit(X=trainers, y=labels)"
   ]
  },
  {
   "cell_type": "code",
   "execution_count": 94,
   "metadata": {},
   "outputs": [],
   "source": [
    "predicts = model6.predict(X=predictors)"
   ]
  },
  {
   "cell_type": "code",
   "execution_count": 95,
   "metadata": {
    "collapsed": true
   },
   "outputs": [],
   "source": [
    "soloq_df['position'] = predicts"
   ]
  },
  {
   "cell_type": "code",
   "execution_count": 96,
   "metadata": {},
   "outputs": [
    {
     "data": {
      "text/plain": [
       "array(['JUNG', 'TOP', 'MID', 'ADC', 'SUPP'], dtype=object)"
      ]
     },
     "execution_count": 96,
     "metadata": {},
     "output_type": "execute_result"
    }
   ],
   "source": [
    "soloq_df.position.unique()"
   ]
  },
  {
   "cell_type": "code",
   "execution_count": 98,
   "metadata": {},
   "outputs": [
    {
     "data": {
      "text/html": [
       "<div>\n",
       "<style>\n",
       "    .dataframe thead tr:only-child th {\n",
       "        text-align: right;\n",
       "    }\n",
       "\n",
       "    .dataframe thead th {\n",
       "        text-align: left;\n",
       "    }\n",
       "\n",
       "    .dataframe tbody tr th {\n",
       "        vertical-align: top;\n",
       "    }\n",
       "</style>\n",
       "<table border=\"1\" class=\"dataframe\">\n",
       "  <thead>\n",
       "    <tr style=\"text-align: right;\">\n",
       "      <th></th>\n",
       "      <th>gameId</th>\n",
       "      <th>summonerName</th>\n",
       "      <th>champ_name</th>\n",
       "      <th>lane</th>\n",
       "      <th>role</th>\n",
       "      <th>position</th>\n",
       "    </tr>\n",
       "  </thead>\n",
       "  <tbody>\n",
       "    <tr>\n",
       "      <th>0</th>\n",
       "      <td>3770407781</td>\n",
       "      <td>D1 WARRIOR</td>\n",
       "      <td>Kog'Maw</td>\n",
       "      <td>MIDDLE</td>\n",
       "      <td>DUO_SUPPORT</td>\n",
       "      <td>JUNG</td>\n",
       "    </tr>\n",
       "    <tr>\n",
       "      <th>1</th>\n",
       "      <td>3770407781</td>\n",
       "      <td>Kyrîel</td>\n",
       "      <td>Braum</td>\n",
       "      <td>MIDDLE</td>\n",
       "      <td>DUO_SUPPORT</td>\n",
       "      <td>TOP</td>\n",
       "    </tr>\n",
       "    <tr>\n",
       "      <th>2</th>\n",
       "      <td>3770407781</td>\n",
       "      <td>ChosenØne</td>\n",
       "      <td>Graves</td>\n",
       "      <td>JUNGLE</td>\n",
       "      <td>NONE</td>\n",
       "      <td>TOP</td>\n",
       "    </tr>\n",
       "    <tr>\n",
       "      <th>3</th>\n",
       "      <td>3770407781</td>\n",
       "      <td>Decak</td>\n",
       "      <td>Cho'Gath</td>\n",
       "      <td>MIDDLE</td>\n",
       "      <td>DUO_SUPPORT</td>\n",
       "      <td>JUNG</td>\n",
       "    </tr>\n",
       "    <tr>\n",
       "      <th>4</th>\n",
       "      <td>3770407781</td>\n",
       "      <td>MidLurk3r</td>\n",
       "      <td>Cassiopeia</td>\n",
       "      <td>MIDDLE</td>\n",
       "      <td>DUO</td>\n",
       "      <td>TOP</td>\n",
       "    </tr>\n",
       "    <tr>\n",
       "      <th>5</th>\n",
       "      <td>3770407781</td>\n",
       "      <td>ordno</td>\n",
       "      <td>Galio</td>\n",
       "      <td>MIDDLE</td>\n",
       "      <td>SOLO</td>\n",
       "      <td>TOP</td>\n",
       "    </tr>\n",
       "    <tr>\n",
       "      <th>6</th>\n",
       "      <td>3770407781</td>\n",
       "      <td>Archie2b</td>\n",
       "      <td>Gragas</td>\n",
       "      <td>JUNGLE</td>\n",
       "      <td>NONE</td>\n",
       "      <td>TOP</td>\n",
       "    </tr>\n",
       "    <tr>\n",
       "      <th>7</th>\n",
       "      <td>3770407781</td>\n",
       "      <td>ºˆºˆºˆºˆºˆºˆºˆº</td>\n",
       "      <td>Alistar</td>\n",
       "      <td>BOTTOM</td>\n",
       "      <td>DUO_SUPPORT</td>\n",
       "      <td>TOP</td>\n",
       "    </tr>\n",
       "    <tr>\n",
       "      <th>8</th>\n",
       "      <td>3770407781</td>\n",
       "      <td>Nawada</td>\n",
       "      <td>Kai'Sa</td>\n",
       "      <td>BOTTOM</td>\n",
       "      <td>DUO_CARRY</td>\n",
       "      <td>TOP</td>\n",
       "    </tr>\n",
       "    <tr>\n",
       "      <th>9</th>\n",
       "      <td>3770407781</td>\n",
       "      <td>DXZOREN</td>\n",
       "      <td>Illaoi</td>\n",
       "      <td>TOP</td>\n",
       "      <td>SOLO</td>\n",
       "      <td>TOP</td>\n",
       "    </tr>\n",
       "    <tr>\n",
       "      <th>10</th>\n",
       "      <td>3770391632</td>\n",
       "      <td>DONGER IRL ME</td>\n",
       "      <td>Twitch</td>\n",
       "      <td>BOTTOM</td>\n",
       "      <td>DUO_CARRY</td>\n",
       "      <td>MID</td>\n",
       "    </tr>\n",
       "    <tr>\n",
       "      <th>11</th>\n",
       "      <td>3770391632</td>\n",
       "      <td>Sy toucouille</td>\n",
       "      <td>Rumble</td>\n",
       "      <td>MIDDLE</td>\n",
       "      <td>SOLO</td>\n",
       "      <td>TOP</td>\n",
       "    </tr>\n",
       "    <tr>\n",
       "      <th>12</th>\n",
       "      <td>3770391632</td>\n",
       "      <td>the inescapable</td>\n",
       "      <td>Alistar</td>\n",
       "      <td>BOTTOM</td>\n",
       "      <td>DUO_SUPPORT</td>\n",
       "      <td>TOP</td>\n",
       "    </tr>\n",
       "    <tr>\n",
       "      <th>13</th>\n",
       "      <td>3770391632</td>\n",
       "      <td>ˇsmmˇ</td>\n",
       "      <td>Taliyah</td>\n",
       "      <td>JUNGLE</td>\n",
       "      <td>NONE</td>\n",
       "      <td>JUNG</td>\n",
       "    </tr>\n",
       "    <tr>\n",
       "      <th>14</th>\n",
       "      <td>3770391632</td>\n",
       "      <td>dejan1</td>\n",
       "      <td>Riven</td>\n",
       "      <td>TOP</td>\n",
       "      <td>SOLO</td>\n",
       "      <td>JUNG</td>\n",
       "    </tr>\n",
       "    <tr>\n",
       "      <th>15</th>\n",
       "      <td>3770391632</td>\n",
       "      <td>ATL Lvsyan</td>\n",
       "      <td>Kog'Maw</td>\n",
       "      <td>BOTTOM</td>\n",
       "      <td>DUO_CARRY</td>\n",
       "      <td>TOP</td>\n",
       "    </tr>\n",
       "    <tr>\n",
       "      <th>16</th>\n",
       "      <td>3770391632</td>\n",
       "      <td>nite</td>\n",
       "      <td>Sejuani</td>\n",
       "      <td>JUNGLE</td>\n",
       "      <td>NONE</td>\n",
       "      <td>TOP</td>\n",
       "    </tr>\n",
       "    <tr>\n",
       "      <th>17</th>\n",
       "      <td>3770391632</td>\n",
       "      <td>AHG Xioh</td>\n",
       "      <td>Irelia</td>\n",
       "      <td>MIDDLE</td>\n",
       "      <td>SOLO</td>\n",
       "      <td>TOP</td>\n",
       "    </tr>\n",
       "    <tr>\n",
       "      <th>18</th>\n",
       "      <td>3770391632</td>\n",
       "      <td>mouz Gistick</td>\n",
       "      <td>Cho'Gath</td>\n",
       "      <td>TOP</td>\n",
       "      <td>SOLO</td>\n",
       "      <td>TOP</td>\n",
       "    </tr>\n",
       "    <tr>\n",
       "      <th>19</th>\n",
       "      <td>3770391632</td>\n",
       "      <td>Dungenlord</td>\n",
       "      <td>Zilean</td>\n",
       "      <td>BOTTOM</td>\n",
       "      <td>DUO_SUPPORT</td>\n",
       "      <td>TOP</td>\n",
       "    </tr>\n",
       "    <tr>\n",
       "      <th>20</th>\n",
       "      <td>3770339016</td>\n",
       "      <td>OLOFF</td>\n",
       "      <td>Vayne</td>\n",
       "      <td>TOP</td>\n",
       "      <td>DUO</td>\n",
       "      <td>TOP</td>\n",
       "    </tr>\n",
       "    <tr>\n",
       "      <th>21</th>\n",
       "      <td>3770339016</td>\n",
       "      <td>Koyomi Palens</td>\n",
       "      <td>Xin Zhao</td>\n",
       "      <td>JUNGLE</td>\n",
       "      <td>NONE</td>\n",
       "      <td>TOP</td>\n",
       "    </tr>\n",
       "    <tr>\n",
       "      <th>22</th>\n",
       "      <td>3770339016</td>\n",
       "      <td>ROG bimbamboom</td>\n",
       "      <td>Varus</td>\n",
       "      <td>BOTTOM</td>\n",
       "      <td>DUO_CARRY</td>\n",
       "      <td>TOP</td>\n",
       "    </tr>\n",
       "    <tr>\n",
       "      <th>23</th>\n",
       "      <td>3770339016</td>\n",
       "      <td>Prïme</td>\n",
       "      <td>Gragas</td>\n",
       "      <td>BOTTOM</td>\n",
       "      <td>DUO_SUPPORT</td>\n",
       "      <td>TOP</td>\n",
       "    </tr>\n",
       "    <tr>\n",
       "      <th>24</th>\n",
       "      <td>3770339016</td>\n",
       "      <td>V1k3t0X</td>\n",
       "      <td>Zilean</td>\n",
       "      <td>TOP</td>\n",
       "      <td>DUO</td>\n",
       "      <td>TOP</td>\n",
       "    </tr>\n",
       "    <tr>\n",
       "      <th>25</th>\n",
       "      <td>3770339016</td>\n",
       "      <td>LaneTäxCollector</td>\n",
       "      <td>Cho'Gath</td>\n",
       "      <td>TOP</td>\n",
       "      <td>DUO</td>\n",
       "      <td>TOP</td>\n",
       "    </tr>\n",
       "    <tr>\n",
       "      <th>26</th>\n",
       "      <td>3770339016</td>\n",
       "      <td>Permabanvxddddd</td>\n",
       "      <td>Soraka</td>\n",
       "      <td>BOTTOM</td>\n",
       "      <td>DUO_SUPPORT</td>\n",
       "      <td>TOP</td>\n",
       "    </tr>\n",
       "    <tr>\n",
       "      <th>27</th>\n",
       "      <td>3770339016</td>\n",
       "      <td>Kirei sama</td>\n",
       "      <td>Kindred</td>\n",
       "      <td>JUNGLE</td>\n",
       "      <td>NONE</td>\n",
       "      <td>JUNG</td>\n",
       "    </tr>\n",
       "    <tr>\n",
       "      <th>28</th>\n",
       "      <td>3770339016</td>\n",
       "      <td>Kxng</td>\n",
       "      <td>Kai'Sa</td>\n",
       "      <td>BOTTOM</td>\n",
       "      <td>DUO_CARRY</td>\n",
       "      <td>JUNG</td>\n",
       "    </tr>\n",
       "    <tr>\n",
       "      <th>29</th>\n",
       "      <td>3770339016</td>\n",
       "      <td>the inescapable</td>\n",
       "      <td>Yasuo</td>\n",
       "      <td>TOP</td>\n",
       "      <td>DUO</td>\n",
       "      <td>JUNG</td>\n",
       "    </tr>\n",
       "    <tr>\n",
       "      <th>...</th>\n",
       "      <td>...</td>\n",
       "      <td>...</td>\n",
       "      <td>...</td>\n",
       "      <td>...</td>\n",
       "      <td>...</td>\n",
       "      <td>...</td>\n",
       "    </tr>\n",
       "    <tr>\n",
       "      <th>25390</th>\n",
       "      <td>3768816627</td>\n",
       "      <td>Endz7</td>\n",
       "      <td>Ezreal</td>\n",
       "      <td>BOTTOM</td>\n",
       "      <td>SOLO</td>\n",
       "      <td>JUNG</td>\n",
       "    </tr>\n",
       "    <tr>\n",
       "      <th>25391</th>\n",
       "      <td>3768816627</td>\n",
       "      <td>GW Decay0</td>\n",
       "      <td>Ahri</td>\n",
       "      <td>MIDDLE</td>\n",
       "      <td>DUO_CARRY</td>\n",
       "      <td>TOP</td>\n",
       "    </tr>\n",
       "    <tr>\n",
       "      <th>25392</th>\n",
       "      <td>3768816627</td>\n",
       "      <td>Poppÿette</td>\n",
       "      <td>Ornn</td>\n",
       "      <td>TOP</td>\n",
       "      <td>SOLO</td>\n",
       "      <td>TOP</td>\n",
       "    </tr>\n",
       "    <tr>\n",
       "      <th>25393</th>\n",
       "      <td>3768816627</td>\n",
       "      <td>OO Influenza</td>\n",
       "      <td>Rengar</td>\n",
       "      <td>JUNGLE</td>\n",
       "      <td>NONE</td>\n",
       "      <td>TOP</td>\n",
       "    </tr>\n",
       "    <tr>\n",
       "      <th>25394</th>\n",
       "      <td>3768816627</td>\n",
       "      <td>LamineLounis1</td>\n",
       "      <td>Gragas</td>\n",
       "      <td>MIDDLE</td>\n",
       "      <td>DUO_SUPPORT</td>\n",
       "      <td>TOP</td>\n",
       "    </tr>\n",
       "    <tr>\n",
       "      <th>25395</th>\n",
       "      <td>3768816627</td>\n",
       "      <td>Broeki</td>\n",
       "      <td>Varus</td>\n",
       "      <td>BOTTOM</td>\n",
       "      <td>DUO</td>\n",
       "      <td>TOP</td>\n",
       "    </tr>\n",
       "    <tr>\n",
       "      <th>25396</th>\n",
       "      <td>3768816627</td>\n",
       "      <td>Quixeth</td>\n",
       "      <td>Alistar</td>\n",
       "      <td>BOTTOM</td>\n",
       "      <td>DUO_SUPPORT</td>\n",
       "      <td>TOP</td>\n",
       "    </tr>\n",
       "    <tr>\n",
       "      <th>25397</th>\n",
       "      <td>3768816627</td>\n",
       "      <td>iZeal</td>\n",
       "      <td>Darius</td>\n",
       "      <td>JUNGLE</td>\n",
       "      <td>NONE</td>\n",
       "      <td>TOP</td>\n",
       "    </tr>\n",
       "    <tr>\n",
       "      <th>25398</th>\n",
       "      <td>3768816627</td>\n",
       "      <td>ffaka</td>\n",
       "      <td>Diana</td>\n",
       "      <td>BOTTOM</td>\n",
       "      <td>DUO</td>\n",
       "      <td>TOP</td>\n",
       "    </tr>\n",
       "    <tr>\n",
       "      <th>25399</th>\n",
       "      <td>3768816627</td>\n",
       "      <td>Godbro sama</td>\n",
       "      <td>Lee Sin</td>\n",
       "      <td>JUNGLE</td>\n",
       "      <td>NONE</td>\n",
       "      <td>TOP</td>\n",
       "    </tr>\n",
       "    <tr>\n",
       "      <th>25400</th>\n",
       "      <td>3764862738</td>\n",
       "      <td>Kysanna</td>\n",
       "      <td>Nami</td>\n",
       "      <td>BOTTOM</td>\n",
       "      <td>DUO_SUPPORT</td>\n",
       "      <td>TOP</td>\n",
       "    </tr>\n",
       "    <tr>\n",
       "      <th>25401</th>\n",
       "      <td>3764862738</td>\n",
       "      <td>Dr4gonC0re</td>\n",
       "      <td>Tristana</td>\n",
       "      <td>BOTTOM</td>\n",
       "      <td>DUO_CARRY</td>\n",
       "      <td>MID</td>\n",
       "    </tr>\n",
       "    <tr>\n",
       "      <th>25402</th>\n",
       "      <td>3764862738</td>\n",
       "      <td>larssen1</td>\n",
       "      <td>Akali</td>\n",
       "      <td>MIDDLE</td>\n",
       "      <td>SOLO</td>\n",
       "      <td>JUNG</td>\n",
       "    </tr>\n",
       "    <tr>\n",
       "      <th>25403</th>\n",
       "      <td>3764862738</td>\n",
       "      <td>ok br0</td>\n",
       "      <td>Olaf</td>\n",
       "      <td>JUNGLE</td>\n",
       "      <td>NONE</td>\n",
       "      <td>TOP</td>\n",
       "    </tr>\n",
       "    <tr>\n",
       "      <th>25404</th>\n",
       "      <td>3764862738</td>\n",
       "      <td>Ceasarna</td>\n",
       "      <td>Darius</td>\n",
       "      <td>TOP</td>\n",
       "      <td>SOLO</td>\n",
       "      <td>JUNG</td>\n",
       "    </tr>\n",
       "    <tr>\n",
       "      <th>25405</th>\n",
       "      <td>3764862738</td>\n",
       "      <td>UOL Kold</td>\n",
       "      <td>Taliyah</td>\n",
       "      <td>JUNGLE</td>\n",
       "      <td>NONE</td>\n",
       "      <td>TOP</td>\n",
       "    </tr>\n",
       "    <tr>\n",
       "      <th>25406</th>\n",
       "      <td>3764862738</td>\n",
       "      <td>JBI</td>\n",
       "      <td>Lux</td>\n",
       "      <td>MIDDLE</td>\n",
       "      <td>SOLO</td>\n",
       "      <td>TOP</td>\n",
       "    </tr>\n",
       "    <tr>\n",
       "      <th>25407</th>\n",
       "      <td>3764862738</td>\n",
       "      <td>MRS Darkø</td>\n",
       "      <td>Zilean</td>\n",
       "      <td>JUNGLE</td>\n",
       "      <td>NONE</td>\n",
       "      <td>TOP</td>\n",
       "    </tr>\n",
       "    <tr>\n",
       "      <th>25408</th>\n",
       "      <td>3764862738</td>\n",
       "      <td>PRISONER N86</td>\n",
       "      <td>Twitch</td>\n",
       "      <td>BOTTOM</td>\n",
       "      <td>SOLO</td>\n",
       "      <td>TOP</td>\n",
       "    </tr>\n",
       "    <tr>\n",
       "      <th>25409</th>\n",
       "      <td>3764862738</td>\n",
       "      <td>Pytangelus</td>\n",
       "      <td>Talon</td>\n",
       "      <td>TOP</td>\n",
       "      <td>SOLO</td>\n",
       "      <td>TOP</td>\n",
       "    </tr>\n",
       "    <tr>\n",
       "      <th>25410</th>\n",
       "      <td>3764814954</td>\n",
       "      <td>Depressed 247</td>\n",
       "      <td>Leona</td>\n",
       "      <td>BOTTOM</td>\n",
       "      <td>DUO_SUPPORT</td>\n",
       "      <td>TOP</td>\n",
       "    </tr>\n",
       "    <tr>\n",
       "      <th>25411</th>\n",
       "      <td>3764814954</td>\n",
       "      <td>Broxah fanboy</td>\n",
       "      <td>Gragas</td>\n",
       "      <td>JUNGLE</td>\n",
       "      <td>NONE</td>\n",
       "      <td>TOP</td>\n",
       "    </tr>\n",
       "    <tr>\n",
       "      <th>25412</th>\n",
       "      <td>3764814954</td>\n",
       "      <td>Jeong Jiˉhoon</td>\n",
       "      <td>Urgot</td>\n",
       "      <td>MIDDLE</td>\n",
       "      <td>SOLO</td>\n",
       "      <td>TOP</td>\n",
       "    </tr>\n",
       "    <tr>\n",
       "      <th>25413</th>\n",
       "      <td>3764814954</td>\n",
       "      <td>Practice</td>\n",
       "      <td>Lucian</td>\n",
       "      <td>BOTTOM</td>\n",
       "      <td>DUO_CARRY</td>\n",
       "      <td>JUNG</td>\n",
       "    </tr>\n",
       "    <tr>\n",
       "      <th>25414</th>\n",
       "      <td>3764814954</td>\n",
       "      <td>Ventair1</td>\n",
       "      <td>Camille</td>\n",
       "      <td>TOP</td>\n",
       "      <td>SOLO</td>\n",
       "      <td>TOP</td>\n",
       "    </tr>\n",
       "    <tr>\n",
       "      <th>25415</th>\n",
       "      <td>3764814954</td>\n",
       "      <td>Trollnekton</td>\n",
       "      <td>Renekton</td>\n",
       "      <td>TOP</td>\n",
       "      <td>SOLO</td>\n",
       "      <td>JUNG</td>\n",
       "    </tr>\n",
       "    <tr>\n",
       "      <th>25416</th>\n",
       "      <td>3764814954</td>\n",
       "      <td>I Dont Play Meta</td>\n",
       "      <td>Heimerdinger</td>\n",
       "      <td>MIDDLE</td>\n",
       "      <td>SOLO</td>\n",
       "      <td>JUNG</td>\n",
       "    </tr>\n",
       "    <tr>\n",
       "      <th>25417</th>\n",
       "      <td>3764814954</td>\n",
       "      <td>ArcadeZyra</td>\n",
       "      <td>Zyra</td>\n",
       "      <td>BOTTOM</td>\n",
       "      <td>DUO_SUPPORT</td>\n",
       "      <td>TOP</td>\n",
       "    </tr>\n",
       "    <tr>\n",
       "      <th>25418</th>\n",
       "      <td>3764814954</td>\n",
       "      <td>SLY Skeanz</td>\n",
       "      <td>Olaf</td>\n",
       "      <td>JUNGLE</td>\n",
       "      <td>NONE</td>\n",
       "      <td>TOP</td>\n",
       "    </tr>\n",
       "    <tr>\n",
       "      <th>25419</th>\n",
       "      <td>3764814954</td>\n",
       "      <td>Keduii1</td>\n",
       "      <td>Kai'Sa</td>\n",
       "      <td>BOTTOM</td>\n",
       "      <td>DUO_CARRY</td>\n",
       "      <td>MID</td>\n",
       "    </tr>\n",
       "  </tbody>\n",
       "</table>\n",
       "<p>25420 rows × 6 columns</p>\n",
       "</div>"
      ],
      "text/plain": [
       "           gameId      summonerName    champ_name    lane         role  \\\n",
       "0      3770407781        D1 WARRIOR       Kog'Maw  MIDDLE  DUO_SUPPORT   \n",
       "1      3770407781            Kyrîel         Braum  MIDDLE  DUO_SUPPORT   \n",
       "2      3770407781         ChosenØne        Graves  JUNGLE         NONE   \n",
       "3      3770407781             Decak      Cho'Gath  MIDDLE  DUO_SUPPORT   \n",
       "4      3770407781         MidLurk3r    Cassiopeia  MIDDLE          DUO   \n",
       "5      3770407781             ordno         Galio  MIDDLE         SOLO   \n",
       "6      3770407781          Archie2b        Gragas  JUNGLE         NONE   \n",
       "7      3770407781   ºˆºˆºˆºˆºˆºˆºˆº       Alistar  BOTTOM  DUO_SUPPORT   \n",
       "8      3770407781            Nawada        Kai'Sa  BOTTOM    DUO_CARRY   \n",
       "9      3770407781           DXZOREN        Illaoi     TOP         SOLO   \n",
       "10     3770391632     DONGER IRL ME        Twitch  BOTTOM    DUO_CARRY   \n",
       "11     3770391632     Sy toucouille        Rumble  MIDDLE         SOLO   \n",
       "12     3770391632   the inescapable       Alistar  BOTTOM  DUO_SUPPORT   \n",
       "13     3770391632             ˇsmmˇ       Taliyah  JUNGLE         NONE   \n",
       "14     3770391632            dejan1         Riven     TOP         SOLO   \n",
       "15     3770391632        ATL Lvsyan       Kog'Maw  BOTTOM    DUO_CARRY   \n",
       "16     3770391632              nite       Sejuani  JUNGLE         NONE   \n",
       "17     3770391632          AHG Xioh        Irelia  MIDDLE         SOLO   \n",
       "18     3770391632      mouz Gistick      Cho'Gath     TOP         SOLO   \n",
       "19     3770391632        Dungenlord        Zilean  BOTTOM  DUO_SUPPORT   \n",
       "20     3770339016             OLOFF         Vayne     TOP          DUO   \n",
       "21     3770339016     Koyomi Palens      Xin Zhao  JUNGLE         NONE   \n",
       "22     3770339016    ROG bimbamboom         Varus  BOTTOM    DUO_CARRY   \n",
       "23     3770339016             Prïme        Gragas  BOTTOM  DUO_SUPPORT   \n",
       "24     3770339016           V1k3t0X        Zilean     TOP          DUO   \n",
       "25     3770339016  LaneTäxCollector      Cho'Gath     TOP          DUO   \n",
       "26     3770339016   Permabanvxddddd        Soraka  BOTTOM  DUO_SUPPORT   \n",
       "27     3770339016        Kirei sama       Kindred  JUNGLE         NONE   \n",
       "28     3770339016              Kxng        Kai'Sa  BOTTOM    DUO_CARRY   \n",
       "29     3770339016   the inescapable         Yasuo     TOP          DUO   \n",
       "...           ...               ...           ...     ...          ...   \n",
       "25390  3768816627             Endz7        Ezreal  BOTTOM         SOLO   \n",
       "25391  3768816627         GW Decay0          Ahri  MIDDLE    DUO_CARRY   \n",
       "25392  3768816627         Poppÿette          Ornn     TOP         SOLO   \n",
       "25393  3768816627      OO Influenza        Rengar  JUNGLE         NONE   \n",
       "25394  3768816627     LamineLounis1        Gragas  MIDDLE  DUO_SUPPORT   \n",
       "25395  3768816627            Broeki         Varus  BOTTOM          DUO   \n",
       "25396  3768816627           Quixeth       Alistar  BOTTOM  DUO_SUPPORT   \n",
       "25397  3768816627             iZeal        Darius  JUNGLE         NONE   \n",
       "25398  3768816627             ffaka         Diana  BOTTOM          DUO   \n",
       "25399  3768816627       Godbro sama       Lee Sin  JUNGLE         NONE   \n",
       "25400  3764862738           Kysanna          Nami  BOTTOM  DUO_SUPPORT   \n",
       "25401  3764862738        Dr4gonC0re      Tristana  BOTTOM    DUO_CARRY   \n",
       "25402  3764862738          larssen1         Akali  MIDDLE         SOLO   \n",
       "25403  3764862738            ok br0          Olaf  JUNGLE         NONE   \n",
       "25404  3764862738          Ceasarna        Darius     TOP         SOLO   \n",
       "25405  3764862738          UOL Kold       Taliyah  JUNGLE         NONE   \n",
       "25406  3764862738               JBI           Lux  MIDDLE         SOLO   \n",
       "25407  3764862738         MRS Darkø        Zilean  JUNGLE         NONE   \n",
       "25408  3764862738      PRISONER N86        Twitch  BOTTOM         SOLO   \n",
       "25409  3764862738        Pytangelus         Talon     TOP         SOLO   \n",
       "25410  3764814954     Depressed 247         Leona  BOTTOM  DUO_SUPPORT   \n",
       "25411  3764814954     Broxah fanboy        Gragas  JUNGLE         NONE   \n",
       "25412  3764814954     Jeong Jiˉhoon         Urgot  MIDDLE         SOLO   \n",
       "25413  3764814954          Practice        Lucian  BOTTOM    DUO_CARRY   \n",
       "25414  3764814954          Ventair1       Camille     TOP         SOLO   \n",
       "25415  3764814954       Trollnekton      Renekton     TOP         SOLO   \n",
       "25416  3764814954  I Dont Play Meta  Heimerdinger  MIDDLE         SOLO   \n",
       "25417  3764814954        ArcadeZyra          Zyra  BOTTOM  DUO_SUPPORT   \n",
       "25418  3764814954        SLY Skeanz          Olaf  JUNGLE         NONE   \n",
       "25419  3764814954           Keduii1        Kai'Sa  BOTTOM    DUO_CARRY   \n",
       "\n",
       "      position  \n",
       "0         JUNG  \n",
       "1          TOP  \n",
       "2          TOP  \n",
       "3         JUNG  \n",
       "4          TOP  \n",
       "5          TOP  \n",
       "6          TOP  \n",
       "7          TOP  \n",
       "8          TOP  \n",
       "9          TOP  \n",
       "10         MID  \n",
       "11         TOP  \n",
       "12         TOP  \n",
       "13        JUNG  \n",
       "14        JUNG  \n",
       "15         TOP  \n",
       "16         TOP  \n",
       "17         TOP  \n",
       "18         TOP  \n",
       "19         TOP  \n",
       "20         TOP  \n",
       "21         TOP  \n",
       "22         TOP  \n",
       "23         TOP  \n",
       "24         TOP  \n",
       "25         TOP  \n",
       "26         TOP  \n",
       "27        JUNG  \n",
       "28        JUNG  \n",
       "29        JUNG  \n",
       "...        ...  \n",
       "25390     JUNG  \n",
       "25391      TOP  \n",
       "25392      TOP  \n",
       "25393      TOP  \n",
       "25394      TOP  \n",
       "25395      TOP  \n",
       "25396      TOP  \n",
       "25397      TOP  \n",
       "25398      TOP  \n",
       "25399      TOP  \n",
       "25400      TOP  \n",
       "25401      MID  \n",
       "25402     JUNG  \n",
       "25403      TOP  \n",
       "25404     JUNG  \n",
       "25405      TOP  \n",
       "25406      TOP  \n",
       "25407      TOP  \n",
       "25408      TOP  \n",
       "25409      TOP  \n",
       "25410      TOP  \n",
       "25411      TOP  \n",
       "25412      TOP  \n",
       "25413     JUNG  \n",
       "25414      TOP  \n",
       "25415     JUNG  \n",
       "25416     JUNG  \n",
       "25417      TOP  \n",
       "25418      TOP  \n",
       "25419      MID  \n",
       "\n",
       "[25420 rows x 6 columns]"
      ]
     },
     "execution_count": 98,
     "metadata": {},
     "output_type": "execute_result"
    }
   ],
   "source": [
    "soloq_df[['gameId', 'summonerName', 'champ_name', 'lane', 'role', 'position']]"
   ]
  },
  {
   "cell_type": "markdown",
   "metadata": {},
   "source": [
    "# Predictions with only champion, role and lane info "
   ]
  },
  {
   "cell_type": "code",
   "execution_count": null,
   "metadata": {
    "collapsed": true
   },
   "outputs": [],
   "source": []
  }
 ],
 "metadata": {
  "kernelspec": {
   "display_name": "Python 3",
   "language": "python",
   "name": "python3"
  },
  "language_info": {
   "codemirror_mode": {
    "name": "ipython",
    "version": 3
   },
   "file_extension": ".py",
   "mimetype": "text/x-python",
   "name": "python",
   "nbconvert_exporter": "python",
   "pygments_lexer": "ipython3",
   "version": "3.6.1"
  }
 },
 "nbformat": 4,
 "nbformat_minor": 2
}
