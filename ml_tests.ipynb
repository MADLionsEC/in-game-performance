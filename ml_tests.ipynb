{
 "cells": [
  {
   "cell_type": "code",
   "execution_count": 2,
   "metadata": {},
   "outputs": [],
   "source": [
    "import pandas as pd"
   ]
  },
  {
   "cell_type": "code",
   "execution_count": 3,
   "metadata": {
    "collapsed": true
   },
   "outputs": [],
   "source": [
    "from sklearn.tree import DecisionTreeClassifier\n",
    "from sklearn.ensemble import AdaBoostClassifier, BaggingClassifier, GradientBoostingClassifier, RandomForestClassifier\n",
    "from sklearn.naive_bayes import BernoulliNB\n",
    "from sklearn.neural_network import MLPClassifier\n",
    "from sklearn.svm import SVC\n",
    "from sklearn.gaussian_process import GaussianProcessClassifier"
   ]
  },
  {
   "cell_type": "code",
   "execution_count": 4,
   "metadata": {
    "collapsed": true
   },
   "outputs": [],
   "source": [
    "from sklearn.model_selection import cross_val_score"
   ]
  },
  {
   "cell_type": "code",
   "execution_count": 7,
   "metadata": {},
   "outputs": [],
   "source": [
    "soloq_df = pd.read_excel('8-18_dataset.xlsx')"
   ]
  },
  {
   "cell_type": "code",
   "execution_count": 12,
   "metadata": {
    "collapsed": true
   },
   "outputs": [],
   "source": [
    "slo_df = pd.read_excel('slo_dataset.xlsx')"
   ]
  },
  {
   "cell_type": "code",
   "execution_count": 13,
   "metadata": {
    "collapsed": true
   },
   "outputs": [],
   "source": [
    "numerics = ['int16', 'int32', 'int64', 'float16', 'float32', 'float64']"
   ]
  },
  {
   "cell_type": "code",
   "execution_count": 14,
   "metadata": {
    "collapsed": true,
    "scrolled": true
   },
   "outputs": [],
   "source": [
    "newdf = slo_df.select_dtypes(include=numerics)\n",
    "newdf2 = soloq_df.select_dtypes(include=numerics)"
   ]
  },
  {
   "cell_type": "code",
   "execution_count": 140,
   "metadata": {},
   "outputs": [
    {
     "name": "stderr",
     "output_type": "stream",
     "text": [
      "C:\\Users\\david\\Anaconda3\\lib\\site-packages\\ipykernel_launcher.py:1: SettingWithCopyWarning: \n",
      "A value is trying to be set on a copy of a slice from a DataFrame\n",
      "\n",
      "See the caveats in the documentation: http://pandas.pydata.org/pandas-docs/stable/indexing.html#indexing-view-versus-copy\n",
      "  \"\"\"Entry point for launching an IPython kernel.\n",
      "C:\\Users\\david\\Anaconda3\\lib\\site-packages\\ipykernel_launcher.py:2: SettingWithCopyWarning: \n",
      "A value is trying to be set on a copy of a slice from a DataFrame\n",
      "\n",
      "See the caveats in the documentation: http://pandas.pydata.org/pandas-docs/stable/indexing.html#indexing-view-versus-copy\n",
      "  \n"
     ]
    }
   ],
   "source": [
    "newdf.drop([col for col in newdf.columns if 'Id' in col], axis=1, inplace=True)\n",
    "newdf2.drop([col for col in newdf2.columns if 'Id' in col], axis=1, inplace=True)"
   ]
  },
  {
   "cell_type": "code",
   "execution_count": 141,
   "metadata": {
    "collapsed": true
   },
   "outputs": [],
   "source": [
    "perkp_df = slo_df.perkPrimaryStyle_name.str.get_dummies()\n",
    "perks_df = slo_df.perkSubStyle_name.str.get_dummies()\n",
    "\n",
    "perkp_df2 = soloq_df.perkPrimaryStyle_name.str.get_dummies()\n",
    "perks_df2 = soloq_df.perkSubStyle_name.str.get_dummies()"
   ]
  },
  {
   "cell_type": "code",
   "execution_count": 142,
   "metadata": {
    "collapsed": true
   },
   "outputs": [],
   "source": [
    "role_dum = slo_df.role.str.get_dummies()\n",
    "lane_dum = slo_df.lane.str.get_dummies()\n",
    "\n",
    "role_dum2 = soloq_df.role.str.get_dummies()\n",
    "lane_dum2 = soloq_df.lane.str.get_dummies()"
   ]
  },
  {
   "cell_type": "code",
   "execution_count": 143,
   "metadata": {
    "collapsed": true
   },
   "outputs": [],
   "source": [
    "lane_dum2.drop('NONE', axis=1, inplace=True)"
   ]
  },
  {
   "cell_type": "code",
   "execution_count": 144,
   "metadata": {
    "collapsed": true
   },
   "outputs": [],
   "source": [
    "champ_df = slo_df.champ_name.str.get_dummies()\n",
    "\n",
    "champ_df2 = soloq_df.champ_name.str.get_dummies()"
   ]
  },
  {
   "cell_type": "code",
   "execution_count": 145,
   "metadata": {
    "collapsed": true
   },
   "outputs": [],
   "source": [
    "all_num_df = pd.concat([newdf, perkp_df, perks_df, champ_df, role_dum, lane_dum], axis=1)\n",
    "all_num_df2 = pd.concat([newdf2, perkp_df2, perks_df2, champ_df2, role_dum2, lane_dum2], axis=1)\n",
    "\n",
    "# all_num_df = pd.concat([perkp_df, perks_df, champ_df, role_dum, lane_dum], axis=1)\n",
    "# all_num_df2 = pd.concat([perkp_df2, perks_df2, champ_df2, role_dum2, lane_dum2], axis=1)\n",
    "\n",
    "# all_num_df = pd.concat([newdf, perkp_df, perks_df, champ_df, role_dum, lane_dum], axis=1)\n",
    "# all_num_df2 = pd.concat([newdf2, perkp_df2, perks_df2, champ_df2, role_dum2, lane_dum2], axis=1)"
   ]
  },
  {
   "cell_type": "markdown",
   "metadata": {},
   "source": [
    "## Fill NA values "
   ]
  },
  {
   "cell_type": "code",
   "execution_count": 146,
   "metadata": {},
   "outputs": [
    {
     "name": "stderr",
     "output_type": "stream",
     "text": [
      "C:\\Users\\david\\Anaconda3\\lib\\site-packages\\ipykernel_launcher.py:1: DeprecationWarning: \n",
      ".ix is deprecated. Please use\n",
      ".loc for label based indexing or\n",
      ".iloc for positional indexing\n",
      "\n",
      "See the documentation here:\n",
      "http://pandas.pydata.org/pandas-docs/stable/indexing.html#deprecate_ix\n",
      "  \"\"\"Entry point for launching an IPython kernel.\n"
     ]
    }
   ],
   "source": [
    "fill_0_cols = all_num_df.T.ix[all_num_df.isnull().any().tolist()].T.columns.tolist()"
   ]
  },
  {
   "cell_type": "code",
   "execution_count": 147,
   "metadata": {
    "collapsed": true
   },
   "outputs": [],
   "source": [
    "all_num_df[fill_0_cols] = all_num_df[fill_0_cols].fillna(0).astype(int)"
   ]
  },
  {
   "cell_type": "code",
   "execution_count": 148,
   "metadata": {
    "collapsed": true
   },
   "outputs": [],
   "source": [
    "all_num_df2[fill_0_cols] = all_num_df2[fill_0_cols].fillna(0).astype(int)"
   ]
  },
  {
   "cell_type": "code",
   "execution_count": 149,
   "metadata": {
    "collapsed": true
   },
   "outputs": [],
   "source": [
    "fill_mean_cols = [col for col in all_num_df2.columns if 'tt' in col]"
   ]
  },
  {
   "cell_type": "code",
   "execution_count": 150,
   "metadata": {
    "collapsed": true
   },
   "outputs": [],
   "source": [
    "all_num_df2[fill_mean_cols] = all_num_df2[fill_mean_cols].fillna(all_num_df2[fill_mean_cols].mean())"
   ]
  },
  {
   "cell_type": "code",
   "execution_count": 151,
   "metadata": {},
   "outputs": [
    {
     "name": "stderr",
     "output_type": "stream",
     "text": [
      "C:\\Users\\david\\Anaconda3\\lib\\site-packages\\ipykernel_launcher.py:1: DeprecationWarning: \n",
      ".ix is deprecated. Please use\n",
      ".loc for label based indexing or\n",
      ".iloc for positional indexing\n",
      "\n",
      "See the documentation here:\n",
      "http://pandas.pydata.org/pandas-docs/stable/indexing.html#deprecate_ix\n",
      "  \"\"\"Entry point for launching an IPython kernel.\n"
     ]
    }
   ],
   "source": [
    "fill_0_cols_2 = all_num_df2.T.ix[all_num_df2.isnull().any().tolist()].T.columns.tolist()"
   ]
  },
  {
   "cell_type": "code",
   "execution_count": 152,
   "metadata": {
    "collapsed": true
   },
   "outputs": [],
   "source": [
    "all_num_df2[fill_0_cols_2] = all_num_df2[fill_0_cols_2].fillna(0)"
   ]
  },
  {
   "cell_type": "markdown",
   "metadata": {},
   "source": [
    "## Fill missing cols "
   ]
  },
  {
   "cell_type": "code",
   "execution_count": 153,
   "metadata": {
    "collapsed": true
   },
   "outputs": [],
   "source": [
    "missing_cols = set(all_num_df2.columns) - set(all_num_df.columns)"
   ]
  },
  {
   "cell_type": "code",
   "execution_count": 154,
   "metadata": {
    "collapsed": true
   },
   "outputs": [],
   "source": [
    "all_num_df = all_num_df.assign(**{col: 0 for col in missing_cols})"
   ]
  },
  {
   "cell_type": "markdown",
   "metadata": {},
   "source": [
    "##  Predict"
   ]
  },
  {
   "cell_type": "code",
   "execution_count": 155,
   "metadata": {
    "collapsed": true
   },
   "outputs": [],
   "source": [
    "trainers = all_num_df\n",
    "predictors = all_num_df2"
   ]
  },
  {
   "cell_type": "code",
   "execution_count": 129,
   "metadata": {
    "collapsed": true
   },
   "outputs": [],
   "source": [
    "labels = slo_df.position"
   ]
  },
  {
   "cell_type": "code",
   "execution_count": 130,
   "metadata": {
    "collapsed": true
   },
   "outputs": [],
   "source": [
    "model1 = DecisionTreeClassifier()\n",
    "model2 = BernoulliNB()\n",
    "model3 = MLPClassifier()\n",
    "model4 = SVC()\n",
    "model5 = BaggingClassifier()\n",
    "model6 = GradientBoostingClassifier() # 99%\n",
    "model7 = RandomForestClassifier() # "
   ]
  },
  {
   "cell_type": "code",
   "execution_count": 96,
   "metadata": {
    "collapsed": true
   },
   "outputs": [],
   "source": [
    "models = [model1, model2, model3, model4, model5, model6, model7]"
   ]
  },
  {
   "cell_type": "code",
   "execution_count": 97,
   "metadata": {
    "collapsed": true
   },
   "outputs": [],
   "source": [
    "models_results = pd.concat([pd.DataFrame(cross_val_score(estimator=model, cv=5, X=trainers, y=labels)).T for model in models])"
   ]
  },
  {
   "cell_type": "code",
   "execution_count": 98,
   "metadata": {
    "collapsed": true
   },
   "outputs": [],
   "source": [
    "models_results['model'] = ['DecisionTreeClassifier', 'BernoulliNB', 'MLPClassifier', 'SVC', 'BaggingClassifier', 'GradientBoostingClassifier', 'RandomForestClassifier']"
   ]
  },
  {
   "cell_type": "code",
   "execution_count": 99,
   "metadata": {
    "collapsed": true
   },
   "outputs": [],
   "source": [
    "models_results['mean'] = models_results[[0, 1, 2, 3, 4]].T.mean()"
   ]
  },
  {
   "cell_type": "code",
   "execution_count": 100,
   "metadata": {
    "collapsed": true
   },
   "outputs": [],
   "source": [
    "models_results['std'] = models_results[[0, 1, 2, 3, 4]].T.std()"
   ]
  },
  {
   "cell_type": "code",
   "execution_count": 101,
   "metadata": {},
   "outputs": [
    {
     "data": {
      "text/html": [
       "<div>\n",
       "<style>\n",
       "    .dataframe thead tr:only-child th {\n",
       "        text-align: right;\n",
       "    }\n",
       "\n",
       "    .dataframe thead th {\n",
       "        text-align: left;\n",
       "    }\n",
       "\n",
       "    .dataframe tbody tr th {\n",
       "        vertical-align: top;\n",
       "    }\n",
       "</style>\n",
       "<table border=\"1\" class=\"dataframe\">\n",
       "  <thead>\n",
       "    <tr style=\"text-align: right;\">\n",
       "      <th></th>\n",
       "      <th>0</th>\n",
       "      <th>1</th>\n",
       "      <th>2</th>\n",
       "      <th>3</th>\n",
       "      <th>4</th>\n",
       "      <th>model</th>\n",
       "      <th>mean</th>\n",
       "      <th>std</th>\n",
       "    </tr>\n",
       "  </thead>\n",
       "  <tbody>\n",
       "    <tr>\n",
       "      <th>0</th>\n",
       "      <td>0.9425</td>\n",
       "      <td>0.9125</td>\n",
       "      <td>0.9250</td>\n",
       "      <td>0.9025</td>\n",
       "      <td>0.9150</td>\n",
       "      <td>DecisionTreeClassifier</td>\n",
       "      <td>0.9195</td>\n",
       "      <td>0.015145</td>\n",
       "    </tr>\n",
       "    <tr>\n",
       "      <th>1</th>\n",
       "      <td>0.9200</td>\n",
       "      <td>0.8950</td>\n",
       "      <td>0.9000</td>\n",
       "      <td>0.8825</td>\n",
       "      <td>0.8800</td>\n",
       "      <td>BernoulliNB</td>\n",
       "      <td>0.8955</td>\n",
       "      <td>0.016047</td>\n",
       "    </tr>\n",
       "    <tr>\n",
       "      <th>2</th>\n",
       "      <td>0.9500</td>\n",
       "      <td>0.9525</td>\n",
       "      <td>0.9650</td>\n",
       "      <td>0.9500</td>\n",
       "      <td>0.9575</td>\n",
       "      <td>MLPClassifier</td>\n",
       "      <td>0.9550</td>\n",
       "      <td>0.006374</td>\n",
       "    </tr>\n",
       "    <tr>\n",
       "      <th>3</th>\n",
       "      <td>0.8550</td>\n",
       "      <td>0.8100</td>\n",
       "      <td>0.7975</td>\n",
       "      <td>0.7800</td>\n",
       "      <td>0.7975</td>\n",
       "      <td>SVC</td>\n",
       "      <td>0.8080</td>\n",
       "      <td>0.028362</td>\n",
       "    </tr>\n",
       "    <tr>\n",
       "      <th>4</th>\n",
       "      <td>0.9250</td>\n",
       "      <td>0.9250</td>\n",
       "      <td>0.9200</td>\n",
       "      <td>0.8975</td>\n",
       "      <td>0.9150</td>\n",
       "      <td>BaggingClassifier</td>\n",
       "      <td>0.9165</td>\n",
       "      <td>0.011402</td>\n",
       "    </tr>\n",
       "    <tr>\n",
       "      <th>5</th>\n",
       "      <td>0.9375</td>\n",
       "      <td>0.9450</td>\n",
       "      <td>0.9450</td>\n",
       "      <td>0.9375</td>\n",
       "      <td>0.9450</td>\n",
       "      <td>GradientBoostingClassifier</td>\n",
       "      <td>0.9420</td>\n",
       "      <td>0.004108</td>\n",
       "    </tr>\n",
       "    <tr>\n",
       "      <th>6</th>\n",
       "      <td>0.9300</td>\n",
       "      <td>0.9150</td>\n",
       "      <td>0.9150</td>\n",
       "      <td>0.8950</td>\n",
       "      <td>0.9175</td>\n",
       "      <td>RandomForestClassifier</td>\n",
       "      <td>0.9145</td>\n",
       "      <td>0.012550</td>\n",
       "    </tr>\n",
       "  </tbody>\n",
       "</table>\n",
       "</div>"
      ],
      "text/plain": [
       "        0       1       2       3       4                       model    mean  \\\n",
       "0  0.9425  0.9125  0.9250  0.9025  0.9150      DecisionTreeClassifier  0.9195   \n",
       "1  0.9200  0.8950  0.9000  0.8825  0.8800                 BernoulliNB  0.8955   \n",
       "2  0.9500  0.9525  0.9650  0.9500  0.9575               MLPClassifier  0.9550   \n",
       "3  0.8550  0.8100  0.7975  0.7800  0.7975                         SVC  0.8080   \n",
       "4  0.9250  0.9250  0.9200  0.8975  0.9150           BaggingClassifier  0.9165   \n",
       "5  0.9375  0.9450  0.9450  0.9375  0.9450  GradientBoostingClassifier  0.9420   \n",
       "6  0.9300  0.9150  0.9150  0.8950  0.9175      RandomForestClassifier  0.9145   \n",
       "\n",
       "        std  \n",
       "0  0.015145  \n",
       "1  0.016047  \n",
       "2  0.006374  \n",
       "3  0.028362  \n",
       "4  0.011402  \n",
       "5  0.004108  \n",
       "6  0.012550  "
      ]
     },
     "execution_count": 101,
     "metadata": {},
     "output_type": "execute_result"
    }
   ],
   "source": [
    "models_results.reset_index(drop=True)"
   ]
  },
  {
   "cell_type": "code",
   "execution_count": 156,
   "metadata": {},
   "outputs": [
    {
     "data": {
      "text/plain": [
       "MLPClassifier(activation='relu', alpha=0.0001, batch_size='auto', beta_1=0.9,\n",
       "       beta_2=0.999, early_stopping=False, epsilon=1e-08,\n",
       "       hidden_layer_sizes=(100,), learning_rate='constant',\n",
       "       learning_rate_init=0.001, max_iter=200, momentum=0.9,\n",
       "       nesterovs_momentum=True, power_t=0.5, random_state=None,\n",
       "       shuffle=True, solver='adam', tol=0.0001, validation_fraction=0.1,\n",
       "       verbose=False, warm_start=False)"
      ]
     },
     "execution_count": 156,
     "metadata": {},
     "output_type": "execute_result"
    }
   ],
   "source": [
    "model3.fit(X=trainers, y=labels)"
   ]
  },
  {
   "cell_type": "code",
   "execution_count": 158,
   "metadata": {},
   "outputs": [
    {
     "data": {
      "text/plain": [
       "(265, 264)"
      ]
     },
     "execution_count": 158,
     "metadata": {},
     "output_type": "execute_result"
    }
   ],
   "source": [
    "trainers.shape[1], predictors.shape[1]"
   ]
  },
  {
   "cell_type": "code",
   "execution_count": 132,
   "metadata": {
    "scrolled": true
   },
   "outputs": [
    {
     "ename": "ValueError",
     "evalue": "shapes (26860,270) and (271,100) not aligned: 270 (dim 1) != 271 (dim 0)",
     "output_type": "error",
     "traceback": [
      "\u001b[1;31m---------------------------------------------------------------------------\u001b[0m",
      "\u001b[1;31mValueError\u001b[0m                                Traceback (most recent call last)",
      "\u001b[1;32m<ipython-input-132-b6d59a90a5f2>\u001b[0m in \u001b[0;36m<module>\u001b[1;34m()\u001b[0m\n\u001b[1;32m----> 1\u001b[1;33m \u001b[0mpredicts\u001b[0m \u001b[1;33m=\u001b[0m \u001b[0mmodel3\u001b[0m\u001b[1;33m.\u001b[0m\u001b[0mpredict\u001b[0m\u001b[1;33m(\u001b[0m\u001b[0mX\u001b[0m\u001b[1;33m=\u001b[0m\u001b[0mpredictors\u001b[0m\u001b[1;33m)\u001b[0m\u001b[1;33m\u001b[0m\u001b[0m\n\u001b[0m",
      "\u001b[1;32mC:\\Users\\david\\Anaconda3\\lib\\site-packages\\sklearn\\neural_network\\multilayer_perceptron.py\u001b[0m in \u001b[0;36mpredict\u001b[1;34m(self, X)\u001b[0m\n\u001b[0;32m    932\u001b[0m         \"\"\"\n\u001b[0;32m    933\u001b[0m         \u001b[0mcheck_is_fitted\u001b[0m\u001b[1;33m(\u001b[0m\u001b[0mself\u001b[0m\u001b[1;33m,\u001b[0m \u001b[1;34m\"coefs_\"\u001b[0m\u001b[1;33m)\u001b[0m\u001b[1;33m\u001b[0m\u001b[0m\n\u001b[1;32m--> 934\u001b[1;33m         \u001b[0my_pred\u001b[0m \u001b[1;33m=\u001b[0m \u001b[0mself\u001b[0m\u001b[1;33m.\u001b[0m\u001b[0m_predict\u001b[0m\u001b[1;33m(\u001b[0m\u001b[0mX\u001b[0m\u001b[1;33m)\u001b[0m\u001b[1;33m\u001b[0m\u001b[0m\n\u001b[0m\u001b[0;32m    935\u001b[0m \u001b[1;33m\u001b[0m\u001b[0m\n\u001b[0;32m    936\u001b[0m         \u001b[1;32mif\u001b[0m \u001b[0mself\u001b[0m\u001b[1;33m.\u001b[0m\u001b[0mn_outputs_\u001b[0m \u001b[1;33m==\u001b[0m \u001b[1;36m1\u001b[0m\u001b[1;33m:\u001b[0m\u001b[1;33m\u001b[0m\u001b[0m\n",
      "\u001b[1;32mC:\\Users\\david\\Anaconda3\\lib\\site-packages\\sklearn\\neural_network\\multilayer_perceptron.py\u001b[0m in \u001b[0;36m_predict\u001b[1;34m(self, X)\u001b[0m\n\u001b[0;32m    674\u001b[0m                                          layer_units[i + 1])))\n\u001b[0;32m    675\u001b[0m         \u001b[1;31m# forward propagate\u001b[0m\u001b[1;33m\u001b[0m\u001b[1;33m\u001b[0m\u001b[0m\n\u001b[1;32m--> 676\u001b[1;33m         \u001b[0mself\u001b[0m\u001b[1;33m.\u001b[0m\u001b[0m_forward_pass\u001b[0m\u001b[1;33m(\u001b[0m\u001b[0mactivations\u001b[0m\u001b[1;33m)\u001b[0m\u001b[1;33m\u001b[0m\u001b[0m\n\u001b[0m\u001b[0;32m    677\u001b[0m         \u001b[0my_pred\u001b[0m \u001b[1;33m=\u001b[0m \u001b[0mactivations\u001b[0m\u001b[1;33m[\u001b[0m\u001b[1;33m-\u001b[0m\u001b[1;36m1\u001b[0m\u001b[1;33m]\u001b[0m\u001b[1;33m\u001b[0m\u001b[0m\n\u001b[0;32m    678\u001b[0m \u001b[1;33m\u001b[0m\u001b[0m\n",
      "\u001b[1;32mC:\\Users\\david\\Anaconda3\\lib\\site-packages\\sklearn\\neural_network\\multilayer_perceptron.py\u001b[0m in \u001b[0;36m_forward_pass\u001b[1;34m(self, activations)\u001b[0m\n\u001b[0;32m    102\u001b[0m         \u001b[1;32mfor\u001b[0m \u001b[0mi\u001b[0m \u001b[1;32min\u001b[0m \u001b[0mrange\u001b[0m\u001b[1;33m(\u001b[0m\u001b[0mself\u001b[0m\u001b[1;33m.\u001b[0m\u001b[0mn_layers_\u001b[0m \u001b[1;33m-\u001b[0m \u001b[1;36m1\u001b[0m\u001b[1;33m)\u001b[0m\u001b[1;33m:\u001b[0m\u001b[1;33m\u001b[0m\u001b[0m\n\u001b[0;32m    103\u001b[0m             activations[i + 1] = safe_sparse_dot(activations[i],\n\u001b[1;32m--> 104\u001b[1;33m                                                  self.coefs_[i])\n\u001b[0m\u001b[0;32m    105\u001b[0m             \u001b[0mactivations\u001b[0m\u001b[1;33m[\u001b[0m\u001b[0mi\u001b[0m \u001b[1;33m+\u001b[0m \u001b[1;36m1\u001b[0m\u001b[1;33m]\u001b[0m \u001b[1;33m+=\u001b[0m \u001b[0mself\u001b[0m\u001b[1;33m.\u001b[0m\u001b[0mintercepts_\u001b[0m\u001b[1;33m[\u001b[0m\u001b[0mi\u001b[0m\u001b[1;33m]\u001b[0m\u001b[1;33m\u001b[0m\u001b[0m\n\u001b[0;32m    106\u001b[0m \u001b[1;33m\u001b[0m\u001b[0m\n",
      "\u001b[1;32mC:\\Users\\david\\Anaconda3\\lib\\site-packages\\sklearn\\utils\\extmath.py\u001b[0m in \u001b[0;36msafe_sparse_dot\u001b[1;34m(a, b, dense_output)\u001b[0m\n\u001b[0;32m    187\u001b[0m         \u001b[1;32mreturn\u001b[0m \u001b[0mret\u001b[0m\u001b[1;33m\u001b[0m\u001b[0m\n\u001b[0;32m    188\u001b[0m     \u001b[1;32melse\u001b[0m\u001b[1;33m:\u001b[0m\u001b[1;33m\u001b[0m\u001b[0m\n\u001b[1;32m--> 189\u001b[1;33m         \u001b[1;32mreturn\u001b[0m \u001b[0mfast_dot\u001b[0m\u001b[1;33m(\u001b[0m\u001b[0ma\u001b[0m\u001b[1;33m,\u001b[0m \u001b[0mb\u001b[0m\u001b[1;33m)\u001b[0m\u001b[1;33m\u001b[0m\u001b[0m\n\u001b[0m\u001b[0;32m    190\u001b[0m \u001b[1;33m\u001b[0m\u001b[0m\n\u001b[0;32m    191\u001b[0m \u001b[1;33m\u001b[0m\u001b[0m\n",
      "\u001b[1;31mValueError\u001b[0m: shapes (26860,270) and (271,100) not aligned: 270 (dim 1) != 271 (dim 0)"
     ]
    }
   ],
   "source": [
    "predicts = model3.predict(X=predictors)"
   ]
  },
  {
   "cell_type": "code",
   "execution_count": 112,
   "metadata": {
    "collapsed": true
   },
   "outputs": [],
   "source": [
    "soloq_df['position'] = predicts"
   ]
  },
  {
   "cell_type": "code",
   "execution_count": 113,
   "metadata": {},
   "outputs": [],
   "source": [
    "results = {1: {'predicts': predicts, 'counts': soloq_df.position.value_counts(), 'model': 'MLPClassifier', }}"
   ]
  },
  {
   "cell_type": "code",
   "execution_count": 117,
   "metadata": {},
   "outputs": [
    {
     "data": {
      "text/plain": [
       "{'3': {'counts': MID     6192\n",
       "  ADC     5880\n",
       "  TOP     5558\n",
       "  JUNG    4896\n",
       "  SUPP    4334\n",
       "  Name: position, dtype: int64,\n",
       "  'model': 'MLPClassifier',\n",
       "  'predicts': array(['MID', 'MID', 'JUNG', ..., 'ADC', 'JUNG', 'TOP'], \n",
       "        dtype='<U4')}}"
      ]
     },
     "execution_count": 117,
     "metadata": {},
     "output_type": "execute_result"
    }
   ],
   "source": [
    "results"
   ]
  },
  {
   "cell_type": "code",
   "execution_count": 116,
   "metadata": {},
   "outputs": [
    {
     "data": {
      "text/html": [
       "<div>\n",
       "<style>\n",
       "    .dataframe thead tr:only-child th {\n",
       "        text-align: right;\n",
       "    }\n",
       "\n",
       "    .dataframe thead th {\n",
       "        text-align: left;\n",
       "    }\n",
       "\n",
       "    .dataframe tbody tr th {\n",
       "        vertical-align: top;\n",
       "    }\n",
       "</style>\n",
       "<table border=\"1\" class=\"dataframe\">\n",
       "  <thead>\n",
       "    <tr style=\"text-align: right;\">\n",
       "      <th></th>\n",
       "      <th>gameId</th>\n",
       "      <th>summonerName</th>\n",
       "      <th>champ_name</th>\n",
       "      <th>side</th>\n",
       "      <th>lane</th>\n",
       "      <th>role</th>\n",
       "      <th>position</th>\n",
       "    </tr>\n",
       "  </thead>\n",
       "  <tbody>\n",
       "    <tr>\n",
       "      <th>0</th>\n",
       "      <td>3770407781</td>\n",
       "      <td>D1 WARRIOR</td>\n",
       "      <td>Kog'Maw</td>\n",
       "      <td>Blue</td>\n",
       "      <td>MIDDLE</td>\n",
       "      <td>DUO_SUPPORT</td>\n",
       "      <td>MID</td>\n",
       "    </tr>\n",
       "    <tr>\n",
       "      <th>1</th>\n",
       "      <td>3770407781</td>\n",
       "      <td>Kyrîel</td>\n",
       "      <td>Braum</td>\n",
       "      <td>Blue</td>\n",
       "      <td>MIDDLE</td>\n",
       "      <td>DUO_SUPPORT</td>\n",
       "      <td>MID</td>\n",
       "    </tr>\n",
       "    <tr>\n",
       "      <th>2</th>\n",
       "      <td>3770407781</td>\n",
       "      <td>ChosenØne</td>\n",
       "      <td>Graves</td>\n",
       "      <td>Blue</td>\n",
       "      <td>JUNGLE</td>\n",
       "      <td>NONE</td>\n",
       "      <td>JUNG</td>\n",
       "    </tr>\n",
       "    <tr>\n",
       "      <th>3</th>\n",
       "      <td>3770407781</td>\n",
       "      <td>Decak</td>\n",
       "      <td>Cho'Gath</td>\n",
       "      <td>Blue</td>\n",
       "      <td>MIDDLE</td>\n",
       "      <td>DUO_SUPPORT</td>\n",
       "      <td>TOP</td>\n",
       "    </tr>\n",
       "    <tr>\n",
       "      <th>4</th>\n",
       "      <td>3770407781</td>\n",
       "      <td>MidLurk3r</td>\n",
       "      <td>Cassiopeia</td>\n",
       "      <td>Blue</td>\n",
       "      <td>MIDDLE</td>\n",
       "      <td>DUO</td>\n",
       "      <td>TOP</td>\n",
       "    </tr>\n",
       "    <tr>\n",
       "      <th>5</th>\n",
       "      <td>3770407781</td>\n",
       "      <td>ordno</td>\n",
       "      <td>Galio</td>\n",
       "      <td>Red</td>\n",
       "      <td>MIDDLE</td>\n",
       "      <td>SOLO</td>\n",
       "      <td>TOP</td>\n",
       "    </tr>\n",
       "    <tr>\n",
       "      <th>6</th>\n",
       "      <td>3770407781</td>\n",
       "      <td>Archie2b</td>\n",
       "      <td>Gragas</td>\n",
       "      <td>Red</td>\n",
       "      <td>JUNGLE</td>\n",
       "      <td>NONE</td>\n",
       "      <td>JUNG</td>\n",
       "    </tr>\n",
       "    <tr>\n",
       "      <th>7</th>\n",
       "      <td>3770407781</td>\n",
       "      <td>ºˆºˆºˆºˆºˆºˆºˆº</td>\n",
       "      <td>Alistar</td>\n",
       "      <td>Red</td>\n",
       "      <td>BOTTOM</td>\n",
       "      <td>DUO_SUPPORT</td>\n",
       "      <td>SUPP</td>\n",
       "    </tr>\n",
       "    <tr>\n",
       "      <th>8</th>\n",
       "      <td>3770407781</td>\n",
       "      <td>Nawada</td>\n",
       "      <td>Kai'Sa</td>\n",
       "      <td>Red</td>\n",
       "      <td>BOTTOM</td>\n",
       "      <td>DUO_CARRY</td>\n",
       "      <td>TOP</td>\n",
       "    </tr>\n",
       "    <tr>\n",
       "      <th>9</th>\n",
       "      <td>3770407781</td>\n",
       "      <td>DXZOREN</td>\n",
       "      <td>Illaoi</td>\n",
       "      <td>Red</td>\n",
       "      <td>TOP</td>\n",
       "      <td>SOLO</td>\n",
       "      <td>TOP</td>\n",
       "    </tr>\n",
       "    <tr>\n",
       "      <th>10</th>\n",
       "      <td>3770391632</td>\n",
       "      <td>DONGER IRL ME</td>\n",
       "      <td>Twitch</td>\n",
       "      <td>Blue</td>\n",
       "      <td>BOTTOM</td>\n",
       "      <td>DUO_CARRY</td>\n",
       "      <td>ADC</td>\n",
       "    </tr>\n",
       "    <tr>\n",
       "      <th>11</th>\n",
       "      <td>3770391632</td>\n",
       "      <td>Sy toucouille</td>\n",
       "      <td>Rumble</td>\n",
       "      <td>Blue</td>\n",
       "      <td>MIDDLE</td>\n",
       "      <td>SOLO</td>\n",
       "      <td>MID</td>\n",
       "    </tr>\n",
       "    <tr>\n",
       "      <th>12</th>\n",
       "      <td>3770391632</td>\n",
       "      <td>the inescapable</td>\n",
       "      <td>Alistar</td>\n",
       "      <td>Blue</td>\n",
       "      <td>BOTTOM</td>\n",
       "      <td>DUO_SUPPORT</td>\n",
       "      <td>SUPP</td>\n",
       "    </tr>\n",
       "    <tr>\n",
       "      <th>13</th>\n",
       "      <td>3770391632</td>\n",
       "      <td>ˇsmmˇ</td>\n",
       "      <td>Taliyah</td>\n",
       "      <td>Blue</td>\n",
       "      <td>JUNGLE</td>\n",
       "      <td>NONE</td>\n",
       "      <td>MID</td>\n",
       "    </tr>\n",
       "    <tr>\n",
       "      <th>14</th>\n",
       "      <td>3770391632</td>\n",
       "      <td>dejan1</td>\n",
       "      <td>Riven</td>\n",
       "      <td>Blue</td>\n",
       "      <td>TOP</td>\n",
       "      <td>SOLO</td>\n",
       "      <td>JUNG</td>\n",
       "    </tr>\n",
       "    <tr>\n",
       "      <th>15</th>\n",
       "      <td>3770391632</td>\n",
       "      <td>ATL Lvsyan</td>\n",
       "      <td>Kog'Maw</td>\n",
       "      <td>Red</td>\n",
       "      <td>BOTTOM</td>\n",
       "      <td>DUO_CARRY</td>\n",
       "      <td>MID</td>\n",
       "    </tr>\n",
       "    <tr>\n",
       "      <th>16</th>\n",
       "      <td>3770391632</td>\n",
       "      <td>nite</td>\n",
       "      <td>Sejuani</td>\n",
       "      <td>Red</td>\n",
       "      <td>JUNGLE</td>\n",
       "      <td>NONE</td>\n",
       "      <td>JUNG</td>\n",
       "    </tr>\n",
       "    <tr>\n",
       "      <th>17</th>\n",
       "      <td>3770391632</td>\n",
       "      <td>AHG Xioh</td>\n",
       "      <td>Irelia</td>\n",
       "      <td>Red</td>\n",
       "      <td>MIDDLE</td>\n",
       "      <td>SOLO</td>\n",
       "      <td>ADC</td>\n",
       "    </tr>\n",
       "    <tr>\n",
       "      <th>18</th>\n",
       "      <td>3770391632</td>\n",
       "      <td>mouz Gistick</td>\n",
       "      <td>Cho'Gath</td>\n",
       "      <td>Red</td>\n",
       "      <td>TOP</td>\n",
       "      <td>SOLO</td>\n",
       "      <td>TOP</td>\n",
       "    </tr>\n",
       "    <tr>\n",
       "      <th>19</th>\n",
       "      <td>3770391632</td>\n",
       "      <td>Dungenlord</td>\n",
       "      <td>Zilean</td>\n",
       "      <td>Red</td>\n",
       "      <td>BOTTOM</td>\n",
       "      <td>DUO_SUPPORT</td>\n",
       "      <td>SUPP</td>\n",
       "    </tr>\n",
       "    <tr>\n",
       "      <th>20</th>\n",
       "      <td>3770339016</td>\n",
       "      <td>OLOFF</td>\n",
       "      <td>Vayne</td>\n",
       "      <td>Blue</td>\n",
       "      <td>TOP</td>\n",
       "      <td>DUO</td>\n",
       "      <td>ADC</td>\n",
       "    </tr>\n",
       "    <tr>\n",
       "      <th>21</th>\n",
       "      <td>3770339016</td>\n",
       "      <td>Koyomi Palens</td>\n",
       "      <td>Xin Zhao</td>\n",
       "      <td>Blue</td>\n",
       "      <td>JUNGLE</td>\n",
       "      <td>NONE</td>\n",
       "      <td>MID</td>\n",
       "    </tr>\n",
       "    <tr>\n",
       "      <th>22</th>\n",
       "      <td>3770339016</td>\n",
       "      <td>ROG bimbamboom</td>\n",
       "      <td>Varus</td>\n",
       "      <td>Blue</td>\n",
       "      <td>BOTTOM</td>\n",
       "      <td>DUO_CARRY</td>\n",
       "      <td>JUNG</td>\n",
       "    </tr>\n",
       "    <tr>\n",
       "      <th>23</th>\n",
       "      <td>3770339016</td>\n",
       "      <td>Prïme</td>\n",
       "      <td>Gragas</td>\n",
       "      <td>Blue</td>\n",
       "      <td>BOTTOM</td>\n",
       "      <td>DUO_SUPPORT</td>\n",
       "      <td>JUNG</td>\n",
       "    </tr>\n",
       "    <tr>\n",
       "      <th>24</th>\n",
       "      <td>3770339016</td>\n",
       "      <td>V1k3t0X</td>\n",
       "      <td>Zilean</td>\n",
       "      <td>Blue</td>\n",
       "      <td>TOP</td>\n",
       "      <td>DUO</td>\n",
       "      <td>MID</td>\n",
       "    </tr>\n",
       "    <tr>\n",
       "      <th>25</th>\n",
       "      <td>3770339016</td>\n",
       "      <td>LaneTäxCollector</td>\n",
       "      <td>Cho'Gath</td>\n",
       "      <td>Red</td>\n",
       "      <td>TOP</td>\n",
       "      <td>DUO</td>\n",
       "      <td>TOP</td>\n",
       "    </tr>\n",
       "    <tr>\n",
       "      <th>26</th>\n",
       "      <td>3770339016</td>\n",
       "      <td>Permabanvxddddd</td>\n",
       "      <td>Soraka</td>\n",
       "      <td>Red</td>\n",
       "      <td>BOTTOM</td>\n",
       "      <td>DUO_SUPPORT</td>\n",
       "      <td>TOP</td>\n",
       "    </tr>\n",
       "    <tr>\n",
       "      <th>27</th>\n",
       "      <td>3770339016</td>\n",
       "      <td>Kirei sama</td>\n",
       "      <td>Kindred</td>\n",
       "      <td>Red</td>\n",
       "      <td>JUNGLE</td>\n",
       "      <td>NONE</td>\n",
       "      <td>JUNG</td>\n",
       "    </tr>\n",
       "    <tr>\n",
       "      <th>28</th>\n",
       "      <td>3770339016</td>\n",
       "      <td>Kxng</td>\n",
       "      <td>Kai'Sa</td>\n",
       "      <td>Red</td>\n",
       "      <td>BOTTOM</td>\n",
       "      <td>DUO_CARRY</td>\n",
       "      <td>TOP</td>\n",
       "    </tr>\n",
       "    <tr>\n",
       "      <th>29</th>\n",
       "      <td>3770339016</td>\n",
       "      <td>the inescapable</td>\n",
       "      <td>Yasuo</td>\n",
       "      <td>Red</td>\n",
       "      <td>TOP</td>\n",
       "      <td>DUO</td>\n",
       "      <td>TOP</td>\n",
       "    </tr>\n",
       "    <tr>\n",
       "      <th>...</th>\n",
       "      <td>...</td>\n",
       "      <td>...</td>\n",
       "      <td>...</td>\n",
       "      <td>...</td>\n",
       "      <td>...</td>\n",
       "      <td>...</td>\n",
       "      <td>...</td>\n",
       "    </tr>\n",
       "    <tr>\n",
       "      <th>26830</th>\n",
       "      <td>3765268500</td>\n",
       "      <td>Shawi Katami</td>\n",
       "      <td>Leona</td>\n",
       "      <td>Blue</td>\n",
       "      <td>NONE</td>\n",
       "      <td>DUO_SUPPORT</td>\n",
       "      <td>SUPP</td>\n",
       "    </tr>\n",
       "    <tr>\n",
       "      <th>26831</th>\n",
       "      <td>3765268500</td>\n",
       "      <td>Kaseko</td>\n",
       "      <td>Yasuo</td>\n",
       "      <td>Blue</td>\n",
       "      <td>NONE</td>\n",
       "      <td>DUO_SUPPORT</td>\n",
       "      <td>TOP</td>\n",
       "    </tr>\n",
       "    <tr>\n",
       "      <th>26832</th>\n",
       "      <td>3765268500</td>\n",
       "      <td>V bluerzor</td>\n",
       "      <td>Nidalee</td>\n",
       "      <td>Blue</td>\n",
       "      <td>NONE</td>\n",
       "      <td>DUO_SUPPORT</td>\n",
       "      <td>JUNG</td>\n",
       "    </tr>\n",
       "    <tr>\n",
       "      <th>26833</th>\n",
       "      <td>3765268500</td>\n",
       "      <td>Eden Fox</td>\n",
       "      <td>Jhin</td>\n",
       "      <td>Blue</td>\n",
       "      <td>NONE</td>\n",
       "      <td>DUO_SUPPORT</td>\n",
       "      <td>MID</td>\n",
       "    </tr>\n",
       "    <tr>\n",
       "      <th>26834</th>\n",
       "      <td>3765268500</td>\n",
       "      <td>BG KeABambi</td>\n",
       "      <td>Poppy</td>\n",
       "      <td>Blue</td>\n",
       "      <td>NONE</td>\n",
       "      <td>DUO_SUPPORT</td>\n",
       "      <td>SUPP</td>\n",
       "    </tr>\n",
       "    <tr>\n",
       "      <th>26835</th>\n",
       "      <td>3765268500</td>\n",
       "      <td>Fresskowy</td>\n",
       "      <td>Irelia</td>\n",
       "      <td>Red</td>\n",
       "      <td>NONE</td>\n",
       "      <td>DUO_SUPPORT</td>\n",
       "      <td>ADC</td>\n",
       "    </tr>\n",
       "    <tr>\n",
       "      <th>26836</th>\n",
       "      <td>3765268500</td>\n",
       "      <td>MSF Chrisberg</td>\n",
       "      <td>Tristana</td>\n",
       "      <td>Red</td>\n",
       "      <td>NONE</td>\n",
       "      <td>DUO_SUPPORT</td>\n",
       "      <td>ADC</td>\n",
       "    </tr>\n",
       "    <tr>\n",
       "      <th>26837</th>\n",
       "      <td>3765268500</td>\n",
       "      <td>MSF Prosfair</td>\n",
       "      <td>Alistar</td>\n",
       "      <td>Red</td>\n",
       "      <td>NONE</td>\n",
       "      <td>DUO_SUPPORT</td>\n",
       "      <td>SUPP</td>\n",
       "    </tr>\n",
       "    <tr>\n",
       "      <th>26838</th>\n",
       "      <td>3765268500</td>\n",
       "      <td>Aoi Haru</td>\n",
       "      <td>Vladimir</td>\n",
       "      <td>Red</td>\n",
       "      <td>NONE</td>\n",
       "      <td>DUO_SUPPORT</td>\n",
       "      <td>JUNG</td>\n",
       "    </tr>\n",
       "    <tr>\n",
       "      <th>26839</th>\n",
       "      <td>3765268500</td>\n",
       "      <td>kingnumber1jgl</td>\n",
       "      <td>Camille</td>\n",
       "      <td>Red</td>\n",
       "      <td>NONE</td>\n",
       "      <td>DUO_SUPPORT</td>\n",
       "      <td>MID</td>\n",
       "    </tr>\n",
       "    <tr>\n",
       "      <th>26840</th>\n",
       "      <td>3764582538</td>\n",
       "      <td>soloq4mentalboom</td>\n",
       "      <td>Urgot</td>\n",
       "      <td>Blue</td>\n",
       "      <td>TOP</td>\n",
       "      <td>SOLO</td>\n",
       "      <td>SUPP</td>\n",
       "    </tr>\n",
       "    <tr>\n",
       "      <th>26841</th>\n",
       "      <td>3764582538</td>\n",
       "      <td>Yasunerì</td>\n",
       "      <td>Akali</td>\n",
       "      <td>Blue</td>\n",
       "      <td>MIDDLE</td>\n",
       "      <td>SOLO</td>\n",
       "      <td>MID</td>\n",
       "    </tr>\n",
       "    <tr>\n",
       "      <th>26842</th>\n",
       "      <td>3764582538</td>\n",
       "      <td>Life is RNG</td>\n",
       "      <td>Kai'Sa</td>\n",
       "      <td>Blue</td>\n",
       "      <td>BOTTOM</td>\n",
       "      <td>DUO_CARRY</td>\n",
       "      <td>TOP</td>\n",
       "    </tr>\n",
       "    <tr>\n",
       "      <th>26843</th>\n",
       "      <td>3764582538</td>\n",
       "      <td>kingnumber1jgl</td>\n",
       "      <td>Gragas</td>\n",
       "      <td>Blue</td>\n",
       "      <td>JUNGLE</td>\n",
       "      <td>NONE</td>\n",
       "      <td>JUNG</td>\n",
       "    </tr>\n",
       "    <tr>\n",
       "      <th>26844</th>\n",
       "      <td>3764582538</td>\n",
       "      <td>Buttérs Stotch</td>\n",
       "      <td>Leona</td>\n",
       "      <td>Blue</td>\n",
       "      <td>BOTTOM</td>\n",
       "      <td>DUO_SUPPORT</td>\n",
       "      <td>SUPP</td>\n",
       "    </tr>\n",
       "    <tr>\n",
       "      <th>26845</th>\n",
       "      <td>3764582538</td>\n",
       "      <td>tend to die alot</td>\n",
       "      <td>Vel'Koz</td>\n",
       "      <td>Red</td>\n",
       "      <td>MIDDLE</td>\n",
       "      <td>SOLO</td>\n",
       "      <td>JUNG</td>\n",
       "    </tr>\n",
       "    <tr>\n",
       "      <th>26846</th>\n",
       "      <td>3764582538</td>\n",
       "      <td>Optimas56</td>\n",
       "      <td>Vayne</td>\n",
       "      <td>Red</td>\n",
       "      <td>BOTTOM</td>\n",
       "      <td>DUO_CARRY</td>\n",
       "      <td>ADC</td>\n",
       "    </tr>\n",
       "    <tr>\n",
       "      <th>26847</th>\n",
       "      <td>3764582538</td>\n",
       "      <td>GW Decay0</td>\n",
       "      <td>Talon</td>\n",
       "      <td>Red</td>\n",
       "      <td>TOP</td>\n",
       "      <td>SOLO</td>\n",
       "      <td>JUNG</td>\n",
       "    </tr>\n",
       "    <tr>\n",
       "      <th>26848</th>\n",
       "      <td>3764582538</td>\n",
       "      <td>Poppÿette</td>\n",
       "      <td>Braum</td>\n",
       "      <td>Red</td>\n",
       "      <td>BOTTOM</td>\n",
       "      <td>DUO_SUPPORT</td>\n",
       "      <td>MID</td>\n",
       "    </tr>\n",
       "    <tr>\n",
       "      <th>26849</th>\n",
       "      <td>3764582538</td>\n",
       "      <td>Hour of Arc</td>\n",
       "      <td>Kha'Zix</td>\n",
       "      <td>Red</td>\n",
       "      <td>JUNGLE</td>\n",
       "      <td>NONE</td>\n",
       "      <td>ADC</td>\n",
       "    </tr>\n",
       "    <tr>\n",
       "      <th>26850</th>\n",
       "      <td>3766342321</td>\n",
       "      <td>Koyomi Palens</td>\n",
       "      <td>Xin Zhao</td>\n",
       "      <td>Blue</td>\n",
       "      <td>JUNGLE</td>\n",
       "      <td>NONE</td>\n",
       "      <td>MID</td>\n",
       "    </tr>\n",
       "    <tr>\n",
       "      <th>26851</th>\n",
       "      <td>3766342321</td>\n",
       "      <td>Fillcara</td>\n",
       "      <td>Zilean</td>\n",
       "      <td>Blue</td>\n",
       "      <td>BOTTOM</td>\n",
       "      <td>DUO_SUPPORT</td>\n",
       "      <td>MID</td>\n",
       "    </tr>\n",
       "    <tr>\n",
       "      <th>26852</th>\n",
       "      <td>3766342321</td>\n",
       "      <td>D3RK1NG155 v2</td>\n",
       "      <td>Vayne</td>\n",
       "      <td>Blue</td>\n",
       "      <td>BOTTOM</td>\n",
       "      <td>DUO_CARRY</td>\n",
       "      <td>ADC</td>\n",
       "    </tr>\n",
       "    <tr>\n",
       "      <th>26853</th>\n",
       "      <td>3766342321</td>\n",
       "      <td>PatkicaA</td>\n",
       "      <td>Urgot</td>\n",
       "      <td>Blue</td>\n",
       "      <td>TOP</td>\n",
       "      <td>SOLO</td>\n",
       "      <td>SUPP</td>\n",
       "    </tr>\n",
       "    <tr>\n",
       "      <th>26854</th>\n",
       "      <td>3766342321</td>\n",
       "      <td>kingnumber1jgl</td>\n",
       "      <td>Kassadin</td>\n",
       "      <td>Blue</td>\n",
       "      <td>MIDDLE</td>\n",
       "      <td>SOLO</td>\n",
       "      <td>ADC</td>\n",
       "    </tr>\n",
       "    <tr>\n",
       "      <th>26855</th>\n",
       "      <td>3766342321</td>\n",
       "      <td>Bean</td>\n",
       "      <td>Janna</td>\n",
       "      <td>Red</td>\n",
       "      <td>BOTTOM</td>\n",
       "      <td>DUO_SUPPORT</td>\n",
       "      <td>ADC</td>\n",
       "    </tr>\n",
       "    <tr>\n",
       "      <th>26856</th>\n",
       "      <td>3766342321</td>\n",
       "      <td>Kantus</td>\n",
       "      <td>Nocturne</td>\n",
       "      <td>Red</td>\n",
       "      <td>JUNGLE</td>\n",
       "      <td>NONE</td>\n",
       "      <td>JUNG</td>\n",
       "    </tr>\n",
       "    <tr>\n",
       "      <th>26857</th>\n",
       "      <td>3766342321</td>\n",
       "      <td>ESB Random</td>\n",
       "      <td>Lucian</td>\n",
       "      <td>Red</td>\n",
       "      <td>MIDDLE</td>\n",
       "      <td>SOLO</td>\n",
       "      <td>ADC</td>\n",
       "    </tr>\n",
       "    <tr>\n",
       "      <th>26858</th>\n",
       "      <td>3766342321</td>\n",
       "      <td>BrokenBladeˉ</td>\n",
       "      <td>Riven</td>\n",
       "      <td>Red</td>\n",
       "      <td>TOP</td>\n",
       "      <td>SOLO</td>\n",
       "      <td>JUNG</td>\n",
       "    </tr>\n",
       "    <tr>\n",
       "      <th>26859</th>\n",
       "      <td>3766342321</td>\n",
       "      <td>l am Freeze</td>\n",
       "      <td>Kai'Sa</td>\n",
       "      <td>Red</td>\n",
       "      <td>BOTTOM</td>\n",
       "      <td>DUO_CARRY</td>\n",
       "      <td>TOP</td>\n",
       "    </tr>\n",
       "  </tbody>\n",
       "</table>\n",
       "<p>26860 rows × 7 columns</p>\n",
       "</div>"
      ],
      "text/plain": [
       "           gameId      summonerName  champ_name  side    lane         role  \\\n",
       "0      3770407781        D1 WARRIOR     Kog'Maw  Blue  MIDDLE  DUO_SUPPORT   \n",
       "1      3770407781            Kyrîel       Braum  Blue  MIDDLE  DUO_SUPPORT   \n",
       "2      3770407781         ChosenØne      Graves  Blue  JUNGLE         NONE   \n",
       "3      3770407781             Decak    Cho'Gath  Blue  MIDDLE  DUO_SUPPORT   \n",
       "4      3770407781         MidLurk3r  Cassiopeia  Blue  MIDDLE          DUO   \n",
       "5      3770407781             ordno       Galio   Red  MIDDLE         SOLO   \n",
       "6      3770407781          Archie2b      Gragas   Red  JUNGLE         NONE   \n",
       "7      3770407781   ºˆºˆºˆºˆºˆºˆºˆº     Alistar   Red  BOTTOM  DUO_SUPPORT   \n",
       "8      3770407781            Nawada      Kai'Sa   Red  BOTTOM    DUO_CARRY   \n",
       "9      3770407781           DXZOREN      Illaoi   Red     TOP         SOLO   \n",
       "10     3770391632     DONGER IRL ME      Twitch  Blue  BOTTOM    DUO_CARRY   \n",
       "11     3770391632     Sy toucouille      Rumble  Blue  MIDDLE         SOLO   \n",
       "12     3770391632   the inescapable     Alistar  Blue  BOTTOM  DUO_SUPPORT   \n",
       "13     3770391632             ˇsmmˇ     Taliyah  Blue  JUNGLE         NONE   \n",
       "14     3770391632            dejan1       Riven  Blue     TOP         SOLO   \n",
       "15     3770391632        ATL Lvsyan     Kog'Maw   Red  BOTTOM    DUO_CARRY   \n",
       "16     3770391632              nite     Sejuani   Red  JUNGLE         NONE   \n",
       "17     3770391632          AHG Xioh      Irelia   Red  MIDDLE         SOLO   \n",
       "18     3770391632      mouz Gistick    Cho'Gath   Red     TOP         SOLO   \n",
       "19     3770391632        Dungenlord      Zilean   Red  BOTTOM  DUO_SUPPORT   \n",
       "20     3770339016             OLOFF       Vayne  Blue     TOP          DUO   \n",
       "21     3770339016     Koyomi Palens    Xin Zhao  Blue  JUNGLE         NONE   \n",
       "22     3770339016    ROG bimbamboom       Varus  Blue  BOTTOM    DUO_CARRY   \n",
       "23     3770339016             Prïme      Gragas  Blue  BOTTOM  DUO_SUPPORT   \n",
       "24     3770339016           V1k3t0X      Zilean  Blue     TOP          DUO   \n",
       "25     3770339016  LaneTäxCollector    Cho'Gath   Red     TOP          DUO   \n",
       "26     3770339016   Permabanvxddddd      Soraka   Red  BOTTOM  DUO_SUPPORT   \n",
       "27     3770339016        Kirei sama     Kindred   Red  JUNGLE         NONE   \n",
       "28     3770339016              Kxng      Kai'Sa   Red  BOTTOM    DUO_CARRY   \n",
       "29     3770339016   the inescapable       Yasuo   Red     TOP          DUO   \n",
       "...           ...               ...         ...   ...     ...          ...   \n",
       "26830  3765268500      Shawi Katami       Leona  Blue    NONE  DUO_SUPPORT   \n",
       "26831  3765268500            Kaseko       Yasuo  Blue    NONE  DUO_SUPPORT   \n",
       "26832  3765268500        V bluerzor     Nidalee  Blue    NONE  DUO_SUPPORT   \n",
       "26833  3765268500          Eden Fox        Jhin  Blue    NONE  DUO_SUPPORT   \n",
       "26834  3765268500       BG KeABambi       Poppy  Blue    NONE  DUO_SUPPORT   \n",
       "26835  3765268500         Fresskowy      Irelia   Red    NONE  DUO_SUPPORT   \n",
       "26836  3765268500     MSF Chrisberg    Tristana   Red    NONE  DUO_SUPPORT   \n",
       "26837  3765268500      MSF Prosfair     Alistar   Red    NONE  DUO_SUPPORT   \n",
       "26838  3765268500          Aoi Haru    Vladimir   Red    NONE  DUO_SUPPORT   \n",
       "26839  3765268500    kingnumber1jgl     Camille   Red    NONE  DUO_SUPPORT   \n",
       "26840  3764582538  soloq4mentalboom       Urgot  Blue     TOP         SOLO   \n",
       "26841  3764582538          Yasunerì       Akali  Blue  MIDDLE         SOLO   \n",
       "26842  3764582538       Life is RNG      Kai'Sa  Blue  BOTTOM    DUO_CARRY   \n",
       "26843  3764582538    kingnumber1jgl      Gragas  Blue  JUNGLE         NONE   \n",
       "26844  3764582538    Buttérs Stotch       Leona  Blue  BOTTOM  DUO_SUPPORT   \n",
       "26845  3764582538  tend to die alot     Vel'Koz   Red  MIDDLE         SOLO   \n",
       "26846  3764582538         Optimas56       Vayne   Red  BOTTOM    DUO_CARRY   \n",
       "26847  3764582538         GW Decay0       Talon   Red     TOP         SOLO   \n",
       "26848  3764582538         Poppÿette       Braum   Red  BOTTOM  DUO_SUPPORT   \n",
       "26849  3764582538       Hour of Arc     Kha'Zix   Red  JUNGLE         NONE   \n",
       "26850  3766342321     Koyomi Palens    Xin Zhao  Blue  JUNGLE         NONE   \n",
       "26851  3766342321          Fillcara      Zilean  Blue  BOTTOM  DUO_SUPPORT   \n",
       "26852  3766342321     D3RK1NG155 v2       Vayne  Blue  BOTTOM    DUO_CARRY   \n",
       "26853  3766342321          PatkicaA       Urgot  Blue     TOP         SOLO   \n",
       "26854  3766342321    kingnumber1jgl    Kassadin  Blue  MIDDLE         SOLO   \n",
       "26855  3766342321              Bean       Janna   Red  BOTTOM  DUO_SUPPORT   \n",
       "26856  3766342321            Kantus    Nocturne   Red  JUNGLE         NONE   \n",
       "26857  3766342321        ESB Random      Lucian   Red  MIDDLE         SOLO   \n",
       "26858  3766342321      BrokenBladeˉ       Riven   Red     TOP         SOLO   \n",
       "26859  3766342321       l am Freeze      Kai'Sa   Red  BOTTOM    DUO_CARRY   \n",
       "\n",
       "      position  \n",
       "0          MID  \n",
       "1          MID  \n",
       "2         JUNG  \n",
       "3          TOP  \n",
       "4          TOP  \n",
       "5          TOP  \n",
       "6         JUNG  \n",
       "7         SUPP  \n",
       "8          TOP  \n",
       "9          TOP  \n",
       "10         ADC  \n",
       "11         MID  \n",
       "12        SUPP  \n",
       "13         MID  \n",
       "14        JUNG  \n",
       "15         MID  \n",
       "16        JUNG  \n",
       "17         ADC  \n",
       "18         TOP  \n",
       "19        SUPP  \n",
       "20         ADC  \n",
       "21         MID  \n",
       "22        JUNG  \n",
       "23        JUNG  \n",
       "24         MID  \n",
       "25         TOP  \n",
       "26         TOP  \n",
       "27        JUNG  \n",
       "28         TOP  \n",
       "29         TOP  \n",
       "...        ...  \n",
       "26830     SUPP  \n",
       "26831      TOP  \n",
       "26832     JUNG  \n",
       "26833      MID  \n",
       "26834     SUPP  \n",
       "26835      ADC  \n",
       "26836      ADC  \n",
       "26837     SUPP  \n",
       "26838     JUNG  \n",
       "26839      MID  \n",
       "26840     SUPP  \n",
       "26841      MID  \n",
       "26842      TOP  \n",
       "26843     JUNG  \n",
       "26844     SUPP  \n",
       "26845     JUNG  \n",
       "26846      ADC  \n",
       "26847     JUNG  \n",
       "26848      MID  \n",
       "26849      ADC  \n",
       "26850      MID  \n",
       "26851      MID  \n",
       "26852      ADC  \n",
       "26853     SUPP  \n",
       "26854      ADC  \n",
       "26855      ADC  \n",
       "26856     JUNG  \n",
       "26857      ADC  \n",
       "26858     JUNG  \n",
       "26859      TOP  \n",
       "\n",
       "[26860 rows x 7 columns]"
      ]
     },
     "execution_count": 116,
     "metadata": {},
     "output_type": "execute_result"
    }
   ],
   "source": [
    "soloq_df[['gameId', 'summonerName', 'champ_name', 'side', 'lane', 'role', 'position']]"
   ]
  },
  {
   "cell_type": "markdown",
   "metadata": {},
   "source": [
    "# Predictions with only champion, role and lane info "
   ]
  },
  {
   "cell_type": "code",
   "execution_count": null,
   "metadata": {
    "collapsed": true
   },
   "outputs": [],
   "source": []
  }
 ],
 "metadata": {
  "kernelspec": {
   "display_name": "Python 3",
   "language": "python",
   "name": "python3"
  },
  "language_info": {
   "codemirror_mode": {
    "name": "ipython",
    "version": 3
   },
   "file_extension": ".py",
   "mimetype": "text/x-python",
   "name": "python",
   "nbconvert_exporter": "python",
   "pygments_lexer": "ipython3",
   "version": "3.6.1"
  }
 },
 "nbformat": 4,
 "nbformat_minor": 2
}
